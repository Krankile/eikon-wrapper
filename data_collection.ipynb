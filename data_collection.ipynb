{
 "cells": [
  {
   "cell_type": "markdown",
   "id": "3e7868a6",
   "metadata": {
    "id": "3e7868a6"
   },
   "source": [
    "# Setup"
   ]
  },
  {
   "cell_type": "code",
   "execution_count": 12,
   "id": "9e4198ca",
   "metadata": {
    "colab": {
     "base_uri": "https://localhost:8080/"
    },
    "id": "9e4198ca",
    "outputId": "b68a3433-3c83-464a-a91c-8b6feec75965"
   },
   "outputs": [
    {
     "name": "stdout",
     "output_type": "stream",
     "text": [
      "Requirement already satisfied: eikon in c:\\users\\lla24\\anaconda3\\lib\\site-packages (1.1.15)\n",
      "Requirement already satisfied: appdirs>=1.4.3 in c:\\users\\lla24\\anaconda3\\lib\\site-packages (from eikon) (1.4.4)\n",
      "Requirement already satisfied: numpy>=1.11.0 in c:\\users\\lla24\\anaconda3\\lib\\site-packages (from eikon) (1.21.5)\n",
      "Requirement already satisfied: rfc3986==1.* in c:\\users\\lla24\\anaconda3\\lib\\site-packages (from eikon) (1.5.0)\n",
      "Requirement already satisfied: h2==3.* in c:\\users\\lla24\\anaconda3\\lib\\site-packages (from eikon) (3.2.0)\n",
      "Requirement already satisfied: idna==2.* in c:\\users\\lla24\\anaconda3\\lib\\site-packages (from eikon) (2.10)\n",
      "Requirement already satisfied: pandas>=1.0.0 in c:\\users\\lla24\\anaconda3\\lib\\site-packages (from eikon) (1.4.2)\n",
      "Requirement already satisfied: datetime in c:\\users\\lla24\\anaconda3\\lib\\site-packages (from eikon) (4.5)\n",
      "Requirement already satisfied: chardet==3.* in c:\\users\\lla24\\anaconda3\\lib\\site-packages (from eikon) (3.0.4)\n",
      "Requirement already satisfied: httpx>=0.18.0 in c:\\users\\lla24\\anaconda3\\lib\\site-packages (from eikon) (0.23.0)\n",
      "Requirement already satisfied: certifi in c:\\users\\lla24\\anaconda3\\lib\\site-packages (from eikon) (2021.10.8)\n",
      "Requirement already satisfied: deprecation in c:\\users\\lla24\\anaconda3\\lib\\site-packages (from eikon) (2.1.0)\n",
      "Requirement already satisfied: python-dateutil in c:\\users\\lla24\\anaconda3\\lib\\site-packages (from eikon) (2.8.2)\n",
      "Requirement already satisfied: nest-asyncio>=1.5.1 in c:\\users\\lla24\\anaconda3\\lib\\site-packages (from eikon) (1.5.5)\n",
      "Requirement already satisfied: websocket-client!=1.0.0,>=0.54.0 in c:\\users\\lla24\\anaconda3\\lib\\site-packages (from eikon) (0.58.0)\n",
      "Requirement already satisfied: requests==2.* in c:\\users\\lla24\\anaconda3\\lib\\site-packages (from eikon) (2.27.1)\n",
      "Requirement already satisfied: hpack<4,>=3.0 in c:\\users\\lla24\\anaconda3\\lib\\site-packages (from h2==3.*->eikon) (3.0.0)\n",
      "Requirement already satisfied: hyperframe<6,>=5.2.0 in c:\\users\\lla24\\anaconda3\\lib\\site-packages (from h2==3.*->eikon) (5.2.0)\n",
      "Requirement already satisfied: charset-normalizer~=2.0.0 in c:\\users\\lla24\\anaconda3\\lib\\site-packages (from requests==2.*->eikon) (2.0.4)\n",
      "Requirement already satisfied: urllib3<1.27,>=1.21.1 in c:\\users\\lla24\\anaconda3\\lib\\site-packages (from requests==2.*->eikon) (1.26.9)\n",
      "Requirement already satisfied: sniffio in c:\\users\\lla24\\anaconda3\\lib\\site-packages (from httpx>=0.18.0->eikon) (1.2.0)\n",
      "Requirement already satisfied: httpcore<0.16.0,>=0.15.0 in c:\\users\\lla24\\anaconda3\\lib\\site-packages (from httpx>=0.18.0->eikon) (0.15.0)\n",
      "Requirement already satisfied: anyio==3.* in c:\\users\\lla24\\anaconda3\\lib\\site-packages (from httpcore<0.16.0,>=0.15.0->httpx>=0.18.0->eikon) (3.5.0)\n",
      "Requirement already satisfied: h11<0.13,>=0.11 in c:\\users\\lla24\\anaconda3\\lib\\site-packages (from httpcore<0.16.0,>=0.15.0->httpx>=0.18.0->eikon) (0.12.0)\n",
      "Requirement already satisfied: pytz>=2020.1 in c:\\users\\lla24\\anaconda3\\lib\\site-packages (from pandas>=1.0.0->eikon) (2021.3)\n",
      "Requirement already satisfied: six>=1.5 in c:\\users\\lla24\\anaconda3\\lib\\site-packages (from python-dateutil->eikon) (1.16.0)\n",
      "Requirement already satisfied: zope.interface in c:\\users\\lla24\\anaconda3\\lib\\site-packages (from datetime->eikon) (5.4.0)\n",
      "Requirement already satisfied: packaging in c:\\users\\lla24\\anaconda3\\lib\\site-packages (from deprecation->eikon) (21.3)\n",
      "Requirement already satisfied: pyparsing!=3.0.5,>=2.0.2 in c:\\users\\lla24\\anaconda3\\lib\\site-packages (from packaging->deprecation->eikon) (3.0.4)\n",
      "Requirement already satisfied: setuptools in c:\\users\\lla24\\anaconda3\\lib\\site-packages (from zope.interface->datetime->eikon) (61.2.0)\n",
      "Requirement already satisfied: more_itertools in c:\\users\\lla24\\anaconda3\\lib\\site-packages (8.13.0)\n"
     ]
    }
   ],
   "source": [
    "!pip install eikon\n",
    "!pip install more_itertools"
   ]
  },
  {
   "cell_type": "code",
   "execution_count": 13,
   "id": "b056c9a0",
   "metadata": {
    "id": "b056c9a0"
   },
   "outputs": [],
   "source": [
    "import eikon as ek\n",
    "import pandas as pd\n",
    "import numpy as np\n",
    "import time\n",
    "import os\n",
    "import glob\n",
    "from tqdm.auto import tqdm\n",
    "from more_itertools import chunked\n",
    "from math import ceil, floor"
   ]
  },
  {
   "cell_type": "code",
   "execution_count": 14,
   "id": "bd1e83d4",
   "metadata": {
    "colab": {
     "base_uri": "https://localhost:8080/"
    },
    "id": "bd1e83d4",
    "outputId": "8d1e523c-300f-4b45-b691-df05f0a69f54"
   },
   "outputs": [],
   "source": [
    "#\"api_key_lk\"\n",
    "ek.set_app_key(\"716a396b553b441680427f612d2f89735c88bf9e\")"
   ]
  },
  {
   "cell_type": "markdown",
   "id": "32835af0",
   "metadata": {
    "id": "32835af0"
   },
   "source": [
    "## Screen companies"
   ]
  },
  {
   "cell_type": "code",
   "execution_count": 15,
   "id": "bf666227",
   "metadata": {
    "id": "bf666227"
   },
   "outputs": [],
   "source": [
    "oil_osebx_screen = 'SCREEN(U(IN(Equity(active,public,primary))), TR.CompanyMarketCap>=500000, IN(TR.ExchangeMarketIdCode,\"XOSL\"), IN(TR.TRBCBusinessSectorCode,\"5010\",\"5020\",\"5030\"), CURN=USD)'\n",
    "company_names = [\"TR.CommonName\"]#[\"TR.CommonName\",\"TR.CompanyMarketCap\",\"TR.ExchangeName\",\"TR.TRBCBusinessSector\",\"TR.TotalReturn3Mo\"]\n",
    "\n",
    "osbx_companies, e = ek.get_data(oil_osebx_screen, company_names)\n",
    "osbx_companies = osbx_companies.set_index(\"Instrument\")"
   ]
  },
  {
   "cell_type": "code",
   "execution_count": 16,
   "id": "091dd0cf",
   "metadata": {
    "id": "091dd0cf"
   },
   "outputs": [],
   "source": [
    "oil_global_screen = 'SCREEN(U(IN(Equity(active,public,primary))), TR.CompanyMarketCap>=500000, IN(TR.TRBCBusinessSectorCode,\"5010\",\"5020\",\"5030\"), CURN=USD)'\n",
    "fields_oil_global_screen = [\"TR.CommonName\"]\n",
    "\n",
    "global_oil, e = ek.get_data(oil_global_screen, fields_oil_global_screen)\n",
    "global_oil = global_oil.set_index(\"Instrument\")\n"
   ]
  },
  {
   "cell_type": "code",
   "execution_count": 10,
   "id": "902ecdde",
   "metadata": {
    "id": "902ecdde"
   },
   "outputs": [
    {
     "name": "stderr",
     "output_type": "stream",
     "text": [
      "2022-08-04 16:26:58,119 P[15024] [MainThread 15004] Error code 504 | Server Error: {\"code\":504,\"message\":\"A remote server did not reply in a timely fashion. Please refer to the Data API Proxy logs for further details.\",\"statusMessage\":\"Gateway Timeout\"}\n",
      "2022-08-04 16:26:58,119 P[15024] [MainThread 15004] HTTP request failed: EikonError-Server Error: {\"code\":504,\"message\":\"A remote server did not reply in a timely fashion. Please refer to the Data API Proxy logs for further details.\",\"statusMessage\":\"Gateway Timeout\"}\n"
     ]
    },
    {
     "ename": "EikonError",
     "evalue": "Error code 504 | Server Error: {\"code\":504,\"message\":\"A remote server did not reply in a timely fashion. Please refer to the Data API Proxy logs for further details.\",\"statusMessage\":\"Gateway Timeout\"}",
     "output_type": "error",
     "traceback": [
      "\u001b[1;31m---------------------------------------------------------------------------\u001b[0m",
      "\u001b[1;31mEikonError\u001b[0m                                Traceback (most recent call last)",
      "File \u001b[1;32m~\\anaconda3\\lib\\site-packages\\eikon\\json_requests.py:127\u001b[0m, in \u001b[0;36msend_json_request\u001b[1;34m(entity, payload, debug)\u001b[0m\n\u001b[0;32m    126\u001b[0m     \u001b[38;5;28;01melse\u001b[39;00m:\n\u001b[1;32m--> 127\u001b[0m         \u001b[43m_raise_for_status\u001b[49m\u001b[43m(\u001b[49m\u001b[43mresponse\u001b[49m\u001b[43m)\u001b[49m\n\u001b[0;32m    128\u001b[0m \u001b[38;5;28;01mexcept\u001b[39;00m httpx\u001b[38;5;241m.\u001b[39mTimeoutException \u001b[38;5;28;01mas\u001b[39;00m timeout_exception:\n",
      "File \u001b[1;32m~\\anaconda3\\lib\\site-packages\\eikon\\json_requests.py:271\u001b[0m, in \u001b[0;36m_raise_for_status\u001b[1;34m(response)\u001b[0m\n\u001b[0;32m    270\u001b[0m logger\u001b[38;5;241m.\u001b[39merror(\u001b[38;5;124mu\u001b[39m\u001b[38;5;124m'\u001b[39m\u001b[38;5;124mError code \u001b[39m\u001b[38;5;132;01m{}\u001b[39;00m\u001b[38;5;124m | \u001b[39m\u001b[38;5;132;01m{}\u001b[39;00m\u001b[38;5;124m'\u001b[39m\u001b[38;5;241m.\u001b[39mformat(response\u001b[38;5;241m.\u001b[39mstatus_code, error_msg))\n\u001b[1;32m--> 271\u001b[0m \u001b[38;5;28;01mraise\u001b[39;00m EikonError(response\u001b[38;5;241m.\u001b[39mstatus_code, error_msg)\n",
      "\u001b[1;31mEikonError\u001b[0m: Error code 504 | Server Error: {\"code\":504,\"message\":\"A remote server did not reply in a timely fashion. Please refer to the Data API Proxy logs for further details.\",\"statusMessage\":\"Gateway Timeout\"}",
      "\nDuring handling of the above exception, another exception occurred:\n",
      "\u001b[1;31mEikonError\u001b[0m                                Traceback (most recent call last)",
      "Input \u001b[1;32mIn [10]\u001b[0m, in \u001b[0;36m<cell line: 4>\u001b[1;34m()\u001b[0m\n\u001b[0;32m      1\u001b[0m financial_global_screen \u001b[38;5;241m=\u001b[39m \u001b[38;5;124m'\u001b[39m\u001b[38;5;124mSCREEN(U(IN(Equity(active,public,primary))), TR.CompanyMarketCap>=500000, IN(TR.TRBCBusinessSectorCode,\u001b[39m\u001b[38;5;124m\"\u001b[39m\u001b[38;5;124m5510\u001b[39m\u001b[38;5;124m\"\u001b[39m\u001b[38;5;124m), CURN=USD)\u001b[39m\u001b[38;5;124m'\u001b[39m\n\u001b[0;32m      2\u001b[0m fields_financial_global_screen \u001b[38;5;241m=\u001b[39m [\u001b[38;5;124m\"\u001b[39m\u001b[38;5;124mTR.CommonName\u001b[39m\u001b[38;5;124m\"\u001b[39m]\n\u001b[1;32m----> 4\u001b[0m global_financial, e \u001b[38;5;241m=\u001b[39m \u001b[43mek\u001b[49m\u001b[38;5;241;43m.\u001b[39;49m\u001b[43mget_data\u001b[49m\u001b[43m(\u001b[49m\u001b[43mfinancial_global_screen\u001b[49m\u001b[43m,\u001b[49m\u001b[43m \u001b[49m\u001b[43mfields_financial_global_screen\u001b[49m\u001b[43m)\u001b[49m\n\u001b[0;32m      5\u001b[0m global_financial \u001b[38;5;241m=\u001b[39m global_financial\u001b[38;5;241m.\u001b[39mset_index(\u001b[38;5;124m\"\u001b[39m\u001b[38;5;124mInstrument\u001b[39m\u001b[38;5;124m\"\u001b[39m)\n",
      "File \u001b[1;32m~\\anaconda3\\lib\\site-packages\\eikon\\data_grid.py:190\u001b[0m, in \u001b[0;36mget_data\u001b[1;34m(instruments, fields, parameters, field_name, raw_output, debug)\u001b[0m\n\u001b[0;32m    187\u001b[0m \u001b[38;5;28;01mif\u001b[39;00m _endpoint \u001b[38;5;241m==\u001b[39m DataGridAsync_UDF_endpoint:\n\u001b[0;32m    188\u001b[0m     payload \u001b[38;5;241m=\u001b[39m {\u001b[38;5;124m'\u001b[39m\u001b[38;5;124mrequests\u001b[39m\u001b[38;5;124m'\u001b[39m: [payload]}\n\u001b[1;32m--> 190\u001b[0m result \u001b[38;5;241m=\u001b[39m \u001b[43meikon\u001b[49m\u001b[38;5;241;43m.\u001b[39;49m\u001b[43mjson_requests\u001b[49m\u001b[38;5;241;43m.\u001b[39;49m\u001b[43msend_json_request\u001b[49m\u001b[43m(\u001b[49m\u001b[43m_endpoint\u001b[49m\u001b[43m,\u001b[49m\u001b[43m \u001b[49m\u001b[43mpayload\u001b[49m\u001b[43m,\u001b[49m\u001b[43m \u001b[49m\u001b[43mdebug\u001b[49m\u001b[38;5;241;43m=\u001b[39;49m\u001b[43mdebug\u001b[49m\u001b[43m)\u001b[49m\n\u001b[0;32m    192\u001b[0m \u001b[38;5;28;01mif\u001b[39;00m result\u001b[38;5;241m.\u001b[39mget(\u001b[38;5;124m'\u001b[39m\u001b[38;5;124mresponses\u001b[39m\u001b[38;5;124m'\u001b[39m):\n\u001b[0;32m    193\u001b[0m     result \u001b[38;5;241m=\u001b[39m result[\u001b[38;5;124m'\u001b[39m\u001b[38;5;124mresponses\u001b[39m\u001b[38;5;124m'\u001b[39m][\u001b[38;5;241m0\u001b[39m]\n",
      "File \u001b[1;32m~\\anaconda3\\lib\\site-packages\\eikon\\json_requests.py:134\u001b[0m, in \u001b[0;36msend_json_request\u001b[1;34m(entity, payload, debug)\u001b[0m\n\u001b[0;32m    132\u001b[0m \u001b[38;5;28;01mexcept\u001b[39;00m EikonError \u001b[38;5;28;01mas\u001b[39;00m eikon_err:\n\u001b[0;32m    133\u001b[0m     logger\u001b[38;5;241m.\u001b[39merror(\u001b[38;5;124mf\u001b[39m\u001b[38;5;124m\"\u001b[39m\u001b[38;5;124mHTTP request failed: \u001b[39m\u001b[38;5;132;01m{\u001b[39;00m\u001b[38;5;28mtype\u001b[39m(eikon_err)\u001b[38;5;241m.\u001b[39m\u001b[38;5;18m__name__\u001b[39m\u001b[38;5;132;01m}\u001b[39;00m\u001b[38;5;124m-\u001b[39m\u001b[38;5;132;01m{\u001b[39;00meikon_err\u001b[38;5;241m.\u001b[39mmessage\u001b[38;5;132;01m}\u001b[39;00m\u001b[38;5;124m\"\u001b[39m)\n\u001b[1;32m--> 134\u001b[0m     \u001b[38;5;28;01mraise\u001b[39;00m EikonError(eikon_err\u001b[38;5;241m.\u001b[39mcode, eikon_err\u001b[38;5;241m.\u001b[39mmessage)\n\u001b[0;32m    135\u001b[0m \u001b[38;5;28;01mexcept\u001b[39;00m httpx\u001b[38;5;241m.\u001b[39mConnectTimeout \u001b[38;5;28;01mas\u001b[39;00m connect_timeout:\n\u001b[0;32m    136\u001b[0m     logger\u001b[38;5;241m.\u001b[39mdebug(\u001b[38;5;124mf\u001b[39m\u001b[38;5;124m'\u001b[39m\u001b[38;5;124mHTTP ConnectTimeout: \u001b[39m\u001b[38;5;132;01m{\u001b[39;00mconnect_timeout\u001b[38;5;132;01m}\u001b[39;00m\u001b[38;5;124m'\u001b[39m)\n",
      "\u001b[1;31mEikonError\u001b[0m: Error code 504 | Server Error: {\"code\":504,\"message\":\"A remote server did not reply in a timely fashion. Please refer to the Data API Proxy logs for further details.\",\"statusMessage\":\"Gateway Timeout\"}"
     ]
    }
   ],
   "source": [
    "financial_global_screen = 'SCREEN(U(IN(Equity(active,public,primary))), TR.CompanyMarketCap>=500000, IN(TR.TRBCBusinessSectorCode,\"5510\"), CURN=USD)'\n",
    "fields_financial_global_screen = [\"TR.CommonName\"]\n",
    "\n",
    "global_financial, e = ek.get_data(financial_global_screen, fields_financial_global_screen)\n",
    "global_financial = global_financial.set_index(\"Instrument\")"
   ]
  },
  {
   "cell_type": "markdown",
   "id": "c0ae7040",
   "metadata": {
    "id": "c0ae7040"
   },
   "source": [
    "Now we have dataframe of all noted oil companies (with mcap > USD 5m) in eikon refinitives entire database"
   ]
  },
  {
   "cell_type": "markdown",
   "id": "926ea32f",
   "metadata": {
    "id": "926ea32f"
   },
   "source": [
    "## Below are some interesting fields regarding public companies\n"
   ]
  },
  {
   "cell_type": "code",
   "execution_count": 18,
   "id": "59b709e9",
   "metadata": {},
   "outputs": [],
   "source": [
    "#Market capitalization fields \n",
    "fields = ['TR.CompanyMarketCap.Date','TR.CompanyMarketCap', 'TR.PriceClose', 'TR.CompanyMarketCap.Currency'] \n",
    "\n",
    "#Fundamental stock data fields\n",
    "profits = ['TR.TotalRevenue', 'TR.GrossProfit','TR.EBITDA','TR.EBIT', 'TR.F.NetIncAfterTax']#, 'TR.EV','MKT_CAP']\n",
    "balance = ['TR.F.TotAssets','TR.F.TotCurrAssets','TR.F.TotLiab','TR.F.TotCurrLiab','TR.F.LTDebtPctofTotAssets','TR.F.STDebtPctofTotAssets',\"TR.InvtrPriceToBook\"]#TR.F.TotLiab(Period=FY0)\n",
    "cash_flow = ['TR.F.LeveredFOCF']\n",
    "\n",
    "fundamental_data = profits + balance + cash_flow \n",
    "reported_dates = ['TR.TotalRevenue.periodenddate']\n",
    "\n",
    "#Company meta data fields\n",
    "geography = ['TR.ExchangeMarketIdCode', 'TR.HeadquartersRegionAlt', 'TR.HeadquartersCountry', 'TR.HQStateProvince']\n",
    "sectors = ['TR.TRBCEconomicSector', 'TR.TRBCBusinessSector', 'TR.TRBCIndustryGroup', 'TR.TRBCIndustry', 'TR.TRBCActivity']\n",
    "founded = ['TR.OrgFoundedYear']\n",
    "\n",
    "meta_data = geography + founded + sectors\n",
    "\n",
    "#Broker estimates\n",
    "#params_new[\"Period\"] = \"FY1\"    \n",
    "    \n",
    "fields = [\"TR.EPSMean\",\"TR.EPSMean.periodenddate\",\"TR.EBITMean\",'TR.RevenueMean',\n",
    "              \"TR.ROAMean\",\"TR.ROEMean\",\"TR.FCFMean\",\"TR.TotalAssets\",\"TR.MeanPctChg(Period=FY1,WP=60d)\"]"
   ]
  },
  {
   "cell_type": "markdown",
   "id": "99c52216",
   "metadata": {
    "id": "99c52216"
   },
   "source": [
    "# Collect data from eikon refinitiv"
   ]
  },
  {
   "cell_type": "code",
   "execution_count": 42,
   "id": "2c75ff86",
   "metadata": {},
   "outputs": [],
   "source": [
    "def get_timeseries_wrapped(tickers, fields, params):\n",
    "    return ek.get_timeseries(tickers, fields, start_date=params.get(\"SDate\"), end_date=params.get(\"EDate\"), interval=params.get(\"Frq\", \"daily\")), None"
   ]
  },
  {
   "cell_type": "code",
   "execution_count": 102,
   "id": "02431265",
   "metadata": {},
   "outputs": [],
   "source": [
    "def _decide_get_function(fields, params):\n",
    "    \n",
    "    timeseries_fields = [\"TIMESTAMP\", \"VALUE\", \"VOLUME\", \"HIGH\", \"LOW\", \"OPEN\", \"CLOSE\", \"COUNT\"]\n",
    "    \n",
    "    if isinstance(fields, str):\n",
    "        fields = [fields]\n",
    "    \n",
    "    if fields is None or all([field in timeseries_fields for field in fields]): \n",
    "        return get_timeseries_wrapped\n",
    "    \n",
    "    if \"Frq\" in params.keys():\n",
    "        if params[\"Frq\"] in [\"tick\", \"minute\", \"hour\"]:\n",
    "                raise ValueError(\"You requested data of ek.get_data() requesting timeperiods it does not support\")\n",
    "        \n",
    "    return ek.get_data"
   ]
  },
  {
   "cell_type": "code",
   "execution_count": 105,
   "id": "c141b031",
   "metadata": {},
   "outputs": [],
   "source": [
    "def correct_fields(fields):\n",
    "    if fields is None or len(fields) == 0:\n",
    "        return None\n",
    "    return fields"
   ]
  },
  {
   "cell_type": "code",
   "execution_count": 106,
   "id": "10b9bf97",
   "metadata": {},
   "outputs": [],
   "source": [
    "def correct_tickers(tickers):\n",
    "    if isinstance(tickers, str):\n",
    "        return [tickers]\n",
    "    return tickers"
   ]
  },
  {
   "cell_type": "code",
   "execution_count": 107,
   "id": "af6aaa87",
   "metadata": {},
   "outputs": [],
   "source": [
    "def correct_params(chosen_function, params):\n",
    "    correction = {\"start_date\": \"SDate\", \"end_date\":\"EDate\", \"interval\":\"Frq\"}\n",
    "    if chosen_function == ek.get_timeseries:\n",
    "        for correction_name, actual_name in correction.items():\n",
    "            if actual_name in params:\n",
    "                params[correction_name] = params[actual_name]\n",
    "            "
   ]
  },
  {
   "cell_type": "code",
   "execution_count": 108,
   "id": "24a8f999",
   "metadata": {},
   "outputs": [],
   "source": [
    "def _get_many_params(params, date_range, chosen_function):\n",
    "    if date_range is not None:\n",
    "        params_copies = []       \n",
    "        for i in range(len(date_range)-1):\n",
    "            new_params = params.copy()\n",
    "            new_params[\"SDate\"] = date_range[i].strftime('%Y-%m-%d')\n",
    "            new_params[\"EDate\"] = date_range[i+1].strftime('%Y-%m-%d')\n",
    "            correct_params(new_params, chosen_function)\n",
    "            params_copies.append(new_params)\n",
    "        return params_copies\n",
    "    return [params]"
   ]
  },
  {
   "cell_type": "code",
   "execution_count": 150,
   "id": "02a469da",
   "metadata": {},
   "outputs": [],
   "source": [
    "def _decide_tickers_and_params(chosen_function, fields, lst_of_tickers, params):\n",
    "    \n",
    "    data_limit = {get_timeseries_wrapped:2_500, ek.get_data:9_000}\n",
    "    date_range = None\n",
    "    tickers_params_pairs = []\n",
    "    \n",
    "    #If there this is not a timeseries problem\n",
    "    if \"SDate\" not in params.keys():\n",
    "        return [(lst_of_tickers, params)]\n",
    "    \n",
    "    df, err = chosen_function(lst_of_tickers[0], fields if fields is None else fields[0], params)\n",
    "    fields = df.columns\n",
    "    number_of_timepoints = df.shape[0]\n",
    "    print(f\"number_of_timepoints {number_of_timepoints}\")\n",
    "    \n",
    "    number_of_tickers_at_once = floor(data_limit[chosen_function] / (len(fields) * number_of_timepoints))\n",
    "    print(f\"number_of_tickers_at_once {number_of_tickers_at_once}\")\n",
    "    \n",
    "    if number_of_tickers_at_once < 1: \n",
    "        number_of_timepoints_at_once = floor(data_limit[chosen_function] / len(fields))\n",
    "        intervals_needed = ceil(number_of_timepoints / number_of_timepoints_at_once)\n",
    "        \n",
    "        time_delta = (pd.to_datetime(params[\"EDate\"]) - pd.to_datetime(params[\"SDate\"])) / intervals_needed\n",
    "        date_range = [pd.to_datetime(params[\"SDate\"]) + i*time_delta for i in range(intervals_needed-1)] + [pd.to_datetime(params[\"EDate\"])]\n",
    "        number_of_tickers_at_once = 1\n",
    "    \n",
    "    sub_ticker_lst = list(chunked(lst_of_tickers, number_of_tickers_at_once))\n",
    "    params_copies = _get_many_params(params, date_range, chosen_function)\n",
    "    \n",
    "    for sub_tickers in sub_ticker_lst:\n",
    "        for params_copy in params_copies:\n",
    "            tickers_params_pairs.append((sub_tickers, params_copy))\n",
    "            \n",
    "    \n",
    "    return tickers_params_pairs"
   ]
  },
  {
   "cell_type": "code",
   "execution_count": 142,
   "id": "8d27e297",
   "metadata": {
    "id": "8d27e297"
   },
   "outputs": [],
   "source": [
    "#Function to maximize data per http request. \n",
    "def _divide_pull_request(lst_of_tickers, fields, params):\n",
    "    #batch, deduce get_data or get_timeseries size given\n",
    "    #lst_of_tickers x fields x (params[start]-params[end])*freq < 10,000 or 3,000\n",
    "    #also adjust params so that they fit selected function \n",
    "    tickers = correct_tickers(lst_of_tickers)\n",
    "    chosen_function = _decide_get_function(fields, params)\n",
    "    fields = correct_fields(fields)\n",
    "    correct_params(chosen_function, params)\n",
    "    tickers_params_pairs = _decide_tickers_and_params(chosen_function, fields, tickers, params)#TODO\n",
    "    \n",
    "    return tickers_params_pairs, chosen_function, fields"
   ]
  },
  {
   "cell_type": "code",
   "execution_count": 143,
   "id": "bfb5af02",
   "metadata": {},
   "outputs": [],
   "source": [
    "def wait_time(server_side_problems):\n",
    "    return 3**(server_side_problems-1)"
   ]
  },
  {
   "cell_type": "code",
   "execution_count": 144,
   "id": "691b5134",
   "metadata": {},
   "outputs": [],
   "source": [
    "def handle_and_update_server_side_problem(server_side_problems, err):\n",
    "    server_side_problems += 1\n",
    "    print(err.message)\n",
    "    seconds_to_wait = wait_time(server_side_problems)\n",
    "    print(f\"waiting {seconds_to_wait} second(s) before new pull request...\")\n",
    "    time.sleep(wait_time(seconds_to_wait))"
   ]
  },
  {
   "cell_type": "code",
   "execution_count": 145,
   "id": "430d4da1",
   "metadata": {},
   "outputs": [],
   "source": [
    "def get_data_and_handle_errors(getting_function, tickers, fields, params):\n",
    "    ticker_and_error = None\n",
    "    \n",
    "    server_side_problems = 0\n",
    "    \n",
    "    while server_side_problems < 5: \n",
    "        \n",
    "        try:\n",
    "            #if there is only one ticker causing the error should get_and_log perhaps split call into separate tickers?\n",
    "            #fields not avalible should (and I think are) set to NA \n",
    "            new_df, err = getting_function(tickers, fields, params)\n",
    "           \n",
    "            return new_df, pd.DataFrame.from_dict({}, columns=[\"error\"], orient=\"index\")\n",
    "        \n",
    "        except ek.EikonError as err:\n",
    "            if err.code ==-1:\n",
    "                #Just general error not specified                        \n",
    "                handle_and_update_server_side_problem(server_side_problems, err)\n",
    "\n",
    "            if err.code == 408: \n",
    "                #HTTP Timeout exception, this just happens frequently... think it can be server side problem\n",
    "                handle_and_update_server_side_problem(server_side_problems, err)\n",
    "            \n",
    "            if err.code == 400 or err.code == 2504: #backend error, eikon suggest waiting this one out \n",
    "                handle_and_update_server_side_problem(server_side_problems, err)\n",
    "            \n",
    "            if err.code == 429:\n",
    "                print(err.message)\n",
    "                print(\"If this error message keeps happening, your subscription has probably collected to much data today\")\n",
    "                #either daily limit is reached or call based limit reached latter can be a problem from get_datas en\n",
    "        \n",
    "    for ticker in tickers:\n",
    "        ticker_and_error[ticker] = err \n",
    "    \n",
    "    return new_df, pd.DataFrame.from_dict(ticker_and_error, columns=[\"error\"], orient=\"index\")"
   ]
  },
  {
   "cell_type": "code",
   "execution_count": 146,
   "id": "9caae2e9",
   "metadata": {},
   "outputs": [],
   "source": [
    "def save_if_criteria_met(df, filename, count):\n",
    "    if (not count % 10 or count == -1) and filename is not None:\n",
    "        df.to_csv(filename)"
   ]
  },
  {
   "cell_type": "code",
   "execution_count": 147,
   "id": "8ae82c05",
   "metadata": {},
   "outputs": [],
   "source": [
    "def format_filename(filename):\n",
    "    if filename is None:\n",
    "        return None\n",
    "    \n",
    "    if filename[-4:] == \".csv\":\n",
    "        return filename\n",
    "    return filename + \".csv\"\n",
    "\n",
    "def format_error_filename(filename):\n",
    "    if filename is None:\n",
    "        return None\n",
    "\n",
    "    if filename[-4:] == \".csv\":\n",
    "        return filename[:-4] + \"_errors.csv\"\n",
    "    return filename + \"_errors.csv\""
   ]
  },
  {
   "cell_type": "code",
   "execution_count": 148,
   "id": "21edab25",
   "metadata": {
    "id": "21edab25"
   },
   "outputs": [],
   "source": [
    "def get_data(lst_of_tickers, fields, params, filename=None):\n",
    "    #(return or save) requested data and (return or save) non-retreived-data \n",
    "    \n",
    "    saved_df = None\n",
    "    error_df = None\n",
    "    \n",
    "    filename = format_filename(filename)\n",
    "    error_filename = format_error_filename(filename)\n",
    "    \n",
    "    tickers_params_pairs, chosen_function, fields = _divide_pull_request(lst_of_tickers, fields, params)\n",
    "    \n",
    "    for i, (tickers, param) in enumerate(tqdm(tickers_params_pairs)):  \n",
    "        \n",
    "        new_df, ticker_and_error = get_data_and_handle_errors(chosen_function, tickers, fields, param)\n",
    "        \n",
    "      \n",
    "        if saved_df is None:\n",
    "            saved_df = new_df\n",
    "            error_df = ticker_and_error\n",
    "\n",
    "        else:\n",
    "            saved_df = pd.concat([saved_df, new_df])\n",
    "            error_df = pd.concat([error_df, ticker_and_error])\n",
    "        \n",
    "        save_if_criteria_met(saved_df, filename, i)\n",
    "        save_if_criteria_met(error_df, error_filename, i)\n",
    "    \n",
    "    save_if_criteria_met(saved_df, filename, -1)\n",
    "    save_if_criteria_met(error_df, error_filename, -1)\n",
    "    \n",
    "    return saved_df, error_df"
   ]
  },
  {
   "cell_type": "code",
   "execution_count": 149,
   "id": "ed1fbf22",
   "metadata": {},
   "outputs": [
    {
     "data": {
      "application/vnd.jupyter.widget-view+json": {
       "model_id": "1d5e9ef5d71c4e77932480e80cb72250",
       "version_major": 2,
       "version_minor": 0
      },
      "text/plain": [
       "  0%|          | 0/1 [00:00<?, ?it/s]"
      ]
     },
     "metadata": {},
     "output_type": "display_data"
    },
    {
     "data": {
      "text/html": [
       "<div>\n",
       "<style scoped>\n",
       "    .dataframe tbody tr th:only-of-type {\n",
       "        vertical-align: middle;\n",
       "    }\n",
       "\n",
       "    .dataframe tbody tr th {\n",
       "        vertical-align: top;\n",
       "    }\n",
       "\n",
       "    .dataframe thead th {\n",
       "        text-align: right;\n",
       "    }\n",
       "</style>\n",
       "<table border=\"1\" class=\"dataframe\">\n",
       "  <thead>\n",
       "    <tr style=\"text-align: right;\">\n",
       "      <th></th>\n",
       "      <th>Instrument</th>\n",
       "      <th>Organization Founded Year</th>\n",
       "    </tr>\n",
       "  </thead>\n",
       "  <tbody>\n",
       "    <tr>\n",
       "      <th>0</th>\n",
       "      <td>PNX.PS</td>\n",
       "      <td>2002</td>\n",
       "    </tr>\n",
       "    <tr>\n",
       "      <th>1</th>\n",
       "      <td>NEWH.PK</td>\n",
       "      <td>2006</td>\n",
       "    </tr>\n",
       "    <tr>\n",
       "      <th>2</th>\n",
       "      <td>600403.SS</td>\n",
       "      <td>1998</td>\n",
       "    </tr>\n",
       "    <tr>\n",
       "      <th>3</th>\n",
       "      <td>GALP.LS</td>\n",
       "      <td>1999</td>\n",
       "    </tr>\n",
       "    <tr>\n",
       "      <th>4</th>\n",
       "      <td>BBLS.PK</td>\n",
       "      <td>2016</td>\n",
       "    </tr>\n",
       "    <tr>\n",
       "      <th>...</th>\n",
       "      <td>...</td>\n",
       "      <td>...</td>\n",
       "    </tr>\n",
       "    <tr>\n",
       "      <th>2022</th>\n",
       "      <td>9539.SE</td>\n",
       "      <td>1997</td>\n",
       "    </tr>\n",
       "    <tr>\n",
       "      <th>2023</th>\n",
       "      <td>SICO.JK</td>\n",
       "      <td>2007</td>\n",
       "    </tr>\n",
       "    <tr>\n",
       "      <th>2024</th>\n",
       "      <td>PROE.KL</td>\n",
       "      <td>2020</td>\n",
       "    </tr>\n",
       "    <tr>\n",
       "      <th>2025</th>\n",
       "      <td>OPAL.OQ</td>\n",
       "      <td>2022</td>\n",
       "    </tr>\n",
       "    <tr>\n",
       "      <th>2026</th>\n",
       "      <td>STRXF.PK</td>\n",
       "      <td>2021</td>\n",
       "    </tr>\n",
       "  </tbody>\n",
       "</table>\n",
       "<p>2027 rows × 2 columns</p>\n",
       "</div>"
      ],
      "text/plain": [
       "     Instrument  Organization Founded Year\n",
       "0        PNX.PS                       2002\n",
       "1       NEWH.PK                       2006\n",
       "2     600403.SS                       1998\n",
       "3       GALP.LS                       1999\n",
       "4       BBLS.PK                       2016\n",
       "...         ...                        ...\n",
       "2022    9539.SE                       1997\n",
       "2023    SICO.JK                       2007\n",
       "2024    PROE.KL                       2020\n",
       "2025    OPAL.OQ                       2022\n",
       "2026   STRXF.PK                       2021\n",
       "\n",
       "[2027 rows x 2 columns]"
      ]
     },
     "execution_count": 149,
     "metadata": {},
     "output_type": "execute_result"
    }
   ],
   "source": [
    "lst_of_tickers = global_oil.index.to_list()\n",
    "fields = ['TR.OrgFoundedYear']\n",
    "\n",
    "#Eikon parameters\n",
    "ek_params = {}\n",
    "\n",
    "df, errors = get_data(lst_of_tickers, fields, ek_params)\n",
    "df"
   ]
  },
  {
   "cell_type": "markdown",
   "id": "4c5d3a5b",
   "metadata": {},
   "source": [
    "## Example 1) Stock and fundamental data retrival"
   ]
  },
  {
   "cell_type": "markdown",
   "id": "c81737f1",
   "metadata": {},
   "source": [
    "In this example, we are interested to find Norwegian publicly traded companys fundamental data quarterly fundamental data, and its stock price, in daily format. \n",
    "\n",
    "To begin, we use a single ticker in the oil space, AKRBP.OL (which really did a \"kule\" during the spring of 2022). We find this ticker by searching for it in the eikon desktop. We are interested in its stock price possibly from 2020 and will just use get_data and hope that it hands us some interesting data without asking for specific fields. Surely, if asking for a stock, with no more information, get_data would understand that we are interested in some stock info "
   ]
  },
  {
   "cell_type": "code",
   "execution_count": 118,
   "id": "d572688a",
   "metadata": {},
   "outputs": [],
   "source": [
    "ticker = \"AKRBP.OL\"\n",
    "start_date = \"2020-01-01\"\n",
    "end_date = \"2022-05-06\" #A very nice mans birthday\n",
    "fields = None\n",
    "\n",
    "params = {\"SDate\": start_date, \"EDate\": end_date}"
   ]
  },
  {
   "cell_type": "code",
   "execution_count": 120,
   "id": "fc24f297",
   "metadata": {},
   "outputs": [
    {
     "name": "stdout",
     "output_type": "stream",
     "text": [
      "None\n",
      "None\n",
      "{'SDate': '2020-01-01', 'EDate': '2022-05-06'}\n",
      "number_of_timepoints 591\n",
      "number_of_tickers_at_once 0\n"
     ]
    },
    {
     "data": {
      "application/vnd.jupyter.widget-view+json": {
       "model_id": "64351128ecf04213b6c2600a43ffabce",
       "version_major": 2,
       "version_minor": 0
      },
      "text/plain": [
       "  0%|          | 0/1 [00:00<?, ?it/s]"
      ]
     },
     "metadata": {},
     "output_type": "display_data"
    },
    {
     "data": {
      "text/html": [
       "<div>\n",
       "<style scoped>\n",
       "    .dataframe tbody tr th:only-of-type {\n",
       "        vertical-align: middle;\n",
       "    }\n",
       "\n",
       "    .dataframe tbody tr th {\n",
       "        vertical-align: top;\n",
       "    }\n",
       "\n",
       "    .dataframe thead th {\n",
       "        text-align: right;\n",
       "    }\n",
       "</style>\n",
       "<table border=\"1\" class=\"dataframe\">\n",
       "  <thead>\n",
       "    <tr style=\"text-align: right;\">\n",
       "      <th>AKRBP.OL</th>\n",
       "      <th>HIGH</th>\n",
       "      <th>CLOSE</th>\n",
       "      <th>LOW</th>\n",
       "      <th>OPEN</th>\n",
       "      <th>VOLUME</th>\n",
       "    </tr>\n",
       "    <tr>\n",
       "      <th>Date</th>\n",
       "      <th></th>\n",
       "      <th></th>\n",
       "      <th></th>\n",
       "      <th></th>\n",
       "      <th></th>\n",
       "    </tr>\n",
       "  </thead>\n",
       "  <tbody>\n",
       "    <tr>\n",
       "      <th>2020-01-02</th>\n",
       "      <td>293.3</td>\n",
       "      <td>289.0</td>\n",
       "      <td>287.6</td>\n",
       "      <td>288.1</td>\n",
       "      <td>580227</td>\n",
       "    </tr>\n",
       "    <tr>\n",
       "      <th>2020-01-03</th>\n",
       "      <td>295.8</td>\n",
       "      <td>292.9</td>\n",
       "      <td>291.4</td>\n",
       "      <td>293.6</td>\n",
       "      <td>553248</td>\n",
       "    </tr>\n",
       "    <tr>\n",
       "      <th>2020-01-06</th>\n",
       "      <td>297.7</td>\n",
       "      <td>296.3</td>\n",
       "      <td>292.6</td>\n",
       "      <td>297.7</td>\n",
       "      <td>513372</td>\n",
       "    </tr>\n",
       "    <tr>\n",
       "      <th>2020-01-07</th>\n",
       "      <td>297.1</td>\n",
       "      <td>295.7</td>\n",
       "      <td>293.0</td>\n",
       "      <td>294.9</td>\n",
       "      <td>618715</td>\n",
       "    </tr>\n",
       "    <tr>\n",
       "      <th>2020-01-08</th>\n",
       "      <td>297.9</td>\n",
       "      <td>295.3</td>\n",
       "      <td>294.4</td>\n",
       "      <td>297.5</td>\n",
       "      <td>672176</td>\n",
       "    </tr>\n",
       "    <tr>\n",
       "      <th>...</th>\n",
       "      <td>...</td>\n",
       "      <td>...</td>\n",
       "      <td>...</td>\n",
       "      <td>...</td>\n",
       "      <td>...</td>\n",
       "    </tr>\n",
       "    <tr>\n",
       "      <th>2022-05-02</th>\n",
       "      <td>339.7</td>\n",
       "      <td>332.2</td>\n",
       "      <td>323.4</td>\n",
       "      <td>339.7</td>\n",
       "      <td>808277</td>\n",
       "    </tr>\n",
       "    <tr>\n",
       "      <th>2022-05-03</th>\n",
       "      <td>343.2</td>\n",
       "      <td>343.2</td>\n",
       "      <td>323.5</td>\n",
       "      <td>331.0</td>\n",
       "      <td>771037</td>\n",
       "    </tr>\n",
       "    <tr>\n",
       "      <th>2022-05-04</th>\n",
       "      <td>352.1</td>\n",
       "      <td>351.0</td>\n",
       "      <td>340.9</td>\n",
       "      <td>345.0</td>\n",
       "      <td>699762</td>\n",
       "    </tr>\n",
       "    <tr>\n",
       "      <th>2022-05-05</th>\n",
       "      <td>358.3</td>\n",
       "      <td>355.5</td>\n",
       "      <td>349.3</td>\n",
       "      <td>355.9</td>\n",
       "      <td>740907</td>\n",
       "    </tr>\n",
       "    <tr>\n",
       "      <th>2022-05-06</th>\n",
       "      <td>363.0</td>\n",
       "      <td>354.8</td>\n",
       "      <td>348.7</td>\n",
       "      <td>350.0</td>\n",
       "      <td>909599</td>\n",
       "    </tr>\n",
       "  </tbody>\n",
       "</table>\n",
       "<p>591 rows × 5 columns</p>\n",
       "</div>"
      ],
      "text/plain": [
       "AKRBP.OL     HIGH  CLOSE    LOW   OPEN  VOLUME\n",
       "Date                                          \n",
       "2020-01-02  293.3  289.0  287.6  288.1  580227\n",
       "2020-01-03  295.8  292.9  291.4  293.6  553248\n",
       "2020-01-06  297.7  296.3  292.6  297.7  513372\n",
       "2020-01-07  297.1  295.7  293.0  294.9  618715\n",
       "2020-01-08  297.9  295.3  294.4  297.5  672176\n",
       "...           ...    ...    ...    ...     ...\n",
       "2022-05-02  339.7  332.2  323.4  339.7  808277\n",
       "2022-05-03  343.2  343.2  323.5  331.0  771037\n",
       "2022-05-04  352.1  351.0  340.9  345.0  699762\n",
       "2022-05-05  358.3  355.5  349.3  355.9  740907\n",
       "2022-05-06  363.0  354.8  348.7  350.0  909599\n",
       "\n",
       "[591 rows x 5 columns]"
      ]
     },
     "execution_count": 120,
     "metadata": {},
     "output_type": "execute_result"
    }
   ],
   "source": [
    "df, err = get_data(ticker, fields, params)\n",
    "df"
   ]
  },
  {
   "cell_type": "markdown",
   "id": "be29a31c",
   "metadata": {},
   "source": [
    "Wouldn't you know it. The get_data function gives us the daily stock data with also with intraday Volume. "
   ]
  },
  {
   "cell_type": "markdown",
   "id": "504cd56e",
   "metadata": {},
   "source": [
    "Now, we are interested in how the financials of AKER.BP has been during the same time window. Note that we below use frequency AND period the iterate through time on a fical quarter (FQ) manner, and returning the quarterly data at that time point (FQ0). NOTE THIS. If we do not specify period, get_data will return 4 copies of the yearly financial, one for each quarter.\n",
    "\n",
    "We use the attached [TODO NAME THIS] to find some interesting fields, or we of course could use the data item browser. "
   ]
  },
  {
   "cell_type": "code",
   "execution_count": 154,
   "id": "5663b0e1",
   "metadata": {},
   "outputs": [],
   "source": [
    "start_date = '2020-01-01'\n",
    "end_date = '2022-04-21'\n",
    "frequency = \"FQ\" #<-- we understand this intuitivly\n",
    "period = \"FQ0\" #<-- How ever, this is very important to note, needed to overwrite eikons standard of returning yearly data\n",
    "curn = \"USD\"\n",
    "\n",
    "\n",
    "profit = ['TR.TotalRevenue', 'TR.GrossProfit','TR.EBITDA','TR.EBIT', 'TR.F.NetIncAfterTax']#, 'TR.EV','MKT_CAP']\n",
    "balance = ['TR.F.TotAssets', 'TR.F.TotLiab']\n",
    "\n",
    "fields = profit + balance\n",
    "ek_params = {\"SDate\": start_date, \"EDate\": end_date, \"Frq\":frequency, \"period\":period, \"curn\":curn}"
   ]
  },
  {
   "cell_type": "code",
   "execution_count": 155,
   "id": "ea4b43bd",
   "metadata": {},
   "outputs": [
    {
     "name": "stdout",
     "output_type": "stream",
     "text": [
      "number_of_timepoints 9\n",
      "number_of_tickers_at_once 500\n"
     ]
    },
    {
     "data": {
      "application/vnd.jupyter.widget-view+json": {
       "model_id": "7290a7b9537e4b2eab087b69e248b1cf",
       "version_major": 2,
       "version_minor": 0
      },
      "text/plain": [
       "  0%|          | 0/1 [00:00<?, ?it/s]"
      ]
     },
     "metadata": {},
     "output_type": "display_data"
    },
    {
     "data": {
      "text/html": [
       "<div>\n",
       "<style scoped>\n",
       "    .dataframe tbody tr th:only-of-type {\n",
       "        vertical-align: middle;\n",
       "    }\n",
       "\n",
       "    .dataframe tbody tr th {\n",
       "        vertical-align: top;\n",
       "    }\n",
       "\n",
       "    .dataframe thead th {\n",
       "        text-align: right;\n",
       "    }\n",
       "</style>\n",
       "<table border=\"1\" class=\"dataframe\">\n",
       "  <thead>\n",
       "    <tr style=\"text-align: right;\">\n",
       "      <th></th>\n",
       "      <th>Instrument</th>\n",
       "      <th>Total Revenue</th>\n",
       "      <th>Gross Profit</th>\n",
       "      <th>EBITDA</th>\n",
       "      <th>EBIT</th>\n",
       "      <th>Net Income after Tax</th>\n",
       "      <th>Total Assets</th>\n",
       "      <th>Total Liabilities</th>\n",
       "    </tr>\n",
       "  </thead>\n",
       "  <tbody>\n",
       "    <tr>\n",
       "      <th>0</th>\n",
       "      <td>AKRBP.OL</td>\n",
       "      <td>1002672000</td>\n",
       "      <td>848400000</td>\n",
       "      <td>745169000</td>\n",
       "      <td>490153000</td>\n",
       "      <td>111550000</td>\n",
       "      <td>12226786000</td>\n",
       "      <td>9859201000</td>\n",
       "    </tr>\n",
       "    <tr>\n",
       "      <th>1</th>\n",
       "      <td>AKRBP.OL</td>\n",
       "      <td>872105000</td>\n",
       "      <td>716062000</td>\n",
       "      <td>665503000</td>\n",
       "      <td>388091000</td>\n",
       "      <td>-334734000</td>\n",
       "      <td>11727291000</td>\n",
       "      <td>9914062000</td>\n",
       "    </tr>\n",
       "    <tr>\n",
       "      <th>2</th>\n",
       "      <td>AKRBP.OL</td>\n",
       "      <td>589784000</td>\n",
       "      <td>393610000</td>\n",
       "      <td>328938000</td>\n",
       "      <td>42586000</td>\n",
       "      <td>169689000</td>\n",
       "      <td>11888584000</td>\n",
       "      <td>9976500000</td>\n",
       "    </tr>\n",
       "    <tr>\n",
       "      <th>3</th>\n",
       "      <td>AKRBP.OL</td>\n",
       "      <td>683865000</td>\n",
       "      <td>550175000</td>\n",
       "      <td>510599000</td>\n",
       "      <td>241954000</td>\n",
       "      <td>80293000</td>\n",
       "      <td>12494548000</td>\n",
       "      <td>10565910000</td>\n",
       "    </tr>\n",
       "    <tr>\n",
       "      <th>4</th>\n",
       "      <td>AKRBP.OL</td>\n",
       "      <td>833508000</td>\n",
       "      <td>691440000</td>\n",
       "      <td>622691000</td>\n",
       "      <td>333283000</td>\n",
       "      <td>129467000</td>\n",
       "      <td>12420091000</td>\n",
       "      <td>10432810000</td>\n",
       "    </tr>\n",
       "    <tr>\n",
       "      <th>5</th>\n",
       "      <td>AKRBP.OL</td>\n",
       "      <td>1133238000</td>\n",
       "      <td>957332000</td>\n",
       "      <td>878190000</td>\n",
       "      <td>620636000</td>\n",
       "      <td>127030000</td>\n",
       "      <td>12241198000</td>\n",
       "      <td>10252205000</td>\n",
       "    </tr>\n",
       "    <tr>\n",
       "      <th>6</th>\n",
       "      <td>AKRBP.OL</td>\n",
       "      <td>1123754000</td>\n",
       "      <td>965519000</td>\n",
       "      <td>854535000</td>\n",
       "      <td>614162000</td>\n",
       "      <td>153811000</td>\n",
       "      <td>13075850000</td>\n",
       "      <td>11045546000</td>\n",
       "    </tr>\n",
       "    <tr>\n",
       "      <th>7</th>\n",
       "      <td>AKRBP.OL</td>\n",
       "      <td>1562675000</td>\n",
       "      <td>1353877000</td>\n",
       "      <td>1249866000</td>\n",
       "      <td>1003019000</td>\n",
       "      <td>205834000</td>\n",
       "      <td>13582017000</td>\n",
       "      <td>11454157000</td>\n",
       "    </tr>\n",
       "    <tr>\n",
       "      <th>8</th>\n",
       "      <td>AKRBP.OL</td>\n",
       "      <td>1849080000</td>\n",
       "      <td>1646706000</td>\n",
       "      <td>1558549000</td>\n",
       "      <td>1339237000</td>\n",
       "      <td>364030000</td>\n",
       "      <td>14469895000</td>\n",
       "      <td>12128004000</td>\n",
       "    </tr>\n",
       "  </tbody>\n",
       "</table>\n",
       "</div>"
      ],
      "text/plain": [
       "  Instrument  Total Revenue  Gross Profit      EBITDA        EBIT  \\\n",
       "0   AKRBP.OL     1002672000     848400000   745169000   490153000   \n",
       "1   AKRBP.OL      872105000     716062000   665503000   388091000   \n",
       "2   AKRBP.OL      589784000     393610000   328938000    42586000   \n",
       "3   AKRBP.OL      683865000     550175000   510599000   241954000   \n",
       "4   AKRBP.OL      833508000     691440000   622691000   333283000   \n",
       "5   AKRBP.OL     1133238000     957332000   878190000   620636000   \n",
       "6   AKRBP.OL     1123754000     965519000   854535000   614162000   \n",
       "7   AKRBP.OL     1562675000    1353877000  1249866000  1003019000   \n",
       "8   AKRBP.OL     1849080000    1646706000  1558549000  1339237000   \n",
       "\n",
       "   Net Income after Tax  Total Assets  Total Liabilities  \n",
       "0             111550000   12226786000         9859201000  \n",
       "1            -334734000   11727291000         9914062000  \n",
       "2             169689000   11888584000         9976500000  \n",
       "3              80293000   12494548000        10565910000  \n",
       "4             129467000   12420091000        10432810000  \n",
       "5             127030000   12241198000        10252205000  \n",
       "6             153811000   13075850000        11045546000  \n",
       "7             205834000   13582017000        11454157000  \n",
       "8             364030000   14469895000        12128004000  "
      ]
     },
     "execution_count": 155,
     "metadata": {},
     "output_type": "execute_result"
    }
   ],
   "source": [
    "df, err = get_data(ticker, fields, ek_params)\n",
    "df"
   ]
  },
  {
   "cell_type": "markdown",
   "id": "ce133bf2",
   "metadata": {},
   "source": [
    "This is spretty fantastic! and with this our first example is complete"
   ]
  },
  {
   "cell_type": "markdown",
   "id": "e118e61a",
   "metadata": {},
   "source": [
    "## Example 2) Bond data"
   ]
  },
  {
   "cell_type": "markdown",
   "id": "2e2854f8",
   "metadata": {},
   "source": [
    "In this example, we want to collect data for a series of bonds. We want to see what they are trading at, and find other interesting information like their maturity, and principal. "
   ]
  },
  {
   "cell_type": "markdown",
   "id": "1e3ce858",
   "metadata": {},
   "source": [
    "Again, we start with a single bond and will be testing some different fields using the get_data function of this package. "
   ]
  },
  {
   "cell_type": "markdown",
   "id": "211a69c3",
   "metadata": {},
   "source": [
    "## Example 3) Macro data"
   ]
  },
  {
   "cell_type": "markdown",
   "id": "d7d6b80a",
   "metadata": {},
   "source": [
    "In this last example, we want to collect data on some interesting macro economic varibales. We want the oil price, which could feed into example 1) and we want the interest rate in the US, which is intersting given example 2) "
   ]
  },
  {
   "cell_type": "markdown",
   "id": "5d2af57c",
   "metadata": {},
   "source": [
    "This time, we start by using the eikon refinitiv desktop search tool to look up the tickers for BRT- and the US 10y rate. Again, we use the get_data function, which will under the hood use the right functionality (ek.get_timeseries) but we do not have to think about that!"
   ]
  },
  {
   "cell_type": "code",
   "execution_count": 164,
   "id": "f90305a9",
   "metadata": {},
   "outputs": [
    {
     "name": "stdout",
     "output_type": "stream",
     "text": [
      "number_of_timepoints 589\n",
      "number_of_tickers_at_once 1\n"
     ]
    },
    {
     "data": {
      "application/vnd.jupyter.widget-view+json": {
       "model_id": "e49aab1e26314908b9a6050f5764a3e0",
       "version_major": 2,
       "version_minor": 0
      },
      "text/plain": [
       "  0%|          | 0/2 [00:00<?, ?it/s]"
      ]
     },
     "metadata": {},
     "output_type": "display_data"
    }
   ],
   "source": [
    "start_date = '2020-01-01'\n",
    "end_date = '2022-04-21'\n",
    "macro_params = {\"SDate\": start_date, \"EDate\": end_date}\n",
    "\n",
    "df, err = get_data([\"US10YT=RR\", \"BRT-\"], None, params)"
   ]
  },
  {
   "cell_type": "code",
   "execution_count": 165,
   "id": "09925d5d",
   "metadata": {},
   "outputs": [
    {
     "data": {
      "text/html": [
       "<div>\n",
       "<style scoped>\n",
       "    .dataframe tbody tr th:only-of-type {\n",
       "        vertical-align: middle;\n",
       "    }\n",
       "\n",
       "    .dataframe tbody tr th {\n",
       "        vertical-align: top;\n",
       "    }\n",
       "\n",
       "    .dataframe thead th {\n",
       "        text-align: right;\n",
       "    }\n",
       "</style>\n",
       "<table border=\"1\" class=\"dataframe\">\n",
       "  <thead>\n",
       "    <tr style=\"text-align: right;\">\n",
       "      <th></th>\n",
       "      <th>HIGH</th>\n",
       "      <th>CLOSE</th>\n",
       "      <th>LOW</th>\n",
       "      <th>OPEN</th>\n",
       "      <th>VALUE</th>\n",
       "    </tr>\n",
       "    <tr>\n",
       "      <th>Date</th>\n",
       "      <th></th>\n",
       "      <th></th>\n",
       "      <th></th>\n",
       "      <th></th>\n",
       "      <th></th>\n",
       "    </tr>\n",
       "  </thead>\n",
       "  <tbody>\n",
       "    <tr>\n",
       "      <th>2020-01-02</th>\n",
       "      <td>1.946</td>\n",
       "      <td>1.882</td>\n",
       "      <td>1.851</td>\n",
       "      <td>1.919</td>\n",
       "      <td>&lt;NA&gt;</td>\n",
       "    </tr>\n",
       "    <tr>\n",
       "      <th>2020-01-03</th>\n",
       "      <td>1.844</td>\n",
       "      <td>1.788</td>\n",
       "      <td>1.786</td>\n",
       "      <td>1.842</td>\n",
       "      <td>&lt;NA&gt;</td>\n",
       "    </tr>\n",
       "    <tr>\n",
       "      <th>2020-01-06</th>\n",
       "      <td>1.816</td>\n",
       "      <td>1.811</td>\n",
       "      <td>1.76</td>\n",
       "      <td>1.769</td>\n",
       "      <td>&lt;NA&gt;</td>\n",
       "    </tr>\n",
       "    <tr>\n",
       "      <th>2020-01-07</th>\n",
       "      <td>1.828</td>\n",
       "      <td>1.825</td>\n",
       "      <td>1.795</td>\n",
       "      <td>1.813</td>\n",
       "      <td>&lt;NA&gt;</td>\n",
       "    </tr>\n",
       "    <tr>\n",
       "      <th>2020-01-08</th>\n",
       "      <td>1.877</td>\n",
       "      <td>1.874</td>\n",
       "      <td>1.705</td>\n",
       "      <td>1.767</td>\n",
       "      <td>&lt;NA&gt;</td>\n",
       "    </tr>\n",
       "    <tr>\n",
       "      <th>...</th>\n",
       "      <td>...</td>\n",
       "      <td>...</td>\n",
       "      <td>...</td>\n",
       "      <td>...</td>\n",
       "      <td>...</td>\n",
       "    </tr>\n",
       "    <tr>\n",
       "      <th>2022-04-29</th>\n",
       "      <td>&lt;NA&gt;</td>\n",
       "      <td>107.28</td>\n",
       "      <td>&lt;NA&gt;</td>\n",
       "      <td>&lt;NA&gt;</td>\n",
       "      <td>107.28</td>\n",
       "    </tr>\n",
       "    <tr>\n",
       "      <th>2022-05-03</th>\n",
       "      <td>&lt;NA&gt;</td>\n",
       "      <td>105.79</td>\n",
       "      <td>&lt;NA&gt;</td>\n",
       "      <td>&lt;NA&gt;</td>\n",
       "      <td>105.79</td>\n",
       "    </tr>\n",
       "    <tr>\n",
       "      <th>2022-05-04</th>\n",
       "      <td>&lt;NA&gt;</td>\n",
       "      <td>108.74</td>\n",
       "      <td>&lt;NA&gt;</td>\n",
       "      <td>&lt;NA&gt;</td>\n",
       "      <td>108.74</td>\n",
       "    </tr>\n",
       "    <tr>\n",
       "      <th>2022-05-05</th>\n",
       "      <td>&lt;NA&gt;</td>\n",
       "      <td>112.71</td>\n",
       "      <td>&lt;NA&gt;</td>\n",
       "      <td>&lt;NA&gt;</td>\n",
       "      <td>112.71</td>\n",
       "    </tr>\n",
       "    <tr>\n",
       "      <th>2022-05-06</th>\n",
       "      <td>&lt;NA&gt;</td>\n",
       "      <td>114.91</td>\n",
       "      <td>&lt;NA&gt;</td>\n",
       "      <td>&lt;NA&gt;</td>\n",
       "      <td>114.91</td>\n",
       "    </tr>\n",
       "  </tbody>\n",
       "</table>\n",
       "<p>1183 rows × 5 columns</p>\n",
       "</div>"
      ],
      "text/plain": [
       "             HIGH   CLOSE    LOW   OPEN   VALUE\n",
       "Date                                           \n",
       "2020-01-02  1.946   1.882  1.851  1.919    <NA>\n",
       "2020-01-03  1.844   1.788  1.786  1.842    <NA>\n",
       "2020-01-06  1.816   1.811   1.76  1.769    <NA>\n",
       "2020-01-07  1.828   1.825  1.795  1.813    <NA>\n",
       "2020-01-08  1.877   1.874  1.705  1.767    <NA>\n",
       "...           ...     ...    ...    ...     ...\n",
       "2022-04-29   <NA>  107.28   <NA>   <NA>  107.28\n",
       "2022-05-03   <NA>  105.79   <NA>   <NA>  105.79\n",
       "2022-05-04   <NA>  108.74   <NA>   <NA>  108.74\n",
       "2022-05-05   <NA>  112.71   <NA>   <NA>  112.71\n",
       "2022-05-06   <NA>  114.91   <NA>   <NA>  114.91\n",
       "\n",
       "[1183 rows x 5 columns]"
      ]
     },
     "execution_count": 165,
     "metadata": {},
     "output_type": "execute_result"
    }
   ],
   "source": [
    "df"
   ]
  },
  {
   "cell_type": "code",
   "execution_count": 167,
   "id": "ee89a060",
   "metadata": {},
   "outputs": [
    {
     "name": "stdout",
     "output_type": "stream",
     "text": [
      "number_of_timepoints 9\n",
      "number_of_tickers_at_once 500\n"
     ]
    },
    {
     "data": {
      "application/vnd.jupyter.widget-view+json": {
       "model_id": "a6d9ada7fb49476ca2f6d78078e226c5",
       "version_major": 2,
       "version_minor": 0
      },
      "text/plain": [
       "  0%|          | 0/1 [00:00<?, ?it/s]"
      ]
     },
     "metadata": {},
     "output_type": "display_data"
    }
   ],
   "source": [
    "df, err = get_data(global_oil.index[:3], profits, ek_params)"
   ]
  },
  {
   "cell_type": "code",
   "execution_count": null,
   "id": "6448c590",
   "metadata": {},
   "outputs": [],
   "source": []
  }
 ],
 "metadata": {
  "colab": {
   "name": "data_collection.ipynb",
   "provenance": []
  },
  "kernelspec": {
   "display_name": "Python 3 (ipykernel)",
   "language": "python",
   "name": "python3"
  },
  "language_info": {
   "codemirror_mode": {
    "name": "ipython",
    "version": 3
   },
   "file_extension": ".py",
   "mimetype": "text/x-python",
   "name": "python",
   "nbconvert_exporter": "python",
   "pygments_lexer": "ipython3",
   "version": "3.9.12"
  }
 },
 "nbformat": 4,
 "nbformat_minor": 5
}
