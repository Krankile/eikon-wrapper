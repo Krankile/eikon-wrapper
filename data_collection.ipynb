{
 "cells": [
  {
   "cell_type": "markdown",
   "id": "3e7868a6",
   "metadata": {
    "id": "3e7868a6"
   },
   "source": [
    "# 0. Setup"
   ]
  },
  {
   "cell_type": "code",
   "execution_count": 1,
   "id": "9e4198ca",
   "metadata": {
    "colab": {
     "base_uri": "https://localhost:8080/"
    },
    "id": "9e4198ca",
    "outputId": "b68a3433-3c83-464a-a91c-8b6feec75965"
   },
   "outputs": [],
   "source": [
    "%%capture\n",
    "!pip install eikon\n",
    "!pip install more_itertools"
   ]
  },
  {
   "cell_type": "code",
   "execution_count": 178,
   "id": "b056c9a0",
   "metadata": {
    "id": "b056c9a0"
   },
   "outputs": [],
   "source": [
    "import eikon as ek\n",
    "from datetime import datetime\n",
    "from eikon_wrapper import get_data"
   ]
  },
  {
   "cell_type": "code",
   "execution_count": 3,
   "id": "bd1e83d4",
   "metadata": {
    "colab": {
     "base_uri": "https://localhost:8080/"
    },
    "id": "bd1e83d4",
    "outputId": "8d1e523c-300f-4b45-b691-df05f0a69f54"
   },
   "outputs": [],
   "source": [
    "# Set the app key created at \"api_key_lk\" in Eikon (see readme for details)\n",
    "ek.set_app_key(\"716a396b553b441680427f612d2f89735c88bf9e\")"
   ]
  },
  {
   "cell_type": "markdown",
   "id": "926ea32f",
   "metadata": {
    "id": "926ea32f"
   },
   "source": [
    "# 1. Interesting Eikon Data Items\n",
    "\n",
    "The below is a collection of some Data Items from the Eikon platform we've found useful. Also refer to Fosse (2022) for more items regarding bonds."
   ]
  },
  {
   "cell_type": "code",
   "execution_count": 136,
   "id": "59b709e9",
   "metadata": {},
   "outputs": [],
   "source": [
    "#Market capitalization fields \n",
    "fields = ['TR.CompanyMarketCap.Date','TR.CompanyMarketCap', 'TR.PriceClose', 'TR.CompanyMarketCap.Currency'] \n",
    "\n",
    "#Fundamental stock data fields\n",
    "profits = ['TR.TotalRevenue', 'TR.GrossProfit','TR.EBITDA','TR.EBIT', 'TR.F.NetIncAfterTax']#, 'TR.EV','MKT_CAP']\n",
    "balance = ['TR.F.TotAssets','TR.F.TotCurrAssets','TR.F.TotLiab','TR.F.TotCurrLiab', 'TR.F.LTDebtPctofTotAssets','TR.F.STDebtPctofTotAssets',\"TR.InvtrPriceToBook\"]#TR.F.TotLiab(Period=FY0)\n",
    "cash_flow = ['TR.F.LeveredFOCF']\n",
    "\n",
    "fundamental_data = profits + balance + cash_flow \n",
    "reported_dates = ['TR.TotalRevenue.periodenddate']\n",
    "\n",
    "#Company meta data fields\n",
    "geography = ['TR.ExchangeMarketIdCode', 'TR.HeadquartersRegionAlt', 'TR.HeadquartersCountry', 'TR.HQStateProvince']\n",
    "sectors = ['TR.TRBCEconomicSector', 'TR.TRBCBusinessSector', 'TR.TRBCIndustryGroup', 'TR.TRBCIndustry', 'TR.TRBCActivity']\n",
    "founded = ['TR.OrgFoundedYear']\n",
    "\n",
    "meta_data = geography + founded + sectors\n",
    "\n",
    "#Broker estimates\n",
    "#params_new[\"Period\"] = \"FY1\"    \n",
    "\n",
    "fields = [\"TR.EPSMean\",\"TR.EPSMean.periodenddate\",\"TR.EBITMean\",'TR.RevenueMean',\n",
    "              \"TR.ROAMean\",\"TR.ROEMean\",\"TR.FCFMean\",\"TR.TotalAssets\",\"TR.MeanPctChg(Period=FY1,WP=60d)\"]"
   ]
  },
  {
   "cell_type": "markdown",
   "id": "b9760ae7",
   "metadata": {},
   "source": [
    "# 2. Examples"
   ]
  },
  {
   "cell_type": "markdown",
   "id": "bec0b74b",
   "metadata": {
    "id": "32835af0"
   },
   "source": [
    "## Example 0) Screen companies\n",
    "\n",
    "Below, we've created a couple of simple screens we used outselves in our Master's thesis. The first one gets all Norwegian oil-related companies, the second gets all global oil-related companies, and the last gets all global financial companies (all with some extra criterias)."
   ]
  },
  {
   "cell_type": "code",
   "execution_count": 179,
   "id": "746683b6",
   "metadata": {},
   "outputs": [],
   "source": [
    "# For all these screens, we're only interested in the names of the companies\n",
    "# (to inspect what companies come out)\n",
    "company_names = [\"TR.CommonName\"]"
   ]
  },
  {
   "cell_type": "code",
   "execution_count": 180,
   "id": "830f9639",
   "metadata": {
    "id": "bf666227",
    "scrolled": true
   },
   "outputs": [
    {
     "data": {
      "application/vnd.jupyter.widget-view+json": {
       "model_id": "9406be8e54c24c3795628d3b08dcc2ca",
       "version_major": 2,
       "version_minor": 0
      },
      "text/plain": [
       "Ticker:   0%|          | 0/1 [00:00<?, ?it/s]"
      ]
     },
     "metadata": {},
     "output_type": "display_data"
    },
    {
     "name": "stdout",
     "output_type": "stream",
     "text": [
      "Number of companies: 46\n"
     ]
    },
    {
     "data": {
      "text/html": [
       "<div>\n",
       "<style scoped>\n",
       "    .dataframe tbody tr th:only-of-type {\n",
       "        vertical-align: middle;\n",
       "    }\n",
       "\n",
       "    .dataframe tbody tr th {\n",
       "        vertical-align: top;\n",
       "    }\n",
       "\n",
       "    .dataframe thead th {\n",
       "        text-align: right;\n",
       "    }\n",
       "</style>\n",
       "<table border=\"1\" class=\"dataframe\">\n",
       "  <thead>\n",
       "    <tr style=\"text-align: right;\">\n",
       "      <th></th>\n",
       "      <th>Company Common Name</th>\n",
       "    </tr>\n",
       "    <tr>\n",
       "      <th>Instrument</th>\n",
       "      <th></th>\n",
       "    </tr>\n",
       "  </thead>\n",
       "  <tbody>\n",
       "    <tr>\n",
       "      <th>SOFF.OL</th>\n",
       "      <td>Solstad Offshore ASA</td>\n",
       "    </tr>\n",
       "    <tr>\n",
       "      <th>TGS.OL</th>\n",
       "      <td>TGS ASA</td>\n",
       "    </tr>\n",
       "    <tr>\n",
       "      <th>BONHR.OL</th>\n",
       "      <td>Bonheur ASA</td>\n",
       "    </tr>\n",
       "    <tr>\n",
       "      <th>DNO.OL</th>\n",
       "      <td>Dno ASA</td>\n",
       "    </tr>\n",
       "    <tr>\n",
       "      <th>BWO.OL</th>\n",
       "      <td>BW Offshore Ltd</td>\n",
       "    </tr>\n",
       "  </tbody>\n",
       "</table>\n",
       "</div>"
      ],
      "text/plain": [
       "             Company Common Name\n",
       "Instrument                      \n",
       "SOFF.OL     Solstad Offshore ASA\n",
       "TGS.OL                   TGS ASA\n",
       "BONHR.OL             Bonheur ASA\n",
       "DNO.OL                   Dno ASA\n",
       "BWO.OL           BW Offshore Ltd"
      ]
     },
     "execution_count": 180,
     "metadata": {},
     "output_type": "execute_result"
    }
   ],
   "source": [
    "# Norwegian oil companies\n",
    "# First create the screening string (see the readme for more on this)\n",
    "oil_osebx_screen = 'SCREEN(U(IN(Equity(active,public,primary))),' \\\n",
    "    'TR.CompanyMarketCap>=500000, IN(TR.ExchangeMarketIdCode,\"XOSL\"),'\\\n",
    "    'IN(TR.TRBCBusinessSectorCode,\"5010\",\"5020\",\"5030\"), CURN=USD)'\n",
    "\n",
    "# Get companies in screen and show the first 5\n",
    "osbx_companies, e = get_data(oil_osebx_screen, company_names, {})\n",
    "osbx_companies = osbx_companies.set_index(\"Instrument\"); print(f\"Number of companies: {osbx_companies.shape[0]}\")\n",
    "osbx_companies.head(5)"
   ]
  },
  {
   "cell_type": "code",
   "execution_count": 181,
   "id": "b1cbef7f",
   "metadata": {
    "id": "091dd0cf"
   },
   "outputs": [
    {
     "data": {
      "application/vnd.jupyter.widget-view+json": {
       "model_id": "44b01c74b81f472daaa6513ab99512c3",
       "version_major": 2,
       "version_minor": 0
      },
      "text/plain": [
       "Ticker:   0%|          | 0/1 [00:00<?, ?it/s]"
      ]
     },
     "metadata": {},
     "output_type": "display_data"
    },
    {
     "name": "stdout",
     "output_type": "stream",
     "text": [
      "Number of companies: 2028\n"
     ]
    },
    {
     "data": {
      "text/html": [
       "<div>\n",
       "<style scoped>\n",
       "    .dataframe tbody tr th:only-of-type {\n",
       "        vertical-align: middle;\n",
       "    }\n",
       "\n",
       "    .dataframe tbody tr th {\n",
       "        vertical-align: top;\n",
       "    }\n",
       "\n",
       "    .dataframe thead th {\n",
       "        text-align: right;\n",
       "    }\n",
       "</style>\n",
       "<table border=\"1\" class=\"dataframe\">\n",
       "  <thead>\n",
       "    <tr style=\"text-align: right;\">\n",
       "      <th></th>\n",
       "      <th>Company Common Name</th>\n",
       "    </tr>\n",
       "    <tr>\n",
       "      <th>Instrument</th>\n",
       "      <th></th>\n",
       "    </tr>\n",
       "  </thead>\n",
       "  <tbody>\n",
       "    <tr>\n",
       "      <th>PNX.PS</th>\n",
       "      <td>Phoenix Petroleum Philippines Inc</td>\n",
       "    </tr>\n",
       "    <tr>\n",
       "      <th>NEWH.PK</th>\n",
       "      <td>NewHydrogen Inc</td>\n",
       "    </tr>\n",
       "    <tr>\n",
       "      <th>OMVV.VI</th>\n",
       "      <td>OMV AG</td>\n",
       "    </tr>\n",
       "    <tr>\n",
       "      <th>600403.SS</th>\n",
       "      <td>Henan Dayou Energy Co Ltd</td>\n",
       "    </tr>\n",
       "    <tr>\n",
       "      <th>GALP.LS</th>\n",
       "      <td>Galp Energia SGPS SA</td>\n",
       "    </tr>\n",
       "  </tbody>\n",
       "</table>\n",
       "</div>"
      ],
      "text/plain": [
       "                          Company Common Name\n",
       "Instrument                                   \n",
       "PNX.PS      Phoenix Petroleum Philippines Inc\n",
       "NEWH.PK                       NewHydrogen Inc\n",
       "OMVV.VI                                OMV AG\n",
       "600403.SS           Henan Dayou Energy Co Ltd\n",
       "GALP.LS                  Galp Energia SGPS SA"
      ]
     },
     "execution_count": 181,
     "metadata": {},
     "output_type": "execute_result"
    }
   ],
   "source": [
    "# Global oil companies\n",
    "oil_global_screen = 'SCREEN(U(IN(Equity(active,public,primary))),'\\\n",
    "    'TR.CompanyMarketCap>=500000, IN(TR.TRBCBusinessSectorCode,\"5010\",\"5020\",\"5030\"), CURN=USD)'\n",
    "\n",
    "\n",
    "# Get and show data\n",
    "global_oil, e = get_data(oil_global_screen, company_names, {})\n",
    "global_oil = global_oil.set_index(\"Instrument\"); print(f\"Number of companies: {global_oil.shape[0]}\")\n",
    "global_oil.head(5)"
   ]
  },
  {
   "cell_type": "code",
   "execution_count": 182,
   "id": "8901b119",
   "metadata": {
    "id": "902ecdde"
   },
   "outputs": [
    {
     "name": "stdout",
     "output_type": "stream",
     "text": [
      "Number of companies: 4602\n"
     ]
    },
    {
     "data": {
      "text/html": [
       "<div>\n",
       "<style scoped>\n",
       "    .dataframe tbody tr th:only-of-type {\n",
       "        vertical-align: middle;\n",
       "    }\n",
       "\n",
       "    .dataframe tbody tr th {\n",
       "        vertical-align: top;\n",
       "    }\n",
       "\n",
       "    .dataframe thead th {\n",
       "        text-align: right;\n",
       "    }\n",
       "</style>\n",
       "<table border=\"1\" class=\"dataframe\">\n",
       "  <thead>\n",
       "    <tr style=\"text-align: right;\">\n",
       "      <th></th>\n",
       "      <th>Company Common Name</th>\n",
       "    </tr>\n",
       "    <tr>\n",
       "      <th>Instrument</th>\n",
       "      <th></th>\n",
       "    </tr>\n",
       "  </thead>\n",
       "  <tbody>\n",
       "    <tr>\n",
       "      <th>KAER.VI</th>\n",
       "      <td>BKS Bank AG</td>\n",
       "    </tr>\n",
       "    <tr>\n",
       "      <th>TIRO.VI</th>\n",
       "      <td>Bank fuer Tirol und Vorarlberg AG</td>\n",
       "    </tr>\n",
       "    <tr>\n",
       "      <th>000416.SZ</th>\n",
       "      <td>Minsheng Holdings Co Ltd</td>\n",
       "    </tr>\n",
       "    <tr>\n",
       "      <th>NEDJ.J</th>\n",
       "      <td>Nedbank Group Ltd</td>\n",
       "    </tr>\n",
       "    <tr>\n",
       "      <th>SBKJ.J</th>\n",
       "      <td>Standard Bank Group Ltd</td>\n",
       "    </tr>\n",
       "  </tbody>\n",
       "</table>\n",
       "</div>"
      ],
      "text/plain": [
       "                          Company Common Name\n",
       "Instrument                                   \n",
       "KAER.VI                           BKS Bank AG\n",
       "TIRO.VI     Bank fuer Tirol und Vorarlberg AG\n",
       "000416.SZ            Minsheng Holdings Co Ltd\n",
       "NEDJ.J                      Nedbank Group Ltd\n",
       "SBKJ.J                Standard Bank Group Ltd"
      ]
     },
     "execution_count": 182,
     "metadata": {},
     "output_type": "execute_result"
    }
   ],
   "source": [
    "# Global financial companies\n",
    "financial_global_screen = 'SCREEN(U(IN(Equity(active,public,primary))),'\\\n",
    "    'TR.CompanyMarketCap>=500000, IN(TR.TRBCBusinessSectorCode,\"5510\"), CURN=USD)'\n",
    "\n",
    "global_financial, e = ek.get_data(financial_global_screen, company_names, {})\n",
    "global_financial = global_financial.set_index(\"Instrument\"); print(f\"Number of companies: {global_financial.shape[0]}\")\n",
    "global_financial.head(5)"
   ]
  },
  {
   "cell_type": "markdown",
   "id": "4c5d3a5b",
   "metadata": {},
   "source": [
    "## Example 1) Stock and fundamental data retrival"
   ]
  },
  {
   "cell_type": "markdown",
   "id": "f8302475",
   "metadata": {},
   "source": [
    "### Founded year for oil companies\n",
    "\n",
    "To get started, we'll start with a simple example where we get the years the global oil companies were founded. In short, we first create a list of tickers from the screens above. Then, we define what fields we're interested in, then we fetch the data.\n",
    "\n",
    "Please note in the data frame result that `PUMA.LZ` do not have a year. Already, we see that Eikon suffers from faulty or missing data. Please use this example as a warning to always inspect the data you get from Eikon because there can always be faults with the data from Eikon's side."
   ]
  },
  {
   "cell_type": "code",
   "execution_count": 183,
   "id": "ed1fbf22",
   "metadata": {},
   "outputs": [
    {
     "data": {
      "application/vnd.jupyter.widget-view+json": {
       "model_id": "9721840b542c4e078d646aa24378c188",
       "version_major": 2,
       "version_minor": 0
      },
      "text/plain": [
       "Ticker:   0%|          | 0/1 [00:00<?, ?it/s]"
      ]
     },
     "metadata": {},
     "output_type": "display_data"
    },
    {
     "data": {
      "text/html": [
       "<div>\n",
       "<style scoped>\n",
       "    .dataframe tbody tr th:only-of-type {\n",
       "        vertical-align: middle;\n",
       "    }\n",
       "\n",
       "    .dataframe tbody tr th {\n",
       "        vertical-align: top;\n",
       "    }\n",
       "\n",
       "    .dataframe thead th {\n",
       "        text-align: right;\n",
       "    }\n",
       "</style>\n",
       "<table border=\"1\" class=\"dataframe\">\n",
       "  <thead>\n",
       "    <tr style=\"text-align: right;\">\n",
       "      <th></th>\n",
       "      <th>Instrument</th>\n",
       "      <th>Organization Founded Year</th>\n",
       "    </tr>\n",
       "  </thead>\n",
       "  <tbody>\n",
       "    <tr>\n",
       "      <th>0</th>\n",
       "      <td>PNX.PS</td>\n",
       "      <td>2002</td>\n",
       "    </tr>\n",
       "    <tr>\n",
       "      <th>1</th>\n",
       "      <td>NEWH.PK</td>\n",
       "      <td>2006</td>\n",
       "    </tr>\n",
       "    <tr>\n",
       "      <th>2</th>\n",
       "      <td>OMVV.VI</td>\n",
       "      <td>1956</td>\n",
       "    </tr>\n",
       "    <tr>\n",
       "      <th>3</th>\n",
       "      <td>600403.SS</td>\n",
       "      <td>1998</td>\n",
       "    </tr>\n",
       "    <tr>\n",
       "      <th>4</th>\n",
       "      <td>GALP.LS</td>\n",
       "      <td>1999</td>\n",
       "    </tr>\n",
       "    <tr>\n",
       "      <th>...</th>\n",
       "      <td>...</td>\n",
       "      <td>...</td>\n",
       "    </tr>\n",
       "    <tr>\n",
       "      <th>2023</th>\n",
       "      <td>PUMA.LZ</td>\n",
       "      <td>0</td>\n",
       "    </tr>\n",
       "    <tr>\n",
       "      <th>2024</th>\n",
       "      <td>PGS.HN</td>\n",
       "      <td>2007</td>\n",
       "    </tr>\n",
       "    <tr>\n",
       "      <th>2025</th>\n",
       "      <td>PVG.HN</td>\n",
       "      <td>2007</td>\n",
       "    </tr>\n",
       "    <tr>\n",
       "      <th>2026</th>\n",
       "      <td>TPL.CN</td>\n",
       "      <td>2001</td>\n",
       "    </tr>\n",
       "    <tr>\n",
       "      <th>2027</th>\n",
       "      <td>ROYE.PK</td>\n",
       "      <td>1999</td>\n",
       "    </tr>\n",
       "  </tbody>\n",
       "</table>\n",
       "<p>2028 rows × 2 columns</p>\n",
       "</div>"
      ],
      "text/plain": [
       "     Instrument  Organization Founded Year\n",
       "0        PNX.PS                       2002\n",
       "1       NEWH.PK                       2006\n",
       "2       OMVV.VI                       1956\n",
       "3     600403.SS                       1998\n",
       "4       GALP.LS                       1999\n",
       "...         ...                        ...\n",
       "2023    PUMA.LZ                          0\n",
       "2024     PGS.HN                       2007\n",
       "2025     PVG.HN                       2007\n",
       "2026     TPL.CN                       2001\n",
       "2027    ROYE.PK                       1999\n",
       "\n",
       "[2028 rows x 2 columns]"
      ]
     },
     "execution_count": 183,
     "metadata": {},
     "output_type": "execute_result"
    }
   ],
   "source": [
    "# Tickers to get\n",
    "lst_of_tickers = global_oil.index.to_list()\n",
    "\n",
    "# Fields we want data for for the above tickers (see Data Item Browser or our/Fosse (2022)'s list of common fields)\n",
    "fields = ['TR.OrgFoundedYear']\n",
    "\n",
    "# Eikon parameters (none required as we're getting static data)\n",
    "ek_params = {}\n",
    "\n",
    "df, err = get_data(lst_of_tickers, fields, ek_params)\n",
    "df"
   ]
  },
  {
   "cell_type": "markdown",
   "id": "c81737f1",
   "metadata": {},
   "source": [
    "### Fundamental and stock price data\n",
    "\n",
    "In this example, we are interested to find global publicly traded oil companies' fundamental data quarterly fundamental data, and their stock price, in daily format. \n",
    "\n",
    "To begin, we use a single ticker in the oil space, AKRBP.OL (which really did a \"kule\" during the spring of 2022). We chose this ticker at random from the above screening result (`global_oil`). We are interested in its stock price possibly from 2020 and will just use `get_data` and hope that it hands us some interesting data without asking for specific fields. Surely, if asking for a stock, with no more information, `get_data` would understand that we are interested in stock price data. "
   ]
  },
  {
   "cell_type": "code",
   "execution_count": 184,
   "id": "d572688a",
   "metadata": {},
   "outputs": [
    {
     "name": "stdout",
     "output_type": "stream",
     "text": [
      "[INFO] Number of dates: 591\n",
      "[INFO] Number of tickers at once: 1\n",
      "[INFO] Max time window length: 357\n"
     ]
    },
    {
     "data": {
      "application/vnd.jupyter.widget-view+json": {
       "model_id": "25f49c6b7455423089864b3c75db56b9",
       "version_major": 2,
       "version_minor": 0
      },
      "text/plain": [
       "Ticker:   0%|          | 0/1 [00:00<?, ?it/s]"
      ]
     },
     "metadata": {},
     "output_type": "display_data"
    },
    {
     "data": {
      "text/html": [
       "<div>\n",
       "<style scoped>\n",
       "    .dataframe tbody tr th:only-of-type {\n",
       "        vertical-align: middle;\n",
       "    }\n",
       "\n",
       "    .dataframe tbody tr th {\n",
       "        vertical-align: top;\n",
       "    }\n",
       "\n",
       "    .dataframe thead th {\n",
       "        text-align: right;\n",
       "    }\n",
       "</style>\n",
       "<table border=\"1\" class=\"dataframe\">\n",
       "  <thead>\n",
       "    <tr style=\"text-align: right;\">\n",
       "      <th>AKRBP.OL</th>\n",
       "      <th>HIGH</th>\n",
       "      <th>CLOSE</th>\n",
       "      <th>LOW</th>\n",
       "      <th>OPEN</th>\n",
       "      <th>VOLUME</th>\n",
       "      <th>ticker</th>\n",
       "    </tr>\n",
       "    <tr>\n",
       "      <th>Date</th>\n",
       "      <th></th>\n",
       "      <th></th>\n",
       "      <th></th>\n",
       "      <th></th>\n",
       "      <th></th>\n",
       "      <th></th>\n",
       "    </tr>\n",
       "  </thead>\n",
       "  <tbody>\n",
       "    <tr>\n",
       "      <th>2020-01-02</th>\n",
       "      <td>293.3</td>\n",
       "      <td>289.0</td>\n",
       "      <td>287.6</td>\n",
       "      <td>288.1</td>\n",
       "      <td>580227</td>\n",
       "      <td>AKRBP.OL</td>\n",
       "    </tr>\n",
       "    <tr>\n",
       "      <th>2020-01-03</th>\n",
       "      <td>295.8</td>\n",
       "      <td>292.9</td>\n",
       "      <td>291.4</td>\n",
       "      <td>293.6</td>\n",
       "      <td>553248</td>\n",
       "      <td>AKRBP.OL</td>\n",
       "    </tr>\n",
       "    <tr>\n",
       "      <th>2020-01-06</th>\n",
       "      <td>297.7</td>\n",
       "      <td>296.3</td>\n",
       "      <td>292.6</td>\n",
       "      <td>297.7</td>\n",
       "      <td>513372</td>\n",
       "      <td>AKRBP.OL</td>\n",
       "    </tr>\n",
       "    <tr>\n",
       "      <th>2020-01-07</th>\n",
       "      <td>297.1</td>\n",
       "      <td>295.7</td>\n",
       "      <td>293.0</td>\n",
       "      <td>294.9</td>\n",
       "      <td>618715</td>\n",
       "      <td>AKRBP.OL</td>\n",
       "    </tr>\n",
       "    <tr>\n",
       "      <th>2020-01-08</th>\n",
       "      <td>297.9</td>\n",
       "      <td>295.3</td>\n",
       "      <td>294.4</td>\n",
       "      <td>297.5</td>\n",
       "      <td>672176</td>\n",
       "      <td>AKRBP.OL</td>\n",
       "    </tr>\n",
       "    <tr>\n",
       "      <th>...</th>\n",
       "      <td>...</td>\n",
       "      <td>...</td>\n",
       "      <td>...</td>\n",
       "      <td>...</td>\n",
       "      <td>...</td>\n",
       "      <td>...</td>\n",
       "    </tr>\n",
       "    <tr>\n",
       "      <th>2022-05-02</th>\n",
       "      <td>339.7</td>\n",
       "      <td>332.2</td>\n",
       "      <td>323.4</td>\n",
       "      <td>339.7</td>\n",
       "      <td>808277</td>\n",
       "      <td>AKRBP.OL</td>\n",
       "    </tr>\n",
       "    <tr>\n",
       "      <th>2022-05-03</th>\n",
       "      <td>343.2</td>\n",
       "      <td>343.2</td>\n",
       "      <td>323.5</td>\n",
       "      <td>331.0</td>\n",
       "      <td>771037</td>\n",
       "      <td>AKRBP.OL</td>\n",
       "    </tr>\n",
       "    <tr>\n",
       "      <th>2022-05-04</th>\n",
       "      <td>352.1</td>\n",
       "      <td>351.0</td>\n",
       "      <td>340.9</td>\n",
       "      <td>345.0</td>\n",
       "      <td>699762</td>\n",
       "      <td>AKRBP.OL</td>\n",
       "    </tr>\n",
       "    <tr>\n",
       "      <th>2022-05-05</th>\n",
       "      <td>358.3</td>\n",
       "      <td>355.5</td>\n",
       "      <td>349.3</td>\n",
       "      <td>355.9</td>\n",
       "      <td>740907</td>\n",
       "      <td>AKRBP.OL</td>\n",
       "    </tr>\n",
       "    <tr>\n",
       "      <th>2022-05-06</th>\n",
       "      <td>363.0</td>\n",
       "      <td>354.8</td>\n",
       "      <td>348.7</td>\n",
       "      <td>350.0</td>\n",
       "      <td>909599</td>\n",
       "      <td>AKRBP.OL</td>\n",
       "    </tr>\n",
       "  </tbody>\n",
       "</table>\n",
       "<p>591 rows × 6 columns</p>\n",
       "</div>"
      ],
      "text/plain": [
       "AKRBP.OL     HIGH  CLOSE    LOW   OPEN  VOLUME    ticker\n",
       "Date                                                    \n",
       "2020-01-02  293.3  289.0  287.6  288.1  580227  AKRBP.OL\n",
       "2020-01-03  295.8  292.9  291.4  293.6  553248  AKRBP.OL\n",
       "2020-01-06  297.7  296.3  292.6  297.7  513372  AKRBP.OL\n",
       "2020-01-07  297.1  295.7  293.0  294.9  618715  AKRBP.OL\n",
       "2020-01-08  297.9  295.3  294.4  297.5  672176  AKRBP.OL\n",
       "...           ...    ...    ...    ...     ...       ...\n",
       "2022-05-02  339.7  332.2  323.4  339.7  808277  AKRBP.OL\n",
       "2022-05-03  343.2  343.2  323.5  331.0  771037  AKRBP.OL\n",
       "2022-05-04  352.1  351.0  340.9  345.0  699762  AKRBP.OL\n",
       "2022-05-05  358.3  355.5  349.3  355.9  740907  AKRBP.OL\n",
       "2022-05-06  363.0  354.8  348.7  350.0  909599  AKRBP.OL\n",
       "\n",
       "[591 rows x 6 columns]"
      ]
     },
     "execution_count": 184,
     "metadata": {},
     "output_type": "execute_result"
    }
   ],
   "source": [
    "ticker = \"AKRBP.OL\"\n",
    "start_date = \"2020-01-01\"\n",
    "end_date = \"2022-05-06\" # A very nice man's birthday (according to some)\n",
    "fields = None\n",
    "\n",
    "params = {\"SDate\": start_date, \"EDate\": end_date}\n",
    "\n",
    "df, err = get_data(ticker, fields, params)\n",
    "df"
   ]
  },
  {
   "cell_type": "markdown",
   "id": "be29a31c",
   "metadata": {},
   "source": [
    "Wouldn't you know it. The `get_data` function gives us the daily stock data also with intraday Volume. "
   ]
  },
  {
   "cell_type": "markdown",
   "id": "504cd56e",
   "metadata": {},
   "source": [
    "Now, we are interested in how the financials of AKER.BP has been during the same time window. IMPORTANT NOTE ABOUT FREQUENCY:\n",
    "\n",
    "> Note that we below use frequency AND period, then iterate through time one fical quarter (`FQ`) at a time, and returning the quarterly data at that time point (`FQ0`). If we do not specify period, `get_data` will return 4 copies of the yearly financial, one for each quarter. NOTE THIS.\n",
    "\n",
    "We use the above cell with interesting fields for inspiration for what data items we could use. We, of course, could also use the Eikon Data Item Browser.\n",
    "\n",
    "And for good measure, let's turn the dial to 11 and get all of `AKER.BP`'s annual reports since the year 2000!"
   ]
  },
  {
   "cell_type": "code",
   "execution_count": 185,
   "id": "5663b0e1",
   "metadata": {},
   "outputs": [
    {
     "name": "stdout",
     "output_type": "stream",
     "text": [
      "[INFO] Number of dates: 63\n",
      "[INFO] Number of tickers at once: 1\n"
     ]
    },
    {
     "data": {
      "application/vnd.jupyter.widget-view+json": {
       "model_id": "3a1d6bb22eaf4158933a95ab4002614d",
       "version_major": 2,
       "version_minor": 0
      },
      "text/plain": [
       "Ticker:   0%|          | 0/1 [00:00<?, ?it/s]"
      ]
     },
     "metadata": {},
     "output_type": "display_data"
    },
    {
     "data": {
      "text/html": [
       "<div>\n",
       "<style scoped>\n",
       "    .dataframe tbody tr th:only-of-type {\n",
       "        vertical-align: middle;\n",
       "    }\n",
       "\n",
       "    .dataframe tbody tr th {\n",
       "        vertical-align: top;\n",
       "    }\n",
       "\n",
       "    .dataframe thead th {\n",
       "        text-align: right;\n",
       "    }\n",
       "</style>\n",
       "<table border=\"1\" class=\"dataframe\">\n",
       "  <thead>\n",
       "    <tr style=\"text-align: right;\">\n",
       "      <th></th>\n",
       "      <th>Instrument</th>\n",
       "      <th>Date</th>\n",
       "      <th>Total Revenue</th>\n",
       "      <th>Gross Profit</th>\n",
       "      <th>EBITDA</th>\n",
       "      <th>EBIT</th>\n",
       "      <th>Net Income after Tax</th>\n",
       "      <th>Total Assets</th>\n",
       "      <th>Total Liabilities</th>\n",
       "    </tr>\n",
       "  </thead>\n",
       "  <tbody>\n",
       "    <tr>\n",
       "      <th>0</th>\n",
       "      <td>AKRBP.OL</td>\n",
       "      <td>2006-06-30T00:00:00Z</td>\n",
       "      <td>0</td>\n",
       "      <td>0</td>\n",
       "      <td>0.0</td>\n",
       "      <td>0.0</td>\n",
       "      <td>320.81118</td>\n",
       "      <td>&lt;NA&gt;</td>\n",
       "      <td>&lt;NA&gt;</td>\n",
       "    </tr>\n",
       "    <tr>\n",
       "      <th>1</th>\n",
       "      <td>AKRBP.OL</td>\n",
       "      <td>2006-09-30T00:00:00Z</td>\n",
       "      <td>0</td>\n",
       "      <td>-171542</td>\n",
       "      <td>-2199210.998</td>\n",
       "      <td>-2199210.998</td>\n",
       "      <td>-498265.76248</td>\n",
       "      <td>2841282.7061</td>\n",
       "      <td>3598550.30355</td>\n",
       "    </tr>\n",
       "    <tr>\n",
       "      <th>2</th>\n",
       "      <td>AKRBP.OL</td>\n",
       "      <td>2006-12-31T00:00:00Z</td>\n",
       "      <td>0</td>\n",
       "      <td>-798794</td>\n",
       "      <td>-3575630.826</td>\n",
       "      <td>-3575630.826</td>\n",
       "      <td>-776947.04614</td>\n",
       "      <td>233608811.44911</td>\n",
       "      <td>77295116.15967</td>\n",
       "    </tr>\n",
       "    <tr>\n",
       "      <th>3</th>\n",
       "      <td>AKRBP.OL</td>\n",
       "      <td>2007-03-31T00:00:00Z</td>\n",
       "      <td>0</td>\n",
       "      <td>-541811</td>\n",
       "      <td>-3304305.06</td>\n",
       "      <td>-3304305.06</td>\n",
       "      <td>-951208.40056</td>\n",
       "      <td>220798381.52571</td>\n",
       "      <td>61525708.0825</td>\n",
       "    </tr>\n",
       "    <tr>\n",
       "      <th>4</th>\n",
       "      <td>AKRBP.OL</td>\n",
       "      <td>2007-06-30T00:00:00Z</td>\n",
       "      <td>0</td>\n",
       "      <td>-952083</td>\n",
       "      <td>-36077349.578</td>\n",
       "      <td>-36205953.274</td>\n",
       "      <td>-5792294.15342</td>\n",
       "      <td>234434930.34319</td>\n",
       "      <td>75832144.07068</td>\n",
       "    </tr>\n",
       "    <tr>\n",
       "      <th>...</th>\n",
       "      <td>...</td>\n",
       "      <td>...</td>\n",
       "      <td>...</td>\n",
       "      <td>...</td>\n",
       "      <td>...</td>\n",
       "      <td>...</td>\n",
       "      <td>...</td>\n",
       "      <td>...</td>\n",
       "      <td>...</td>\n",
       "    </tr>\n",
       "    <tr>\n",
       "      <th>58</th>\n",
       "      <td>AKRBP.OL</td>\n",
       "      <td>2020-12-31T00:00:00Z</td>\n",
       "      <td>833508000</td>\n",
       "      <td>691440000</td>\n",
       "      <td>622691000.0</td>\n",
       "      <td>333283000.0</td>\n",
       "      <td>129467000.0</td>\n",
       "      <td>12420091000.0</td>\n",
       "      <td>10432810000.0</td>\n",
       "    </tr>\n",
       "    <tr>\n",
       "      <th>59</th>\n",
       "      <td>AKRBP.OL</td>\n",
       "      <td>2021-03-31T00:00:00Z</td>\n",
       "      <td>1133238000</td>\n",
       "      <td>957332000</td>\n",
       "      <td>878190000.0</td>\n",
       "      <td>620636000.0</td>\n",
       "      <td>127030000.0</td>\n",
       "      <td>12241198000.0</td>\n",
       "      <td>10252205000.0</td>\n",
       "    </tr>\n",
       "    <tr>\n",
       "      <th>60</th>\n",
       "      <td>AKRBP.OL</td>\n",
       "      <td>2021-06-30T00:00:00Z</td>\n",
       "      <td>1123754000</td>\n",
       "      <td>965519000</td>\n",
       "      <td>854535000.0</td>\n",
       "      <td>614162000.0</td>\n",
       "      <td>153811000.0</td>\n",
       "      <td>13075850000.0</td>\n",
       "      <td>11045546000.0</td>\n",
       "    </tr>\n",
       "    <tr>\n",
       "      <th>61</th>\n",
       "      <td>AKRBP.OL</td>\n",
       "      <td>2021-09-30T00:00:00Z</td>\n",
       "      <td>1562675000</td>\n",
       "      <td>1353877000</td>\n",
       "      <td>1249866000.0</td>\n",
       "      <td>1003019000.0</td>\n",
       "      <td>205834000.0</td>\n",
       "      <td>13582017000.0</td>\n",
       "      <td>11454157000.0</td>\n",
       "    </tr>\n",
       "    <tr>\n",
       "      <th>62</th>\n",
       "      <td>AKRBP.OL</td>\n",
       "      <td>2021-12-31T00:00:00Z</td>\n",
       "      <td>1849080000</td>\n",
       "      <td>1646706000</td>\n",
       "      <td>1558549000.0</td>\n",
       "      <td>1339237000.0</td>\n",
       "      <td>364030000.0</td>\n",
       "      <td>14469895000.0</td>\n",
       "      <td>12128004000.0</td>\n",
       "    </tr>\n",
       "  </tbody>\n",
       "</table>\n",
       "<p>63 rows × 9 columns</p>\n",
       "</div>"
      ],
      "text/plain": [
       "   Instrument                  Date  Total Revenue  Gross Profit  \\\n",
       "0    AKRBP.OL  2006-06-30T00:00:00Z              0             0   \n",
       "1    AKRBP.OL  2006-09-30T00:00:00Z              0       -171542   \n",
       "2    AKRBP.OL  2006-12-31T00:00:00Z              0       -798794   \n",
       "3    AKRBP.OL  2007-03-31T00:00:00Z              0       -541811   \n",
       "4    AKRBP.OL  2007-06-30T00:00:00Z              0       -952083   \n",
       "..        ...                   ...            ...           ...   \n",
       "58   AKRBP.OL  2020-12-31T00:00:00Z      833508000     691440000   \n",
       "59   AKRBP.OL  2021-03-31T00:00:00Z     1133238000     957332000   \n",
       "60   AKRBP.OL  2021-06-30T00:00:00Z     1123754000     965519000   \n",
       "61   AKRBP.OL  2021-09-30T00:00:00Z     1562675000    1353877000   \n",
       "62   AKRBP.OL  2021-12-31T00:00:00Z     1849080000    1646706000   \n",
       "\n",
       "          EBITDA          EBIT  Net Income after Tax     Total Assets  \\\n",
       "0            0.0           0.0             320.81118             <NA>   \n",
       "1   -2199210.998  -2199210.998         -498265.76248     2841282.7061   \n",
       "2   -3575630.826  -3575630.826         -776947.04614  233608811.44911   \n",
       "3    -3304305.06   -3304305.06         -951208.40056  220798381.52571   \n",
       "4  -36077349.578 -36205953.274        -5792294.15342  234434930.34319   \n",
       "..           ...           ...                   ...              ...   \n",
       "58   622691000.0   333283000.0           129467000.0    12420091000.0   \n",
       "59   878190000.0   620636000.0           127030000.0    12241198000.0   \n",
       "60   854535000.0   614162000.0           153811000.0    13075850000.0   \n",
       "61  1249866000.0  1003019000.0           205834000.0    13582017000.0   \n",
       "62  1558549000.0  1339237000.0           364030000.0    14469895000.0   \n",
       "\n",
       "    Total Liabilities  \n",
       "0                <NA>  \n",
       "1       3598550.30355  \n",
       "2      77295116.15967  \n",
       "3       61525708.0825  \n",
       "4      75832144.07068  \n",
       "..                ...  \n",
       "58      10432810000.0  \n",
       "59      10252205000.0  \n",
       "60      11045546000.0  \n",
       "61      11454157000.0  \n",
       "62      12128004000.0  \n",
       "\n",
       "[63 rows x 9 columns]"
      ]
     },
     "execution_count": 185,
     "metadata": {},
     "output_type": "execute_result"
    }
   ],
   "source": [
    "ticker = \"AKRBP.OL\"\n",
    "\n",
    "start_date = '2000-01-01'\n",
    "end_date = '2022-04-21'\n",
    "frequency = \"FQ\"  # <-- We understand this intuitivly (refer to above note for more detail on this)\n",
    "period = \"FQ0\"  # <-- However, this is very important to note, needed to overwrite Eikon's\n",
    "                # standard of returning yearly data regardless of sampling frequency\n",
    "curn = \"USD\"  # <-- What on earth could this possibly do?!?! ;)\n",
    "\n",
    "date = ['TR.TotalRevenue.date']  # <-- Pro tip: use the date atrtibute of one of the fields included in the search\n",
    "profit = ['TR.TotalRevenue', 'TR.GrossProfit','TR.EBITDA','TR.EBIT', 'TR.F.NetIncAfterTax']\n",
    "balance = ['TR.F.TotAssets', 'TR.F.TotLiab']\n",
    "\n",
    "fields = date + profit + balance\n",
    "ek_params = {\"SDate\": start_date, \"EDate\": end_date, \"Frq\":frequency, \"period\":period, \"curn\":curn}\n",
    "             \n",
    "df, err = get_data(ticker, fields, ek_params)\n",
    "df"
   ]
  },
  {
   "cell_type": "markdown",
   "id": "ce133bf2",
   "metadata": {},
   "source": [
    "This is pretty fantastic! Just contemplate what you just did. That's 63 quarterly reports in one easy swoooosh. And with this our first example is complete. Again, please note that, e.g., `Total Revenue` is 0 for several entries here, again because Eikon is flawed. Another thing, Aker BP is the result of several mergers throughout its history (most notably the merger with BP Norway in 2016), so the financial data might behave strangely at times, so use your judgement. Always check your data!"
   ]
  },
  {
   "cell_type": "markdown",
   "id": "a582902d",
   "metadata": {},
   "source": [
    "### The grand finale\n",
    "\n",
    "Finally, let's pump this up to get this data for all oil companies in the world. See how we just change the list of tickers we're interested in and keep all other parameters constant (that's orthogonal programming for you, dear sir)."
   ]
  },
  {
   "cell_type": "code",
   "execution_count": 186,
   "id": "54c81a17",
   "metadata": {},
   "outputs": [
    {
     "name": "stdout",
     "output_type": "stream",
     "text": [
      "[INFO] Number of dates: 62\n",
      "[INFO] Number of tickers at once: 48\n"
     ]
    },
    {
     "data": {
      "application/vnd.jupyter.widget-view+json": {
       "model_id": "7dc3ef26e6fc4b67a463cb27926520d4",
       "version_major": 2,
       "version_minor": 0
      },
      "text/plain": [
       "Ticker:   0%|          | 0/43 [00:00<?, ?it/s]"
      ]
     },
     "metadata": {},
     "output_type": "display_data"
    },
    {
     "ename": "KeyboardInterrupt",
     "evalue": "",
     "output_type": "error",
     "traceback": [
      "\u001b[1;31m---------------------------------------------------------------------------\u001b[0m",
      "\u001b[1;31mKeyboardInterrupt\u001b[0m                         Traceback (most recent call last)",
      "Input \u001b[1;32mIn [186]\u001b[0m, in \u001b[0;36m<cell line: 1>\u001b[1;34m()\u001b[0m\n\u001b[1;32m----> 1\u001b[0m df, err \u001b[38;5;241m=\u001b[39m \u001b[43mget_data\u001b[49m\u001b[43m(\u001b[49m\u001b[43mglobal_oil\u001b[49m\u001b[38;5;241;43m.\u001b[39;49m\u001b[43mindex\u001b[49m\u001b[38;5;241;43m.\u001b[39;49m\u001b[43mto_list\u001b[49m\u001b[43m(\u001b[49m\u001b[43m)\u001b[49m\u001b[43m,\u001b[49m\u001b[43m \u001b[49m\u001b[43mfields\u001b[49m\u001b[43m,\u001b[49m\u001b[43m \u001b[49m\u001b[43mek_params\u001b[49m\u001b[43m)\u001b[49m\n\u001b[0;32m      2\u001b[0m df\n",
      "File \u001b[1;32m~\\OneDrive\\Documents\\eikon-wrapper\\eikon_wrapper.py:274\u001b[0m, in \u001b[0;36mget_data\u001b[1;34m(lst_of_tickers, fields, params, filename)\u001b[0m\n\u001b[0;32m    268\u001b[0m tickers_params_pairs, chosen_function, fields \u001b[38;5;241m=\u001b[39m _divide_pull_request(\n\u001b[0;32m    269\u001b[0m     lst_of_tickers, fields, params\n\u001b[0;32m    270\u001b[0m )\n\u001b[0;32m    272\u001b[0m \u001b[38;5;28;01mfor\u001b[39;00m i, (tickers, param) \u001b[38;5;129;01min\u001b[39;00m \u001b[38;5;28menumerate\u001b[39m(tqdm(tickers_params_pairs, desc\u001b[38;5;241m=\u001b[39m\u001b[38;5;124m\"\u001b[39m\u001b[38;5;124mTicker\u001b[39m\u001b[38;5;124m\"\u001b[39m)):\n\u001b[1;32m--> 274\u001b[0m     new_df, ticker_and_error \u001b[38;5;241m=\u001b[39m \u001b[43mget_data_and_handle_errors\u001b[49m\u001b[43m(\u001b[49m\n\u001b[0;32m    275\u001b[0m \u001b[43m        \u001b[49m\u001b[43mchosen_function\u001b[49m\u001b[43m,\u001b[49m\u001b[43m \u001b[49m\u001b[43mtickers\u001b[49m\u001b[43m,\u001b[49m\u001b[43m \u001b[49m\u001b[43mfields\u001b[49m\u001b[43m,\u001b[49m\u001b[43m \u001b[49m\u001b[43mparam\u001b[49m\n\u001b[0;32m    276\u001b[0m \u001b[43m    \u001b[49m\u001b[43m)\u001b[49m\n\u001b[0;32m    278\u001b[0m     \u001b[38;5;66;03m# Merge new data with the one we've already fetched\u001b[39;00m\n\u001b[0;32m    279\u001b[0m     saved_df \u001b[38;5;241m=\u001b[39m df_append(saved_df, new_df)\n",
      "File \u001b[1;32m~\\OneDrive\\Documents\\eikon-wrapper\\eikon_wrapper.py:110\u001b[0m, in \u001b[0;36mget_data_and_handle_errors\u001b[1;34m(getting_function, tickers, fields, params)\u001b[0m\n\u001b[0;32m    105\u001b[0m \u001b[38;5;28;01mwhile\u001b[39;00m server_side_problems \u001b[38;5;241m<\u001b[39m \u001b[38;5;241m5\u001b[39m:\n\u001b[0;32m    107\u001b[0m     \u001b[38;5;28;01mtry\u001b[39;00m:\n\u001b[0;32m    108\u001b[0m         \u001b[38;5;66;03m# if there is only one ticker causing the error should get_and_log perhaps split call into separate tickers?\u001b[39;00m\n\u001b[0;32m    109\u001b[0m         \u001b[38;5;66;03m# fields not avalible should (and I think are) set to NA\u001b[39;00m\n\u001b[1;32m--> 110\u001b[0m         new_df, err \u001b[38;5;241m=\u001b[39m \u001b[43mgetting_function\u001b[49m\u001b[43m(\u001b[49m\u001b[43mtickers\u001b[49m\u001b[43m,\u001b[49m\u001b[43m \u001b[49m\u001b[43mfields\u001b[49m\u001b[43m,\u001b[49m\u001b[43m \u001b[49m\u001b[43mparams\u001b[49m\u001b[43m)\u001b[49m\n\u001b[0;32m    112\u001b[0m         \u001b[38;5;28;01mreturn\u001b[39;00m new_df, pd\u001b[38;5;241m.\u001b[39mDataFrame\u001b[38;5;241m.\u001b[39mfrom_dict({}, columns\u001b[38;5;241m=\u001b[39m[\u001b[38;5;124m\"\u001b[39m\u001b[38;5;124merror\u001b[39m\u001b[38;5;124m\"\u001b[39m], orient\u001b[38;5;241m=\u001b[39m\u001b[38;5;124m\"\u001b[39m\u001b[38;5;124mindex\u001b[39m\u001b[38;5;124m\"\u001b[39m)\n\u001b[0;32m    114\u001b[0m     \u001b[38;5;28;01mexcept\u001b[39;00m ek\u001b[38;5;241m.\u001b[39mEikonError \u001b[38;5;28;01mas\u001b[39;00m err:\n",
      "File \u001b[1;32m~\\anaconda3\\lib\\site-packages\\eikon\\data_grid.py:190\u001b[0m, in \u001b[0;36mget_data\u001b[1;34m(instruments, fields, parameters, field_name, raw_output, debug)\u001b[0m\n\u001b[0;32m    187\u001b[0m \u001b[38;5;28;01mif\u001b[39;00m _endpoint \u001b[38;5;241m==\u001b[39m DataGridAsync_UDF_endpoint:\n\u001b[0;32m    188\u001b[0m     payload \u001b[38;5;241m=\u001b[39m {\u001b[38;5;124m'\u001b[39m\u001b[38;5;124mrequests\u001b[39m\u001b[38;5;124m'\u001b[39m: [payload]}\n\u001b[1;32m--> 190\u001b[0m result \u001b[38;5;241m=\u001b[39m \u001b[43meikon\u001b[49m\u001b[38;5;241;43m.\u001b[39;49m\u001b[43mjson_requests\u001b[49m\u001b[38;5;241;43m.\u001b[39;49m\u001b[43msend_json_request\u001b[49m\u001b[43m(\u001b[49m\u001b[43m_endpoint\u001b[49m\u001b[43m,\u001b[49m\u001b[43m \u001b[49m\u001b[43mpayload\u001b[49m\u001b[43m,\u001b[49m\u001b[43m \u001b[49m\u001b[43mdebug\u001b[49m\u001b[38;5;241;43m=\u001b[39;49m\u001b[43mdebug\u001b[49m\u001b[43m)\u001b[49m\n\u001b[0;32m    192\u001b[0m \u001b[38;5;28;01mif\u001b[39;00m result\u001b[38;5;241m.\u001b[39mget(\u001b[38;5;124m'\u001b[39m\u001b[38;5;124mresponses\u001b[39m\u001b[38;5;124m'\u001b[39m):\n\u001b[0;32m    193\u001b[0m     result \u001b[38;5;241m=\u001b[39m result[\u001b[38;5;124m'\u001b[39m\u001b[38;5;124mresponses\u001b[39m\u001b[38;5;124m'\u001b[39m][\u001b[38;5;241m0\u001b[39m]\n",
      "File \u001b[1;32m~\\anaconda3\\lib\\site-packages\\eikon\\json_requests.py:89\u001b[0m, in \u001b[0;36msend_json_request\u001b[1;34m(entity, payload, debug)\u001b[0m\n\u001b[0;32m     87\u001b[0m udf_request \u001b[38;5;241m=\u001b[39m {\u001b[38;5;124m'\u001b[39m\u001b[38;5;124mEntity\u001b[39m\u001b[38;5;124m'\u001b[39m: {\u001b[38;5;124m'\u001b[39m\u001b[38;5;124mE\u001b[39m\u001b[38;5;124m'\u001b[39m: entity, \u001b[38;5;124m'\u001b[39m\u001b[38;5;124mW\u001b[39m\u001b[38;5;124m'\u001b[39m: data} }\n\u001b[0;32m     88\u001b[0m logger\u001b[38;5;241m.\u001b[39mdebug(\u001b[38;5;124m'\u001b[39m\u001b[38;5;124mRequest:\u001b[39m\u001b[38;5;132;01m{}\u001b[39;00m\u001b[38;5;124m'\u001b[39m\u001b[38;5;241m.\u001b[39mformat(udf_request))\n\u001b[1;32m---> 89\u001b[0m response \u001b[38;5;241m=\u001b[39m \u001b[43mprofile\u001b[49m\u001b[38;5;241;43m.\u001b[39;49m\u001b[43msend_request\u001b[49m\u001b[43m(\u001b[49m\u001b[43mjson\u001b[49m\u001b[38;5;241;43m=\u001b[39;49m\u001b[43mudf_request\u001b[49m\u001b[43m)\u001b[49m\n\u001b[0;32m     90\u001b[0m \u001b[38;5;28;01mtry\u001b[39;00m:\n\u001b[0;32m     91\u001b[0m     logger\u001b[38;5;241m.\u001b[39mdebug(\u001b[38;5;124m'\u001b[39m\u001b[38;5;124mHTTP Response code: \u001b[39m\u001b[38;5;132;01m{}\u001b[39;00m\u001b[38;5;124m'\u001b[39m\u001b[38;5;241m.\u001b[39mformat(response\u001b[38;5;241m.\u001b[39mstatus_code))\n",
      "File \u001b[1;32m~\\anaconda3\\lib\\site-packages\\eikon\\Profile.py:348\u001b[0m, in \u001b[0;36mProfile.send_request\u001b[1;34m(self, json, timeout)\u001b[0m\n\u001b[0;32m    347\u001b[0m \u001b[38;5;28;01mdef\u001b[39;00m \u001b[38;5;21msend_request\u001b[39m(\u001b[38;5;28mself\u001b[39m, json, timeout\u001b[38;5;241m=\u001b[39m\u001b[38;5;28;01mNone\u001b[39;00m):\n\u001b[1;32m--> 348\u001b[0m     response \u001b[38;5;241m=\u001b[39m \u001b[38;5;28;43mself\u001b[39;49m\u001b[38;5;241;43m.\u001b[39;49m\u001b[43m_desktop_session\u001b[49m\u001b[38;5;241;43m.\u001b[39;49m\u001b[43mhttp_request\u001b[49m\u001b[43m(\u001b[49m\u001b[43murl\u001b[49m\u001b[38;5;241;43m=\u001b[39;49m\u001b[38;5;28;43mself\u001b[39;49m\u001b[38;5;241;43m.\u001b[39;49m\u001b[43mget_url\u001b[49m\u001b[43m(\u001b[49m\u001b[43m)\u001b[49m\u001b[43m,\u001b[49m\n\u001b[0;32m    349\u001b[0m \u001b[43m                                                  \u001b[49m\u001b[43mmethod\u001b[49m\u001b[38;5;241;43m=\u001b[39;49m\u001b[38;5;124;43m\"\u001b[39;49m\u001b[38;5;124;43mPOST\u001b[39;49m\u001b[38;5;124;43m\"\u001b[39;49m\u001b[43m,\u001b[49m\n\u001b[0;32m    350\u001b[0m \u001b[43m                                                  \u001b[49m\u001b[43mheaders\u001b[49m\u001b[38;5;241;43m=\u001b[39;49m\u001b[43m{\u001b[49m\u001b[38;5;124;43m'\u001b[39;49m\u001b[38;5;124;43mContent-Type\u001b[39;49m\u001b[38;5;124;43m'\u001b[39;49m\u001b[43m:\u001b[49m\u001b[43m \u001b[49m\u001b[38;5;124;43m'\u001b[39;49m\u001b[38;5;124;43mapplication/json\u001b[39;49m\u001b[38;5;124;43m'\u001b[39;49m\u001b[43m,\u001b[49m\n\u001b[0;32m    351\u001b[0m \u001b[43m                                                           \u001b[49m\u001b[38;5;124;43m'\u001b[39;49m\u001b[38;5;124;43mx-tr-applicationid\u001b[39;49m\u001b[38;5;124;43m'\u001b[39;49m\u001b[43m:\u001b[49m\u001b[43m \u001b[49m\u001b[38;5;28;43mself\u001b[39;49m\u001b[38;5;241;43m.\u001b[39;49m\u001b[43mget_app_key\u001b[49m\u001b[43m(\u001b[49m\u001b[43m)\u001b[49m\u001b[43m}\u001b[49m\u001b[43m,\u001b[49m\n\u001b[0;32m    352\u001b[0m \u001b[43m                                                  \u001b[49m\u001b[43mjson\u001b[49m\u001b[38;5;241;43m=\u001b[39;49m\u001b[43mjson\u001b[49m\u001b[43m,\u001b[49m\n\u001b[0;32m    353\u001b[0m \u001b[43m                                                  \u001b[49m\u001b[43mtimeout\u001b[49m\u001b[38;5;241;43m=\u001b[39;49m\u001b[43mtimeout\u001b[49m\u001b[43m)\u001b[49m\n\u001b[0;32m    354\u001b[0m     \u001b[38;5;28;01mreturn\u001b[39;00m response\n",
      "File \u001b[1;32m~\\anaconda3\\lib\\site-packages\\eikon\\streaming_session\\session.py:670\u001b[0m, in \u001b[0;36mSession.http_request\u001b[1;34m(self, url, method, headers, data, params, json, auth, loop, **kwargs)\u001b[0m\n\u001b[0;32m    668\u001b[0m \u001b[38;5;28;01mif\u001b[39;00m loop \u001b[38;5;129;01mis\u001b[39;00m \u001b[38;5;28;01mNone\u001b[39;00m:\n\u001b[0;32m    669\u001b[0m     loop \u001b[38;5;241m=\u001b[39m \u001b[38;5;28mself\u001b[39m\u001b[38;5;241m.\u001b[39m_loop\n\u001b[1;32m--> 670\u001b[0m response \u001b[38;5;241m=\u001b[39m \u001b[43mloop\u001b[49m\u001b[38;5;241;43m.\u001b[39;49m\u001b[43mrun_until_complete\u001b[49m\u001b[43m(\u001b[49m\u001b[38;5;28;43mself\u001b[39;49m\u001b[38;5;241;43m.\u001b[39;49m\u001b[43mhttp_request_async\u001b[49m\u001b[43m(\u001b[49m\u001b[43murl\u001b[49m\u001b[43m,\u001b[49m\u001b[43m \u001b[49m\u001b[43mmethod\u001b[49m\u001b[43m,\u001b[49m\u001b[43m \u001b[49m\u001b[43mheaders\u001b[49m\u001b[43m,\u001b[49m\u001b[43m \u001b[49m\u001b[43mdata\u001b[49m\u001b[43m,\u001b[49m\n\u001b[0;32m    671\u001b[0m \u001b[43m                                                           \u001b[49m\u001b[43mparams\u001b[49m\u001b[43m,\u001b[49m\u001b[43m \u001b[49m\u001b[43mjson\u001b[49m\u001b[43m,\u001b[49m\u001b[43m \u001b[49m\u001b[43mauth\u001b[49m\u001b[43m,\u001b[49m\u001b[43m \u001b[49m\u001b[38;5;241;43m*\u001b[39;49m\u001b[38;5;241;43m*\u001b[39;49m\u001b[43mkwargs\u001b[49m\u001b[43m)\u001b[49m\u001b[43m)\u001b[49m\n\u001b[0;32m    672\u001b[0m \u001b[38;5;28;01mreturn\u001b[39;00m response\n",
      "File \u001b[1;32m~\\anaconda3\\lib\\site-packages\\nest_asyncio.py:83\u001b[0m, in \u001b[0;36m_patch_loop.<locals>.run_until_complete\u001b[1;34m(self, future)\u001b[0m\n\u001b[0;32m     81\u001b[0m     f\u001b[38;5;241m.\u001b[39m_log_destroy_pending \u001b[38;5;241m=\u001b[39m \u001b[38;5;28;01mFalse\u001b[39;00m\n\u001b[0;32m     82\u001b[0m \u001b[38;5;28;01mwhile\u001b[39;00m \u001b[38;5;129;01mnot\u001b[39;00m f\u001b[38;5;241m.\u001b[39mdone():\n\u001b[1;32m---> 83\u001b[0m     \u001b[38;5;28;43mself\u001b[39;49m\u001b[38;5;241;43m.\u001b[39;49m\u001b[43m_run_once\u001b[49m\u001b[43m(\u001b[49m\u001b[43m)\u001b[49m\n\u001b[0;32m     84\u001b[0m     \u001b[38;5;28;01mif\u001b[39;00m \u001b[38;5;28mself\u001b[39m\u001b[38;5;241m.\u001b[39m_stopping:\n\u001b[0;32m     85\u001b[0m         \u001b[38;5;28;01mbreak\u001b[39;00m\n",
      "File \u001b[1;32m~\\anaconda3\\lib\\site-packages\\nest_asyncio.py:106\u001b[0m, in \u001b[0;36m_patch_loop.<locals>._run_once\u001b[1;34m(self)\u001b[0m\n\u001b[0;32m     99\u001b[0m     heappop(scheduled)\n\u001b[0;32m    101\u001b[0m timeout \u001b[38;5;241m=\u001b[39m (\n\u001b[0;32m    102\u001b[0m     \u001b[38;5;241m0\u001b[39m \u001b[38;5;28;01mif\u001b[39;00m ready \u001b[38;5;129;01mor\u001b[39;00m \u001b[38;5;28mself\u001b[39m\u001b[38;5;241m.\u001b[39m_stopping\n\u001b[0;32m    103\u001b[0m     \u001b[38;5;28;01melse\u001b[39;00m \u001b[38;5;28mmin\u001b[39m(\u001b[38;5;28mmax\u001b[39m(\n\u001b[0;32m    104\u001b[0m         scheduled[\u001b[38;5;241m0\u001b[39m]\u001b[38;5;241m.\u001b[39m_when \u001b[38;5;241m-\u001b[39m \u001b[38;5;28mself\u001b[39m\u001b[38;5;241m.\u001b[39mtime(), \u001b[38;5;241m0\u001b[39m), \u001b[38;5;241m86400\u001b[39m) \u001b[38;5;28;01mif\u001b[39;00m scheduled\n\u001b[0;32m    105\u001b[0m     \u001b[38;5;28;01melse\u001b[39;00m \u001b[38;5;28;01mNone\u001b[39;00m)\n\u001b[1;32m--> 106\u001b[0m event_list \u001b[38;5;241m=\u001b[39m \u001b[38;5;28;43mself\u001b[39;49m\u001b[38;5;241;43m.\u001b[39;49m\u001b[43m_selector\u001b[49m\u001b[38;5;241;43m.\u001b[39;49m\u001b[43mselect\u001b[49m\u001b[43m(\u001b[49m\u001b[43mtimeout\u001b[49m\u001b[43m)\u001b[49m\n\u001b[0;32m    107\u001b[0m \u001b[38;5;28mself\u001b[39m\u001b[38;5;241m.\u001b[39m_process_events(event_list)\n\u001b[0;32m    109\u001b[0m end_time \u001b[38;5;241m=\u001b[39m \u001b[38;5;28mself\u001b[39m\u001b[38;5;241m.\u001b[39mtime() \u001b[38;5;241m+\u001b[39m \u001b[38;5;28mself\u001b[39m\u001b[38;5;241m.\u001b[39m_clock_resolution\n",
      "File \u001b[1;32m~\\anaconda3\\lib\\selectors.py:324\u001b[0m, in \u001b[0;36mSelectSelector.select\u001b[1;34m(self, timeout)\u001b[0m\n\u001b[0;32m    322\u001b[0m ready \u001b[38;5;241m=\u001b[39m []\n\u001b[0;32m    323\u001b[0m \u001b[38;5;28;01mtry\u001b[39;00m:\n\u001b[1;32m--> 324\u001b[0m     r, w, _ \u001b[38;5;241m=\u001b[39m \u001b[38;5;28;43mself\u001b[39;49m\u001b[38;5;241;43m.\u001b[39;49m\u001b[43m_select\u001b[49m\u001b[43m(\u001b[49m\u001b[38;5;28;43mself\u001b[39;49m\u001b[38;5;241;43m.\u001b[39;49m\u001b[43m_readers\u001b[49m\u001b[43m,\u001b[49m\u001b[43m \u001b[49m\u001b[38;5;28;43mself\u001b[39;49m\u001b[38;5;241;43m.\u001b[39;49m\u001b[43m_writers\u001b[49m\u001b[43m,\u001b[49m\u001b[43m \u001b[49m\u001b[43m[\u001b[49m\u001b[43m]\u001b[49m\u001b[43m,\u001b[49m\u001b[43m \u001b[49m\u001b[43mtimeout\u001b[49m\u001b[43m)\u001b[49m\n\u001b[0;32m    325\u001b[0m \u001b[38;5;28;01mexcept\u001b[39;00m \u001b[38;5;167;01mInterruptedError\u001b[39;00m:\n\u001b[0;32m    326\u001b[0m     \u001b[38;5;28;01mreturn\u001b[39;00m ready\n",
      "File \u001b[1;32m~\\anaconda3\\lib\\selectors.py:315\u001b[0m, in \u001b[0;36mSelectSelector._select\u001b[1;34m(self, r, w, _, timeout)\u001b[0m\n\u001b[0;32m    314\u001b[0m \u001b[38;5;28;01mdef\u001b[39;00m \u001b[38;5;21m_select\u001b[39m(\u001b[38;5;28mself\u001b[39m, r, w, _, timeout\u001b[38;5;241m=\u001b[39m\u001b[38;5;28;01mNone\u001b[39;00m):\n\u001b[1;32m--> 315\u001b[0m     r, w, x \u001b[38;5;241m=\u001b[39m \u001b[43mselect\u001b[49m\u001b[38;5;241;43m.\u001b[39;49m\u001b[43mselect\u001b[49m\u001b[43m(\u001b[49m\u001b[43mr\u001b[49m\u001b[43m,\u001b[49m\u001b[43m \u001b[49m\u001b[43mw\u001b[49m\u001b[43m,\u001b[49m\u001b[43m \u001b[49m\u001b[43mw\u001b[49m\u001b[43m,\u001b[49m\u001b[43m \u001b[49m\u001b[43mtimeout\u001b[49m\u001b[43m)\u001b[49m\n\u001b[0;32m    316\u001b[0m     \u001b[38;5;28;01mreturn\u001b[39;00m r, w \u001b[38;5;241m+\u001b[39m x, []\n",
      "\u001b[1;31mKeyboardInterrupt\u001b[0m: "
     ]
    }
   ],
   "source": [
    "df, err = get_data(global_oil.index.to_list(), fields, ek_params)\n",
    "df"
   ]
  },
  {
   "cell_type": "markdown",
   "id": "e66c6515",
   "metadata": {},
   "source": [
    "Unbelievable. 87 500 quartely reports, sheeesh. And it only took 5-6 minutes on our super-slow internet connnection here we sit in Zambia making this tool for you, dear student at NTNU."
   ]
  },
  {
   "cell_type": "markdown",
   "id": "e118e61a",
   "metadata": {},
   "source": [
    "## Example 2) Bond data"
   ]
  },
  {
   "cell_type": "markdown",
   "id": "2e2854f8",
   "metadata": {},
   "source": [
    "In this example, we want to collect data for a series of bonds. We want to see what they are trading at, and find other interesting information like their maturity, and principal. We'll start with getting the historical prices for a specific bond we're interested in. This will, of course, scale to more by just looping over all the bond `RIC`s you're interested in. I'd like to see you `for` loop in Excel."
   ]
  },
  {
   "cell_type": "markdown",
   "id": "2a0d0405",
   "metadata": {},
   "source": [
    "### The bond ticker set\n",
    "\n",
    "The tickers we'll work with we've collected from the _\"Advanced Search - Government and Corporate Bonds\"_ function in Eikon. Writing _\"GOVSRCH\"_ into the search bar and hitting Enter takes you directly there. Please see Fosse (2021) for more on how this tool works. In short, we've put on some simple filters and exported a list of bond _RICs_ into an Excel file. We load in the RICs with `pandas`."
   ]
  },
  {
   "cell_type": "code",
   "execution_count": 159,
   "id": "9ea25d87",
   "metadata": {},
   "outputs": [
    {
     "name": "stdout",
     "output_type": "stream",
     "text": [
      "1000 bond rics\n"
     ]
    },
    {
     "data": {
      "text/plain": [
       "['NO0012555558=OL',\n",
       " 'GB248686359=',\n",
       " 'XS1639098398=TE',\n",
       " 'GB165801202=',\n",
       " 'NO1080260=']"
      ]
     },
     "execution_count": 159,
     "metadata": {},
     "output_type": "execute_result"
    }
   ],
   "source": [
    "# The RIC column hides under the name 'Preferred RIC', don't know why..\n",
    "bond_rics = pd.read_excel(\"data/bond_rics.xlsx\")[\"Preferred RIC\"].to_list()\n",
    "print(len(bond_rics), \"bond rics\")\n",
    "bond_rics[:5]"
   ]
  },
  {
   "cell_type": "markdown",
   "id": "1e3ce858",
   "metadata": {},
   "source": [
    "### 2.1 Historical bond price data\n",
    "\n",
    "For the first example, we want to show how one can collect bond price data over time for several bonds at a time. Below, we request the bond price in dollar from January 1st until today's date for the 100 first RICs in the list (there's 1 000 in total, but for sake of example we only load a subset to save time, but feel free to go crazy here!)."
   ]
  },
  {
   "cell_type": "code",
   "execution_count": 161,
   "id": "4fce65f9",
   "metadata": {},
   "outputs": [
    {
     "name": "stderr",
     "output_type": "stream",
     "text": [
      "2022-08-08 17:04:06,674 P[18908] [MainThread 13432] Error with NO0012555558=OL: No data available for the requested date range\n",
      "2022-08-08 17:04:06,676 P[18908] [MainThread 13432] NO0012555558=OL: No data available for the requested date range | \n"
     ]
    },
    {
     "name": "stdout",
     "output_type": "stream",
     "text": [
      "[INFO] Number of dates: 38\n",
      "[INFO] Number of tickers at once: 9\n"
     ]
    },
    {
     "data": {
      "application/vnd.jupyter.widget-view+json": {
       "model_id": "0970ca02325743a2ba1ddfffa0b23cc1",
       "version_major": 2,
       "version_minor": 0
      },
      "text/plain": [
       "Ticker:   0%|          | 0/100 [00:00<?, ?it/s]"
      ]
     },
     "metadata": {},
     "output_type": "display_data"
    },
    {
     "name": "stderr",
     "output_type": "stream",
     "text": [
      "2022-08-08 17:04:08,099 P[18908] [MainThread 13432] Error with NO0012555558=OL: No data available for the requested date range\n",
      "2022-08-08 17:04:08,099 P[18908] [MainThread 13432] NO0012555558=OL: No data available for the requested date range | \n",
      "2022-08-08 17:04:10,324 P[18908] [MainThread 13432] Error with XS1639098398=TE: No data available for the requested date range\n",
      "2022-08-08 17:04:10,332 P[18908] [MainThread 13432] XS1639098398=TE: No data available for the requested date range | \n",
      "2022-08-08 17:04:50,426 P[18908] [MainThread 13432] Error with CH182300055=: No data available for the requested date range\n",
      "2022-08-08 17:04:50,426 P[18908] [MainThread 13432] CH182300055=: No data available for the requested date range | \n",
      "2022-08-08 17:04:53,372 P[18908] [MainThread 13432] Error with XS1865149550=TE: No data available for the requested date range\n",
      "2022-08-08 17:04:53,372 P[18908] [MainThread 13432] XS1865149550=TE: No data available for the requested date range | \n",
      "2022-08-08 17:05:09,341 P[18908] [MainThread 13432] Error with NO0010835143=TE: No data available for the requested date range\n",
      "2022-08-08 17:05:09,341 P[18908] [MainThread 13432] NO0010835143=TE: No data available for the requested date range | \n",
      "2022-08-08 17:05:09,981 P[18908] [MainThread 13432] Error with NO0010835150=TE: No data available for the requested date range\n",
      "2022-08-08 17:05:09,981 P[18908] [MainThread 13432] NO0010835150=TE: No data available for the requested date range | \n",
      "2022-08-08 17:05:10,526 P[18908] [MainThread 13432] Error with NO0010835176=TE: No data available for the requested date range\n",
      "2022-08-08 17:05:10,526 P[18908] [MainThread 13432] NO0010835176=TE: No data available for the requested date range | \n",
      "2022-08-08 17:05:34,447 P[18908] [MainThread 13432] Error with CH200717422=: No data available for the requested date range\n",
      "2022-08-08 17:05:34,447 P[18908] [MainThread 13432] CH200717422=: No data available for the requested date range | \n",
      "2022-08-08 17:05:41,561 P[18908] [MainThread 13432] Error with XS2008159803=TE: No data available for the requested date range\n",
      "2022-08-08 17:05:41,569 P[18908] [MainThread 13432] XS2008159803=TE: No data available for the requested date range | \n"
     ]
    },
    {
     "data": {
      "text/html": [
       "<div>\n",
       "<style scoped>\n",
       "    .dataframe tbody tr th:only-of-type {\n",
       "        vertical-align: middle;\n",
       "    }\n",
       "\n",
       "    .dataframe tbody tr th {\n",
       "        vertical-align: top;\n",
       "    }\n",
       "\n",
       "    .dataframe thead th {\n",
       "        text-align: right;\n",
       "    }\n",
       "</style>\n",
       "<table border=\"1\" class=\"dataframe\">\n",
       "  <thead>\n",
       "    <tr style=\"text-align: right;\">\n",
       "      <th></th>\n",
       "      <th>HIGH</th>\n",
       "      <th>CLOSE</th>\n",
       "      <th>LOW</th>\n",
       "      <th>OPEN</th>\n",
       "      <th>COUNT</th>\n",
       "      <th>ticker</th>\n",
       "    </tr>\n",
       "    <tr>\n",
       "      <th>Date</th>\n",
       "      <th></th>\n",
       "      <th></th>\n",
       "      <th></th>\n",
       "      <th></th>\n",
       "      <th></th>\n",
       "      <th></th>\n",
       "    </tr>\n",
       "  </thead>\n",
       "  <tbody>\n",
       "    <tr>\n",
       "      <th>2022-06-09</th>\n",
       "      <td>8.301</td>\n",
       "      <td>8.301</td>\n",
       "      <td>8.301</td>\n",
       "      <td>8.301</td>\n",
       "      <td>-1</td>\n",
       "      <td>GB248686359=</td>\n",
       "    </tr>\n",
       "    <tr>\n",
       "      <th>2022-06-10</th>\n",
       "      <td>8.608</td>\n",
       "      <td>8.301</td>\n",
       "      <td>8.301</td>\n",
       "      <td>8.301</td>\n",
       "      <td>-1</td>\n",
       "      <td>GB248686359=</td>\n",
       "    </tr>\n",
       "    <tr>\n",
       "      <th>2022-06-13</th>\n",
       "      <td>8.735</td>\n",
       "      <td>8.735</td>\n",
       "      <td>8.672</td>\n",
       "      <td>8.672</td>\n",
       "      <td>-1</td>\n",
       "      <td>GB248686359=</td>\n",
       "    </tr>\n",
       "    <tr>\n",
       "      <th>2022-06-21</th>\n",
       "      <td>9.493</td>\n",
       "      <td>9.361</td>\n",
       "      <td>8.984</td>\n",
       "      <td>9.062</td>\n",
       "      <td>-1</td>\n",
       "      <td>GB248686359=</td>\n",
       "    </tr>\n",
       "    <tr>\n",
       "      <th>2022-06-22</th>\n",
       "      <td>9.351</td>\n",
       "      <td>9.177</td>\n",
       "      <td>9.021</td>\n",
       "      <td>9.269</td>\n",
       "      <td>-1</td>\n",
       "      <td>GB248686359=</td>\n",
       "    </tr>\n",
       "    <tr>\n",
       "      <th>...</th>\n",
       "      <td>...</td>\n",
       "      <td>...</td>\n",
       "      <td>...</td>\n",
       "      <td>...</td>\n",
       "      <td>...</td>\n",
       "      <td>...</td>\n",
       "    </tr>\n",
       "    <tr>\n",
       "      <th>2022-08-02</th>\n",
       "      <td>7.955</td>\n",
       "      <td>7.955</td>\n",
       "      <td>7.955</td>\n",
       "      <td>7.955</td>\n",
       "      <td>-1</td>\n",
       "      <td>05946KAG6=</td>\n",
       "    </tr>\n",
       "    <tr>\n",
       "      <th>2022-08-03</th>\n",
       "      <td>8.178</td>\n",
       "      <td>8.012</td>\n",
       "      <td>7.737</td>\n",
       "      <td>7.957</td>\n",
       "      <td>-1</td>\n",
       "      <td>05946KAG6=</td>\n",
       "    </tr>\n",
       "    <tr>\n",
       "      <th>2022-08-04</th>\n",
       "      <td>8.178</td>\n",
       "      <td>8.016</td>\n",
       "      <td>7.737</td>\n",
       "      <td>7.957</td>\n",
       "      <td>-1</td>\n",
       "      <td>05946KAG6=</td>\n",
       "    </tr>\n",
       "    <tr>\n",
       "      <th>2022-08-05</th>\n",
       "      <td>8.184</td>\n",
       "      <td>8.184</td>\n",
       "      <td>7.963</td>\n",
       "      <td>8.018</td>\n",
       "      <td>-1</td>\n",
       "      <td>05946KAG6=</td>\n",
       "    </tr>\n",
       "    <tr>\n",
       "      <th>2022-08-08</th>\n",
       "      <td>8.13</td>\n",
       "      <td>8.1305</td>\n",
       "      <td>8.13</td>\n",
       "      <td>8.13</td>\n",
       "      <td>1</td>\n",
       "      <td>05946KAG6=</td>\n",
       "    </tr>\n",
       "  </tbody>\n",
       "</table>\n",
       "<p>80801 rows × 6 columns</p>\n",
       "</div>"
      ],
      "text/plain": [
       "             HIGH   CLOSE    LOW   OPEN  COUNT        ticker\n",
       "Date                                                        \n",
       "2022-06-09  8.301   8.301  8.301  8.301     -1  GB248686359=\n",
       "2022-06-10  8.608   8.301  8.301  8.301     -1  GB248686359=\n",
       "2022-06-13  8.735   8.735  8.672  8.672     -1  GB248686359=\n",
       "2022-06-21  9.493   9.361  8.984  9.062     -1  GB248686359=\n",
       "2022-06-22  9.351   9.177  9.021  9.269     -1  GB248686359=\n",
       "...           ...     ...    ...    ...    ...           ...\n",
       "2022-08-02  7.955   7.955  7.955  7.955     -1    05946KAG6=\n",
       "2022-08-03  8.178   8.012  7.737  7.957     -1    05946KAG6=\n",
       "2022-08-04  8.178   8.016  7.737  7.957     -1    05946KAG6=\n",
       "2022-08-05  8.184   8.184  7.963  8.018     -1    05946KAG6=\n",
       "2022-08-08   8.13  8.1305   8.13   8.13      1    05946KAG6=\n",
       "\n",
       "[80801 rows x 6 columns]"
      ]
     },
     "execution_count": 161,
     "metadata": {},
     "output_type": "execute_result"
    }
   ],
   "source": [
    "curn = \"USD\"\n",
    "\n",
    "start_date = '2010-01-01'\n",
    "end_date = datetime.now().strftime(\"%Y-%m-%d\")\n",
    "\n",
    "fields = []  # <-- We just want the price data so no need to specify fields\n",
    "\n",
    "ek_params = {\"SDate\": start_date, \"EDate\": end_date, \"curn\": curn}\n",
    "\n",
    "# Call Eikon server and show result\n",
    "df, err = get_data(bond_rics[:100], fields, ek_params)\n",
    "df"
   ]
  },
  {
   "cell_type": "code",
   "execution_count": 162,
   "id": "bb17eecd",
   "metadata": {},
   "outputs": [
    {
     "data": {
      "text/html": [
       "<div>\n",
       "<style scoped>\n",
       "    .dataframe tbody tr th:only-of-type {\n",
       "        vertical-align: middle;\n",
       "    }\n",
       "\n",
       "    .dataframe tbody tr th {\n",
       "        vertical-align: top;\n",
       "    }\n",
       "\n",
       "    .dataframe thead th {\n",
       "        text-align: right;\n",
       "    }\n",
       "</style>\n",
       "<table border=\"1\" class=\"dataframe\">\n",
       "  <thead>\n",
       "    <tr style=\"text-align: right;\">\n",
       "      <th></th>\n",
       "      <th>error</th>\n",
       "    </tr>\n",
       "  </thead>\n",
       "  <tbody>\n",
       "    <tr>\n",
       "      <th>NO0012555558=OL</th>\n",
       "      <td>Error code -1 | NO0012555558=OL: No data avail...</td>\n",
       "    </tr>\n",
       "    <tr>\n",
       "      <th>XS1639098398=TE</th>\n",
       "      <td>Error code -1 | XS1639098398=TE: No data avail...</td>\n",
       "    </tr>\n",
       "    <tr>\n",
       "      <th>CH182300055=</th>\n",
       "      <td>Error code -1 | CH182300055=: No data availabl...</td>\n",
       "    </tr>\n",
       "    <tr>\n",
       "      <th>XS1865149550=TE</th>\n",
       "      <td>Error code -1 | XS1865149550=TE: No data avail...</td>\n",
       "    </tr>\n",
       "    <tr>\n",
       "      <th>NO0010835143=TE</th>\n",
       "      <td>Error code -1 | NO0010835143=TE: No data avail...</td>\n",
       "    </tr>\n",
       "    <tr>\n",
       "      <th>NO0010835150=TE</th>\n",
       "      <td>Error code -1 | NO0010835150=TE: No data avail...</td>\n",
       "    </tr>\n",
       "    <tr>\n",
       "      <th>NO0010835176=TE</th>\n",
       "      <td>Error code -1 | NO0010835176=TE: No data avail...</td>\n",
       "    </tr>\n",
       "    <tr>\n",
       "      <th>CH200717422=</th>\n",
       "      <td>Error code -1 | CH200717422=: No data availabl...</td>\n",
       "    </tr>\n",
       "    <tr>\n",
       "      <th>XS2008159803=TE</th>\n",
       "      <td>Error code -1 | XS2008159803=TE: No data avail...</td>\n",
       "    </tr>\n",
       "  </tbody>\n",
       "</table>\n",
       "</div>"
      ],
      "text/plain": [
       "                                                             error\n",
       "NO0012555558=OL  Error code -1 | NO0012555558=OL: No data avail...\n",
       "XS1639098398=TE  Error code -1 | XS1639098398=TE: No data avail...\n",
       "CH182300055=     Error code -1 | CH182300055=: No data availabl...\n",
       "XS1865149550=TE  Error code -1 | XS1865149550=TE: No data avail...\n",
       "NO0010835143=TE  Error code -1 | NO0010835143=TE: No data avail...\n",
       "NO0010835150=TE  Error code -1 | NO0010835150=TE: No data avail...\n",
       "NO0010835176=TE  Error code -1 | NO0010835176=TE: No data avail...\n",
       "CH200717422=     Error code -1 | CH200717422=: No data availabl...\n",
       "XS2008159803=TE  Error code -1 | XS2008159803=TE: No data avail..."
      ]
     },
     "execution_count": 162,
     "metadata": {},
     "output_type": "execute_result"
    }
   ],
   "source": [
    "err"
   ]
  },
  {
   "cell_type": "markdown",
   "id": "7f9eecc5",
   "metadata": {},
   "source": [
    "There we go, in around one and a half minute, we have 10 years of daily price data for 100 different corporate bonds on our hands (except for the ones where there just isn't any price data). The ones that didn't have data in the Eikon database are in the `err` dataframe above.\n",
    "\n",
    "Now, let's proceed to get some cross-sectional data on these bonds."
   ]
  },
  {
   "cell_type": "markdown",
   "id": "bbcf6765",
   "metadata": {},
   "source": [
    "### 2.2 Mass download of bond data\n",
    "\n",
    "Here we'll try to get a lot of data about a large number of bonds. The list of bonds we're using is the same as in the above example. Here it is nice to mention that for this kind of data, it can be just as efficient to just export all the columns you're interested in directly from Eikon into an Excel file. As opposed to for the time-series case above, this is a simple rectangular dataframe where each row contains all requested info for that unique bond."
   ]
  },
  {
   "cell_type": "code",
   "execution_count": 177,
   "id": "b2a8c0d0",
   "metadata": {},
   "outputs": [
    {
     "data": {
      "application/vnd.jupyter.widget-view+json": {
       "model_id": "357bfe8b3d7941ce9b3c95e51c5c4751",
       "version_major": 2,
       "version_minor": 0
      },
      "text/plain": [
       "Ticker:   0%|          | 0/1 [00:00<?, ?it/s]"
      ]
     },
     "metadata": {},
     "output_type": "display_data"
    },
    {
     "data": {
      "text/html": [
       "<div>\n",
       "<style scoped>\n",
       "    .dataframe tbody tr th:only-of-type {\n",
       "        vertical-align: middle;\n",
       "    }\n",
       "\n",
       "    .dataframe tbody tr th {\n",
       "        vertical-align: top;\n",
       "    }\n",
       "\n",
       "    .dataframe thead th {\n",
       "        text-align: right;\n",
       "    }\n",
       "</style>\n",
       "<table border=\"1\" class=\"dataframe\">\n",
       "  <thead>\n",
       "    <tr style=\"text-align: right;\">\n",
       "      <th></th>\n",
       "      <th>Instrument</th>\n",
       "      <th>Issuer Ticker</th>\n",
       "      <th>TRBC Industry Name</th>\n",
       "      <th>Yield To Maturity</th>\n",
       "      <th>Issuer Rating</th>\n",
       "      <th>Date</th>\n",
       "      <th>Coupon Rate</th>\n",
       "      <th>Amount Outstanding</th>\n",
       "      <th>ESG Score</th>\n",
       "    </tr>\n",
       "  </thead>\n",
       "  <tbody>\n",
       "    <tr>\n",
       "      <th>0</th>\n",
       "      <td>NO0012555558=OL</td>\n",
       "      <td>SOONS</td>\n",
       "      <td>Banks</td>\n",
       "      <td>&lt;NA&gt;</td>\n",
       "      <td>A2</td>\n",
       "      <td>2018-09-04T00:00:00Z</td>\n",
       "      <td>5.19</td>\n",
       "      <td>100000000.0</td>\n",
       "      <td>&lt;NA&gt;</td>\n",
       "    </tr>\n",
       "    <tr>\n",
       "      <th>1</th>\n",
       "      <td>GB248686359=</td>\n",
       "      <td>VMUK</td>\n",
       "      <td>Banks</td>\n",
       "      <td>8.445054</td>\n",
       "      <td>Baa2</td>\n",
       "      <td>2022-06-27T00:00:00Z</td>\n",
       "      <td>8.25</td>\n",
       "      <td>350000000.0</td>\n",
       "      <td>52.883237</td>\n",
       "    </tr>\n",
       "    <tr>\n",
       "      <th>2</th>\n",
       "      <td>XS1639098398=TE</td>\n",
       "      <td>ISP</td>\n",
       "      <td>Banks</td>\n",
       "      <td>&lt;NA&gt;</td>\n",
       "      <td>A1</td>\n",
       "      <td>2022-04-27T00:00:00Z</td>\n",
       "      <td>5.879</td>\n",
       "      <td>200000000.0</td>\n",
       "      <td>90.950224</td>\n",
       "    </tr>\n",
       "    <tr>\n",
       "      <th>3</th>\n",
       "      <td>GB165801202=</td>\n",
       "      <td>BARC</td>\n",
       "      <td>Banks</td>\n",
       "      <td>7.436301</td>\n",
       "      <td>BBB</td>\n",
       "      <td>2022-07-19T00:00:00Z</td>\n",
       "      <td>5.875</td>\n",
       "      <td>1250000000.0</td>\n",
       "      <td>84.721496</td>\n",
       "    </tr>\n",
       "    <tr>\n",
       "      <th>4</th>\n",
       "      <td>NO1080260=</td>\n",
       "      <td>SOONS</td>\n",
       "      <td>Banks</td>\n",
       "      <td>5.453719</td>\n",
       "      <td>A2</td>\n",
       "      <td>2018-09-04T00:00:00Z</td>\n",
       "      <td>4.52</td>\n",
       "      <td>66000000.0</td>\n",
       "      <td>&lt;NA&gt;</td>\n",
       "    </tr>\n",
       "    <tr>\n",
       "      <th>...</th>\n",
       "      <td>...</td>\n",
       "      <td>...</td>\n",
       "      <td>...</td>\n",
       "      <td>...</td>\n",
       "      <td>...</td>\n",
       "      <td>...</td>\n",
       "      <td>...</td>\n",
       "      <td>...</td>\n",
       "      <td>...</td>\n",
       "    </tr>\n",
       "    <tr>\n",
       "      <th>995</th>\n",
       "      <td>XS1649337174=LU</td>\n",
       "      <td>CBKG</td>\n",
       "      <td>Banks</td>\n",
       "      <td>&lt;NA&gt;</td>\n",
       "      <td>A2</td>\n",
       "      <td>2022-06-30T00:00:00Z</td>\n",
       "      <td>10.8</td>\n",
       "      <td>9000000.0</td>\n",
       "      <td>76.472103</td>\n",
       "    </tr>\n",
       "    <tr>\n",
       "      <th>996</th>\n",
       "      <td>AT0000A1X3G7=TEMK</td>\n",
       "      <td>VORARH</td>\n",
       "      <td>Banks</td>\n",
       "      <td>&lt;NA&gt;</td>\n",
       "      <td>P-1</td>\n",
       "      <td>2018-06-08T00:00:00Z</td>\n",
       "      <td>3.75</td>\n",
       "      <td>3450000.0</td>\n",
       "      <td>&lt;NA&gt;</td>\n",
       "    </tr>\n",
       "    <tr>\n",
       "      <th>997</th>\n",
       "      <td>CA064151XP3=</td>\n",
       "      <td>BNS</td>\n",
       "      <td>Banks</td>\n",
       "      <td>&lt;NA&gt;</td>\n",
       "      <td>WR</td>\n",
       "      <td>2021-09-03T00:00:00Z</td>\n",
       "      <td>0.0</td>\n",
       "      <td>&lt;NA&gt;</td>\n",
       "      <td>79.825106</td>\n",
       "    </tr>\n",
       "    <tr>\n",
       "      <th>998</th>\n",
       "      <td>XS1627839472=GSIL</td>\n",
       "      <td>GSILT</td>\n",
       "      <td>Investment Banking &amp; Brokerage Services</td>\n",
       "      <td>&lt;NA&gt;</td>\n",
       "      <td>A1</td>\n",
       "      <td>2020-10-29T00:00:00Z</td>\n",
       "      <td>5.0</td>\n",
       "      <td>100000000.0</td>\n",
       "      <td>&lt;NA&gt;</td>\n",
       "    </tr>\n",
       "    <tr>\n",
       "      <th>999</th>\n",
       "      <td>DEDB9UDB=</td>\n",
       "      <td>DBKG</td>\n",
       "      <td>Banks</td>\n",
       "      <td>1.961789</td>\n",
       "      <td>A2</td>\n",
       "      <td>2022-05-13T00:00:00Z</td>\n",
       "      <td>0.65</td>\n",
       "      <td>1000000000.0</td>\n",
       "      <td>81.60348</td>\n",
       "    </tr>\n",
       "  </tbody>\n",
       "</table>\n",
       "<p>1000 rows × 9 columns</p>\n",
       "</div>"
      ],
      "text/plain": [
       "            Instrument Issuer Ticker                       TRBC Industry Name  \\\n",
       "0      NO0012555558=OL         SOONS                                    Banks   \n",
       "1         GB248686359=          VMUK                                    Banks   \n",
       "2      XS1639098398=TE           ISP                                    Banks   \n",
       "3         GB165801202=          BARC                                    Banks   \n",
       "4           NO1080260=         SOONS                                    Banks   \n",
       "..                 ...           ...                                      ...   \n",
       "995    XS1649337174=LU          CBKG                                    Banks   \n",
       "996  AT0000A1X3G7=TEMK        VORARH                                    Banks   \n",
       "997       CA064151XP3=           BNS                                    Banks   \n",
       "998  XS1627839472=GSIL         GSILT  Investment Banking & Brokerage Services   \n",
       "999          DEDB9UDB=          DBKG                                    Banks   \n",
       "\n",
       "     Yield To Maturity Issuer Rating                  Date  Coupon Rate  \\\n",
       "0                 <NA>            A2  2018-09-04T00:00:00Z         5.19   \n",
       "1             8.445054          Baa2  2022-06-27T00:00:00Z         8.25   \n",
       "2                 <NA>            A1  2022-04-27T00:00:00Z        5.879   \n",
       "3             7.436301           BBB  2022-07-19T00:00:00Z        5.875   \n",
       "4             5.453719            A2  2018-09-04T00:00:00Z         4.52   \n",
       "..                 ...           ...                   ...          ...   \n",
       "995               <NA>            A2  2022-06-30T00:00:00Z         10.8   \n",
       "996               <NA>           P-1  2018-06-08T00:00:00Z         3.75   \n",
       "997               <NA>            WR  2021-09-03T00:00:00Z          0.0   \n",
       "998               <NA>            A1  2020-10-29T00:00:00Z          5.0   \n",
       "999           1.961789            A2  2022-05-13T00:00:00Z         0.65   \n",
       "\n",
       "     Amount Outstanding  ESG Score  \n",
       "0           100000000.0       <NA>  \n",
       "1           350000000.0  52.883237  \n",
       "2           200000000.0  90.950224  \n",
       "3          1250000000.0  84.721496  \n",
       "4            66000000.0       <NA>  \n",
       "..                  ...        ...  \n",
       "995           9000000.0  76.472103  \n",
       "996           3450000.0       <NA>  \n",
       "997                <NA>  79.825106  \n",
       "998         100000000.0       <NA>  \n",
       "999        1000000000.0   81.60348  \n",
       "\n",
       "[1000 rows x 9 columns]"
      ]
     },
     "execution_count": 177,
     "metadata": {},
     "output_type": "execute_result"
    }
   ],
   "source": [
    "fields = [\n",
    "    \"TR.IssuerTickerCode\",\n",
    "    \"TR.TRBCIndustry\",\n",
    "    \"TR.FiMaturityStandardYield\",\n",
    "    \"TR.IssuerRating\",\n",
    "    \"TR.IR.RatingDate\",\n",
    "    \"TR.CouponRate\",\n",
    "    \"TR.CA.AmtOutstanding\",\n",
    "    \"TR.TRESGScore\",\n",
    "]\n",
    "\n",
    "ek_params = {\"curn\": curn}\n",
    "\n",
    "# Call Eikon server and show result (we're not using date parameters as this data is static)\n",
    "df, err = get_data(bond_rics, fields, ek_params)\n",
    "df"
   ]
  },
  {
   "cell_type": "markdown",
   "id": "7c63b04d",
   "metadata": {},
   "source": [
    "Honky-doodle-doo, isn't that jolly-golly? Such data, much wow. Okay, bonds are not our wheel house (perma-bull, risk-seeking, retail investors as we are), so we'll round out this notebook in the final example on macro and commoditity time-series below."
   ]
  },
  {
   "cell_type": "markdown",
   "id": "211a69c3",
   "metadata": {},
   "source": [
    "## Example 3) Macro data"
   ]
  },
  {
   "cell_type": "markdown",
   "id": "d7d6b80a",
   "metadata": {},
   "source": [
    "In this last example, we want to collect data on some interesting macro economic varibales. We want the oil price, which could feed into example 1) and we want the interest rate in the US, which is intersting given example 2) "
   ]
  },
  {
   "cell_type": "markdown",
   "id": "5d2af57c",
   "metadata": {},
   "source": [
    "This time, we start by using the eikon refinitiv desktop search tool to look up the tickers for BRT- and the US 10y rate. Again, we use the get_data function, which will under the hood use the right functionality (ek.get_timeseries) but we do not have to think about that!"
   ]
  },
  {
   "cell_type": "code",
   "execution_count": 132,
   "id": "f90305a9",
   "metadata": {},
   "outputs": [
    {
     "name": "stdout",
     "output_type": "stream",
     "text": [
      "[INFO] Number of dates: 589\n",
      "[INFO] Number of tickers at once: 1\n",
      "[INFO] Max time window length: 416\n",
      "Starting for loop\n"
     ]
    },
    {
     "data": {
      "application/vnd.jupyter.widget-view+json": {
       "model_id": "4357607b545a49f0adb1d0a77f3781f8",
       "version_major": 2,
       "version_minor": 0
      },
      "text/plain": [
       "Ticker:   0%|          | 0/2 [00:00<?, ?it/s]"
      ]
     },
     "metadata": {},
     "output_type": "display_data"
    }
   ],
   "source": [
    "start_date = '2020-01-01'\n",
    "end_date = '2022-04-21'\n",
    "macro_params = {\"SDate\": start_date, \"EDate\": end_date}\n",
    "\n",
    "df, err = get_data([\"US10YT=RR\", \"BRT-\"], None, params)"
   ]
  },
  {
   "cell_type": "code",
   "execution_count": 133,
   "id": "09925d5d",
   "metadata": {},
   "outputs": [
    {
     "data": {
      "text/html": [
       "<div>\n",
       "<style scoped>\n",
       "    .dataframe tbody tr th:only-of-type {\n",
       "        vertical-align: middle;\n",
       "    }\n",
       "\n",
       "    .dataframe tbody tr th {\n",
       "        vertical-align: top;\n",
       "    }\n",
       "\n",
       "    .dataframe thead th {\n",
       "        text-align: right;\n",
       "    }\n",
       "</style>\n",
       "<table border=\"1\" class=\"dataframe\">\n",
       "  <thead>\n",
       "    <tr style=\"text-align: right;\">\n",
       "      <th></th>\n",
       "      <th>HIGH</th>\n",
       "      <th>CLOSE</th>\n",
       "      <th>LOW</th>\n",
       "      <th>OPEN</th>\n",
       "      <th>ticker</th>\n",
       "      <th>VALUE</th>\n",
       "    </tr>\n",
       "    <tr>\n",
       "      <th>Date</th>\n",
       "      <th></th>\n",
       "      <th></th>\n",
       "      <th></th>\n",
       "      <th></th>\n",
       "      <th></th>\n",
       "      <th></th>\n",
       "    </tr>\n",
       "  </thead>\n",
       "  <tbody>\n",
       "    <tr>\n",
       "      <th>2020-01-02</th>\n",
       "      <td>1.946</td>\n",
       "      <td>1.882</td>\n",
       "      <td>1.851</td>\n",
       "      <td>1.919</td>\n",
       "      <td>US10YT=RR</td>\n",
       "      <td>&lt;NA&gt;</td>\n",
       "    </tr>\n",
       "    <tr>\n",
       "      <th>2020-01-03</th>\n",
       "      <td>1.844</td>\n",
       "      <td>1.788</td>\n",
       "      <td>1.786</td>\n",
       "      <td>1.842</td>\n",
       "      <td>US10YT=RR</td>\n",
       "      <td>&lt;NA&gt;</td>\n",
       "    </tr>\n",
       "    <tr>\n",
       "      <th>2020-01-06</th>\n",
       "      <td>1.816</td>\n",
       "      <td>1.811</td>\n",
       "      <td>1.76</td>\n",
       "      <td>1.769</td>\n",
       "      <td>US10YT=RR</td>\n",
       "      <td>&lt;NA&gt;</td>\n",
       "    </tr>\n",
       "    <tr>\n",
       "      <th>2020-01-07</th>\n",
       "      <td>1.828</td>\n",
       "      <td>1.825</td>\n",
       "      <td>1.795</td>\n",
       "      <td>1.813</td>\n",
       "      <td>US10YT=RR</td>\n",
       "      <td>&lt;NA&gt;</td>\n",
       "    </tr>\n",
       "    <tr>\n",
       "      <th>2020-01-08</th>\n",
       "      <td>1.877</td>\n",
       "      <td>1.874</td>\n",
       "      <td>1.705</td>\n",
       "      <td>1.767</td>\n",
       "      <td>US10YT=RR</td>\n",
       "      <td>&lt;NA&gt;</td>\n",
       "    </tr>\n",
       "    <tr>\n",
       "      <th>...</th>\n",
       "      <td>...</td>\n",
       "      <td>...</td>\n",
       "      <td>...</td>\n",
       "      <td>...</td>\n",
       "      <td>...</td>\n",
       "      <td>...</td>\n",
       "    </tr>\n",
       "    <tr>\n",
       "      <th>2022-04-29</th>\n",
       "      <td>&lt;NA&gt;</td>\n",
       "      <td>107.28</td>\n",
       "      <td>&lt;NA&gt;</td>\n",
       "      <td>&lt;NA&gt;</td>\n",
       "      <td>BRT-</td>\n",
       "      <td>107.28</td>\n",
       "    </tr>\n",
       "    <tr>\n",
       "      <th>2022-05-03</th>\n",
       "      <td>&lt;NA&gt;</td>\n",
       "      <td>105.79</td>\n",
       "      <td>&lt;NA&gt;</td>\n",
       "      <td>&lt;NA&gt;</td>\n",
       "      <td>BRT-</td>\n",
       "      <td>105.79</td>\n",
       "    </tr>\n",
       "    <tr>\n",
       "      <th>2022-05-04</th>\n",
       "      <td>&lt;NA&gt;</td>\n",
       "      <td>108.74</td>\n",
       "      <td>&lt;NA&gt;</td>\n",
       "      <td>&lt;NA&gt;</td>\n",
       "      <td>BRT-</td>\n",
       "      <td>108.74</td>\n",
       "    </tr>\n",
       "    <tr>\n",
       "      <th>2022-05-05</th>\n",
       "      <td>&lt;NA&gt;</td>\n",
       "      <td>112.71</td>\n",
       "      <td>&lt;NA&gt;</td>\n",
       "      <td>&lt;NA&gt;</td>\n",
       "      <td>BRT-</td>\n",
       "      <td>112.71</td>\n",
       "    </tr>\n",
       "    <tr>\n",
       "      <th>2022-05-06</th>\n",
       "      <td>&lt;NA&gt;</td>\n",
       "      <td>114.91</td>\n",
       "      <td>&lt;NA&gt;</td>\n",
       "      <td>&lt;NA&gt;</td>\n",
       "      <td>BRT-</td>\n",
       "      <td>114.91</td>\n",
       "    </tr>\n",
       "  </tbody>\n",
       "</table>\n",
       "<p>1183 rows × 6 columns</p>\n",
       "</div>"
      ],
      "text/plain": [
       "             HIGH   CLOSE    LOW   OPEN     ticker   VALUE\n",
       "Date                                                      \n",
       "2020-01-02  1.946   1.882  1.851  1.919  US10YT=RR    <NA>\n",
       "2020-01-03  1.844   1.788  1.786  1.842  US10YT=RR    <NA>\n",
       "2020-01-06  1.816   1.811   1.76  1.769  US10YT=RR    <NA>\n",
       "2020-01-07  1.828   1.825  1.795  1.813  US10YT=RR    <NA>\n",
       "2020-01-08  1.877   1.874  1.705  1.767  US10YT=RR    <NA>\n",
       "...           ...     ...    ...    ...        ...     ...\n",
       "2022-04-29   <NA>  107.28   <NA>   <NA>       BRT-  107.28\n",
       "2022-05-03   <NA>  105.79   <NA>   <NA>       BRT-  105.79\n",
       "2022-05-04   <NA>  108.74   <NA>   <NA>       BRT-  108.74\n",
       "2022-05-05   <NA>  112.71   <NA>   <NA>       BRT-  112.71\n",
       "2022-05-06   <NA>  114.91   <NA>   <NA>       BRT-  114.91\n",
       "\n",
       "[1183 rows x 6 columns]"
      ]
     },
     "execution_count": 133,
     "metadata": {},
     "output_type": "execute_result"
    }
   ],
   "source": [
    "df"
   ]
  },
  {
   "cell_type": "code",
   "execution_count": 167,
   "id": "ee89a060",
   "metadata": {},
   "outputs": [
    {
     "name": "stdout",
     "output_type": "stream",
     "text": [
      "number_of_timepoints 9\n",
      "number_of_tickers_at_once 500\n"
     ]
    },
    {
     "data": {
      "application/vnd.jupyter.widget-view+json": {
       "model_id": "a6d9ada7fb49476ca2f6d78078e226c5",
       "version_major": 2,
       "version_minor": 0
      },
      "text/plain": [
       "  0%|          | 0/1 [00:00<?, ?it/s]"
      ]
     },
     "metadata": {},
     "output_type": "display_data"
    }
   ],
   "source": [
    "df, err = get_data(global_oil.index[:3], profits, ek_params)"
   ]
  },
  {
   "cell_type": "code",
   "execution_count": null,
   "id": "6448c590",
   "metadata": {},
   "outputs": [],
   "source": []
  }
 ],
 "metadata": {
  "colab": {
   "name": "data_collection.ipynb",
   "provenance": []
  },
  "kernelspec": {
   "display_name": "Python 3 (ipykernel)",
   "language": "python",
   "name": "python3"
  },
  "language_info": {
   "codemirror_mode": {
    "name": "ipython",
    "version": 3
   },
   "file_extension": ".py",
   "mimetype": "text/x-python",
   "name": "python",
   "nbconvert_exporter": "python",
   "pygments_lexer": "ipython3",
   "version": "3.9.12"
  }
 },
 "nbformat": 4,
 "nbformat_minor": 5
}
