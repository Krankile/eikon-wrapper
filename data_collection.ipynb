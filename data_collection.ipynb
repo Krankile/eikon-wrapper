{
 "cells": [
  {
   "cell_type": "markdown",
   "metadata": {
    "colab_type": "text",
    "id": "view-in-github"
   },
   "source": [
    "<a href=\"https://colab.research.google.com/github/Krankile/eikon-wrapper/blob/main/data_collection.ipynb\" target=\"_parent\"><img src=\"https://colab.research.google.com/assets/colab-badge.svg\" alt=\"Open In Colab\"/></a>"
   ]
  },
  {
   "cell_type": "markdown",
   "metadata": {
    "id": "3e7868a6"
   },
   "source": [
    "# Setup"
   ]
  },
  {
   "cell_type": "code",
   "execution_count": 1,
   "metadata": {
    "collapsed": true,
    "id": "9e4198ca"
   },
   "outputs": [
    {
     "name": "stdout",
     "output_type": "stream",
     "text": [
      "Requirement already satisfied: eikon in /usr/local/lib/python3.8/site-packages (1.1.15)\n",
      "Requirement already satisfied: pandas>=1.0.0 in /usr/local/lib/python3.8/site-packages (from eikon) (1.0.1)\n",
      "Requirement already satisfied: deprecation in /usr/local/lib/python3.8/site-packages (from eikon) (2.1.0)\n",
      "Requirement already satisfied: python-dateutil in /usr/local/lib/python3.8/site-packages (from eikon) (2.8.1)\n",
      "Requirement already satisfied: appdirs>=1.4.3 in /Users/larsankile/Library/Python/3.8/lib/python/site-packages (from eikon) (1.4.3)\n",
      "Requirement already satisfied: numpy>=1.11.0 in /usr/local/lib/python3.8/site-packages (from eikon) (1.18.1)\n",
      "Requirement already satisfied: certifi in /usr/local/lib/python3.8/site-packages (from eikon) (2020.11.8)\n",
      "Requirement already satisfied: httpx>=0.18.0 in /usr/local/lib/python3.8/site-packages (from eikon) (0.23.0)\n",
      "Requirement already satisfied: requests==2.* in /usr/local/lib/python3.8/site-packages (from eikon) (2.23.0)\n",
      "Requirement already satisfied: chardet==3.* in /usr/local/lib/python3.8/site-packages (from eikon) (3.0.4)\n",
      "Requirement already satisfied: datetime in /usr/local/lib/python3.8/site-packages (from eikon) (4.5)\n",
      "Requirement already satisfied: idna==2.* in /usr/local/lib/python3.8/site-packages (from eikon) (2.9)\n",
      "Requirement already satisfied: websocket-client!=1.0.0,>=0.54.0 in /usr/local/lib/python3.8/site-packages (from eikon) (1.3.3)\n",
      "Requirement already satisfied: rfc3986==1.* in /usr/local/lib/python3.8/site-packages (from eikon) (1.5.0)\n",
      "Requirement already satisfied: nest-asyncio>=1.5.1 in /usr/local/lib/python3.8/site-packages (from eikon) (1.5.5)\n",
      "Requirement already satisfied: h2==3.* in /usr/local/lib/python3.8/site-packages (from eikon) (3.2.0)\n",
      "Requirement already satisfied: pytz>=2017.2 in /usr/local/lib/python3.8/site-packages (from pandas>=1.0.0->eikon) (2019.3)\n",
      "Requirement already satisfied: packaging in /usr/local/lib/python3.8/site-packages (from deprecation->eikon) (21.3)\n",
      "Requirement already satisfied: six>=1.5 in /usr/local/lib/python3.8/site-packages (from python-dateutil->eikon) (1.14.0)\n",
      "Requirement already satisfied: httpcore<0.16.0,>=0.15.0 in /usr/local/lib/python3.8/site-packages (from httpx>=0.18.0->eikon) (0.15.0)\n",
      "Requirement already satisfied: sniffio in /usr/local/lib/python3.8/site-packages (from httpx>=0.18.0->eikon) (1.2.0)\n",
      "Requirement already satisfied: urllib3!=1.25.0,!=1.25.1,<1.26,>=1.21.1 in /usr/local/lib/python3.8/site-packages (from requests==2.*->eikon) (1.25.8)\n",
      "Requirement already satisfied: zope.interface in /usr/local/lib/python3.8/site-packages (from datetime->eikon) (5.4.0)\n",
      "Requirement already satisfied: hpack<4,>=3.0 in /usr/local/lib/python3.8/site-packages (from h2==3.*->eikon) (3.0.0)\n",
      "Requirement already satisfied: hyperframe<6,>=5.2.0 in /usr/local/lib/python3.8/site-packages (from h2==3.*->eikon) (5.2.0)\n",
      "Requirement already satisfied: pyparsing!=3.0.5,>=2.0.2 in /usr/local/lib/python3.8/site-packages (from packaging->deprecation->eikon) (2.4.7)\n",
      "Requirement already satisfied: h11<0.13,>=0.11 in /usr/local/lib/python3.8/site-packages (from httpcore<0.16.0,>=0.15.0->httpx>=0.18.0->eikon) (0.12.0)\n",
      "Requirement already satisfied: anyio==3.* in /usr/local/lib/python3.8/site-packages (from httpcore<0.16.0,>=0.15.0->httpx>=0.18.0->eikon) (3.6.1)\n",
      "Requirement already satisfied: setuptools in /usr/local/lib/python3.8/site-packages (from zope.interface->datetime->eikon) (49.2.1)\n",
      "\u001b[33mWARNING: You are using pip version 20.2.4; however, version 22.1.2 is available.\n",
      "You should consider upgrading via the '/usr/local/opt/python@3.8/bin/python3.8 -m pip install --upgrade pip' command.\u001b[0m\n"
     ]
    }
   ],
   "source": [
    "#%%capture\n",
    "!python3 -m pip install eikon --user"
   ]
  },
  {
   "cell_type": "code",
   "execution_count": 1,
   "metadata": {},
   "outputs": [
    {
     "name": "stdout",
     "output_type": "stream",
     "text": [
      "Python 2.7.16\r\n"
     ]
    }
   ],
   "source": [
    "!python --version"
   ]
  },
  {
   "cell_type": "code",
   "execution_count": null,
   "metadata": {
    "id": "b056c9a0"
   },
   "outputs": [],
   "source": [
    "import eikon as ek\n",
    "import pandas as pd\n",
    "import numpy as np\n",
    "import time\n",
    "import os\n",
    "import glob\n",
    "from tqdm.auto import tqdm"
   ]
  },
  {
   "cell_type": "code",
   "execution_count": null,
   "metadata": {
    "id": "bd1e83d4"
   },
   "outputs": [],
   "source": [
    "#\"api_key_lk\"\n",
    "ek.set_app_key(\"3e3597f76c464a95b0e424aaca7b69b5d64fab93\")"
   ]
  },
  {
   "cell_type": "markdown",
   "metadata": {
    "id": "32835af0"
   },
   "source": [
    "## Screen companies"
   ]
  },
  {
   "cell_type": "code",
   "execution_count": null,
   "metadata": {
    "id": "944ef578"
   },
   "outputs": [],
   "source": [
    "mic_exchanges = pd.read_csv(\"mic_codes.csv\").set_index(\"MIC\") #Can be used to look up specific stock exchanges codes :) (Y) "
   ]
  },
  {
   "cell_type": "code",
   "execution_count": null,
   "metadata": {
    "id": "bf666227"
   },
   "outputs": [],
   "source": [
    "oil_osebx_screen = 'SCREEN(U(IN(Equity(active,public,primary))), TR.CompanyMarketCap>=500000, IN(TR.ExchangeMarketIdCode,\"XOSL\"), IN(TR.TRBCBusinessSectorCode,\"5010\",\"5020\",\"5030\"), CURN=USD)'\n",
    "fields_oil_osebx_screen = [\"TR.CommonName\"]#[\"TR.CommonName\",\"TR.CompanyMarketCap\",\"TR.ExchangeName\",\"TR.TRBCBusinessSector\",\"TR.TotalReturn3Mo\"]\n",
    "\n",
    "osbx_companies, e = ek.get_data(oil_osebx_screen, fields_oil_osebx_screen)\n",
    "osbx_companies = osbx_companies.set_index(\"Instrument\")"
   ]
  },
  {
   "cell_type": "code",
   "execution_count": null,
   "metadata": {
    "id": "091dd0cf"
   },
   "outputs": [],
   "source": [
    "oil_global_screen = 'SCREEN(U(IN(Equity(active,public,primary))), TR.CompanyMarketCap>=500000, IN(TR.TRBCBusinessSectorCode,\"5010\",\"5020\",\"5030\"), CURN=USD)'\n",
    "fields_oil_global_screen = [\"TR.CommonName\"]\n",
    "\n",
    "global_oil, e = ek.get_data(oil_global_screen, fields_oil_global_screen)\n",
    "global_oil = global_oil.set_index(\"Instrument\")\n"
   ]
  },
  {
   "cell_type": "code",
   "execution_count": null,
   "metadata": {
    "id": "902ecdde"
   },
   "outputs": [],
   "source": [
    "financial_global_screen = 'SCREEN(U(IN(Equity(active,public,primary))), TR.CompanyMarketCap>=500000, IN(TR.TRBCBusinessSectorCode,\"5510\"), CURN=USD)'\n",
    "fields_financial_global_screen = [\"TR.CommonName\"]\n",
    "\n",
    "global_financial, e = ek.get_data(financial_global_screen, fields_financial_global_screen)\n",
    "global_financial = global_financial.set_index(\"Instrument\")"
   ]
  },
  {
   "cell_type": "markdown",
   "metadata": {
    "id": "c0ae7040"
   },
   "source": [
    "Now we have dataframe of all noted oil companies (with mcap > USD 5m) in eikon refinitives entire database"
   ]
  },
  {
   "cell_type": "markdown",
   "metadata": {
    "id": "99c52216"
   },
   "source": [
    "# Collect data from eikon refinitiv"
   ]
  },
  {
   "cell_type": "code",
   "execution_count": null,
   "metadata": {
    "id": "c932faf0"
   },
   "outputs": [],
   "source": [
    "######## INPUTS ########\n",
    "lst_of_tickers = global_financial.index.to_list()\n",
    "\n",
    "#Eikon parameters\n",
    "start_date = '2000-01-01'\n",
    "end_date = '2022-04-21'\n",
    "ek_params = {'SDate': start_date, 'EDate': end_date,'Frq': 'FQ', \"Curn\":\"USD\", 'period':\"FQ0\"}\n",
    "\n",
    "#Max http company request at once\n",
    "search_limit = 1\n",
    "\n",
    "#What data to get\n",
    "get_stock_data = False\n",
    "get_meta_data = False\n",
    "get_fundamental_data = True \n",
    "get_broker_data = False\n",
    "\n",
    "toggle_dict = {'stock_data':get_stock_data, 'meta_data':get_meta_data,\n",
    "               'fundamental_data':get_fundamental_data, 'broker_data':get_broker_data}\n",
    "\n",
    "\n",
    "\n",
    "params = ek_params | toggle_dict | {'limit': search_limit} \n",
    "########################"
   ]
  },
  {
   "cell_type": "markdown",
   "metadata": {
    "id": "926ea32f"
   },
   "source": [
    "## We define functions to find stock, meta, fundamental and broker estimates data "
   ]
  },
  {
   "cell_type": "code",
   "execution_count": null,
   "metadata": {
    "id": "8d27e297"
   },
   "outputs": [],
   "source": [
    "def _sub_lists(data, size_m):\n",
    "    return [data[x:x+size_m] for x in range(0, len(data), size_m)]\n",
    "\n",
    "#Function to counteract http timeout\n",
    "def _divide_pull_request(lst_of_tickers, fields, params, suffix):\n",
    "\n",
    "    p = {key: val for key, val in params.items() if key in ek_params}    \n",
    "    if len(lst_of_tickers) > params['limit']:\n",
    "        dfs = []\n",
    "        for sub_ticker_lst in tqdm(_sub_lists(lst_of_tickers, params['limit']), suffix):\n",
    "            df_sub, err = ek.get_data(lst_of_tickers, fields, p)\n",
    "            print(df_sub)\n",
    "            dfs.append(df_sub)\n",
    "        df = pd.concat(dfs, axis=0)\n",
    "    else: \n",
    "        df, err = ek.get_data(lst_of_tickers, fields, p)\n",
    "    return df"
   ]
  },
  {
   "cell_type": "code",
   "execution_count": null,
   "metadata": {
    "id": "1c59700e"
   },
   "outputs": [],
   "source": [
    "def stock_data(lst_of_tickers, params):\n",
    "    \n",
    "    params_new = params.copy()\n",
    "    params_new['Frq'] = 'D'\n",
    "    \n",
    "    fields = ['TR.CompanyMarketCap.Date','TR.CompanyMarketCap', 'TR.PriceClose',\n",
    "              'TR.CompanyMarketCap.Currency'] #TR.F.ComShrOutsTot\n",
    "    \n",
    "    stock_df = _divide_pull_request(lst_of_tickers, fields=fields, params=params_new, suffix=' Getting time series')\n",
    "    \n",
    "    return stock_df"
   ]
  },
  {
   "cell_type": "code",
   "execution_count": null,
   "metadata": {
    "id": "41389f68"
   },
   "outputs": [],
   "source": [
    "#Meta data collector\n",
    "def meta_data(lst_of_tickers):\n",
    "    geography = ['TR.ExchangeMarketIdCode', 'TR.HeadquartersRegionAlt', 'TR.HeadquartersCountry', 'TR.HQStateProvince']\n",
    "    sectors = ['TR.TRBCEconomicSector', 'TR.TRBCBusinessSector', 'TR.TRBCIndustryGroup', 'TR.TRBCIndustry', 'TR.TRBCActivity']\n",
    "    founded = ['TR.OrgFoundedYear']\n",
    "\n",
    "    meta_data = geography + founded + sectors  \n",
    "    meta_df, _ = ek.get_data(lst_of_tickers, meta_data)\n",
    "    meta_df = meta_df.set_index(\"Instrument\")\n",
    "    \n",
    "    meta_df['Organization Founded Year'] = meta_df['Organization Founded Year'].replace(0, np.NaN) #<-- Eikon hilariously uses 0 instead of Na for missing year value\n",
    "    \n",
    "    \n",
    "    return meta_df"
   ]
  },
  {
   "cell_type": "code",
   "execution_count": null,
   "metadata": {
    "id": "48c6d708"
   },
   "outputs": [],
   "source": [
    "#Fundamental data collector\n",
    "\n",
    "def fundamental_data(lst_of_tickers, params):\n",
    "    #fields    \n",
    "    profits = ['TR.TotalRevenue', 'TR.GrossProfit','TR.EBITDA','TR.EBIT', 'TR.F.NetIncAfterTax']#, 'TR.EV','MKT_CAP']\n",
    "    balance = ['TR.F.TotAssets','TR.F.TotCurrAssets','TR.F.TotLiab','TR.F.TotCurrLiab','TR.F.LTDebtPctofTotAssets','TR.F.STDebtPctofTotAssets',\"TR.InvtrPriceToBook\"]#TR.F.TotLiab(Period=FY0)\n",
    "    cash_flow = ['TR.F.LeveredFOCF']\n",
    "    fundamental_data = profits + balance + cash_flow \n",
    "    \n",
    "    other = []#['TR.InsiderBuyDepthComp'] <--- NA only, could be interesting to use....   \n",
    "    reported_dates = ['TR.TotalRevenue.date','TR.TotalRevenue.periodenddate','TR.BSOriginalAnnouncementDate']\n",
    "    \n",
    "    fields = reported_dates + fundamental_data + other\n",
    "    \n",
    "    #collect data\n",
    "    fundamental_df = _divide_pull_request(lst_of_tickers, fields, params, suffix=' Getting fundamentals')\n",
    "    \n",
    "    return fundamental_df"
   ]
  },
  {
   "cell_type": "code",
   "execution_count": null,
   "metadata": {
    "id": "1a8adc04"
   },
   "outputs": [],
   "source": [
    "def broker_estimates(lst_of_tickers, params):\n",
    "    \n",
    "    params_new = params.copy()\n",
    "    params_new[\"Period\"] = \"FY1\"    \n",
    "    \n",
    "    fields = [\"TR.EPSMean\",\"TR.EPSMean.periodenddate\",\"TR.EBITMean\",'TR.RevenueMean',\n",
    "              \"TR.ROAMean\",\"TR.ROEMean\",\"TR.FCFMean\",\"TR.TotalAssets\",\"TR.MeanPctChg(Period=FY1,WP=60d)\"]\n",
    "    \n",
    "    estimates_df, err = ek.get_data(lst_of_tickers, fields, params)\n",
    "    return estimates_df"
   ]
  },
  {
   "cell_type": "code",
   "execution_count": null,
   "metadata": {
    "id": "21edab25"
   },
   "outputs": [],
   "source": [
    "def get_data(lst_of_tickers, params):\n",
    "    \n",
    "    stock_df = None\n",
    "    meta_df = None\n",
    "    fundamental_df = None\n",
    "    broker_df = None\n",
    "    \n",
    "    if params['stock_data']: \n",
    "        stock_df = stock_data(lst_of_tickers, params)\n",
    "\n",
    "    if params['meta_data']:\n",
    "        meta_df = meta_data(lst_of_tickers)\n",
    "\n",
    "    if params['fundamental_data']:\n",
    "        fundamental_df = fundamental_data(lst_of_tickers, params)\n",
    "\n",
    "    if params['broker_data']:\n",
    "        broker_df = broker_estiqates(lst_of_tickers, params)\n",
    "    \n",
    "    return stock_df, meta_df, fundamental_df, broker_df\n",
    "        "
   ]
  },
  {
   "cell_type": "code",
   "execution_count": null,
   "metadata": {
    "id": "5659be0b"
   },
   "outputs": [],
   "source": [
    "def save_data(file_name, save_per_n_http_request, lst_of_tickers, params):\n",
    "    \n",
    "    non_collected_tickers = []\n",
    "\n",
    "    name_to_index = {}\n",
    "    dfs = {}\n",
    "    for i, possible_key in enumerate([\"stock_data\", \"meta_data\", \"fundamental_data\", \"broker_data\"]):\n",
    "        if params[possible_key]:\n",
    "            name_to_index[possible_key] = i\n",
    "            dfs[possible_key] = []\n",
    "    \n",
    "    partioned_lst_of_tickers = _sub_lists(lst_of_tickers, params[\"limit\"])        \n",
    "    for i, sub_ticker_lst in enumerate(tqdm(partioned_lst_of_tickers, \"saving loop\")):    \n",
    "        \n",
    "        try:\n",
    "            raw_data_dfs = get_data(sub_ticker_lst, params)\n",
    "            \n",
    "            for key in name_to_index:\n",
    "           \n",
    "                dfs[key] = dfs[key] + [raw_data_dfs[name_to_index[key]]]\n",
    "                \n",
    "                \n",
    "                \n",
    "            if not (i % save_per_n_http_request):\n",
    "                for key in name_to_index:\n",
    "                    df = pd.concat(dfs[key], axis=0)\n",
    "                    df = df.reset_index()\n",
    "                    \n",
    "                    df.to_feather(f\"{file_name}_save={i}_type={key}.feather\")\n",
    "                    \n",
    "                    \n",
    "                    dfs[key] = []\n",
    "\n",
    "        except ek.EikonError as err:\n",
    "            for key in name_to_index:\n",
    "                dfs[key] = []\n",
    "                \n",
    "            non_collected_tickers += sub_ticker_lst\n",
    "        except Exception as e:\n",
    "            print(e)\n",
    "            for key in name_to_index:\n",
    "                dfs[key] = []\n",
    "                \n",
    "            non_collected_tickers += sub_ticker_lst\n",
    "            \n",
    "    #Write crashes to file       \n",
    "    with open(f\"{file_name}.txt\", \"w\") as f:\n",
    "        f.write(\"\\n\".join(non_collected_tickers))\n",
    "    \n",
    "    #Save last data if there are rests\n",
    "    for key in name_to_index:\n",
    "            break\n",
    "            if dfs[key] != []:\n",
    "                df = pd.concat(dfs[key], axis=0)\n",
    "\n",
    "                df = df.reset_index()\n",
    "\n",
    "                #wtfffff\n",
    "                df.to_feather(f\"{file_name}_save={len(partioned_lst_of_tickers)}_type={key}.feather\")\n",
    "\n",
    "            "
   ]
  },
  {
   "cell_type": "code",
   "execution_count": null,
   "metadata": {
    "id": "892ee084",
    "scrolled": true
   },
   "outputs": [],
   "source": [
    "def _time_interval(start_date, end_date):\n",
    "    y0 = int(start_date.split(\"-\")[0])\n",
    "    yn = int(end_date.split(\"-\")[0])\n",
    "    in_between_dates = [f\"{str(year)}-01-01\" for year in range(y0+1,yn,7)]\n",
    "    return [start_date] + in_between_dates  + [end_date]\n",
    "    \n",
    "        \n",
    "#This is code for getting macro timeseries data, as Refinitivs get_data method was hard to work with. \n",
    "def macro_data(lst_of_tickers, ek_get_timeseries_fields, params):\n",
    "        start_and_ends = _time_interval(params[\"SDate\"],params[\"EDate\"])\n",
    "        \n",
    "        tickers_to_serie = {}\n",
    "        for ticker in lst_of_tickers:\n",
    "            tickers_to_serie[ticker] = []\n",
    "            for i in range(len(start_and_ends)-1):\n",
    "                try: \n",
    "                    time_series = ek.get_timeseries(ticker, fields=ek_get_timeseries_fields,\n",
    "                                                    start_date=start_and_ends[i], end_date=start_and_ends[i+1], interval=params[\"interval\"])\n",
    "                                 \n",
    "                except ek.EikonError as err:\n",
    "                    if err.code ==-1:\n",
    "                        time_series = ek.get_timeseries(\"BRT-\", fields=ek_get_timeseries_fields, start_date=start_and_ends[i], end_date=start_and_ends[i+1],interval=params[\"interval\"])\n",
    "                        time_series[ek_get_timeseries_fields] = np.nan\n",
    "                        \n",
    "                    if err.code ==  2504:\n",
    "                        print(\"backend error\")\n",
    "                        time.sleep(2)\n",
    "                        time_series = ek.get_timeseries(ticker, fields=ek_get_timeseries_fields,\n",
    "                                                    start_date=start_and_ends[i], end_date=start_and_ends[i+1], interval=params[\"interval\"])\n",
    "                        \n",
    "                tickers_to_serie[ticker] = tickers_to_serie[ticker] + [time_series]\n",
    "            \n",
    "            tickers_to_serie[ticker] = pd.concat(tickers_to_serie[ticker], axis=0)\n",
    "            \n",
    "        return tickers_to_serie"
   ]
  },
  {
   "cell_type": "code",
   "execution_count": null,
   "metadata": {
    "id": "35a69428"
   },
   "outputs": [],
   "source": [
    "_, meta_df, __, ___ = get_data(lst_of_tickers, params)"
   ]
  },
  {
   "cell_type": "code",
   "execution_count": null,
   "metadata": {
    "id": "d9c0202d",
    "outputId": "79c9aebc-50c6-459a-b2b9-0cddbe4cad29"
   },
   "outputs": [],
   "source": [
    "meta_df[\"TRBC Industry Group Name\"].to_list()"
   ]
  },
  {
   "cell_type": "code",
   "execution_count": null,
   "metadata": {
    "id": "cf9a439f"
   },
   "outputs": [],
   "source": [
    "banking_df = meta_df[(meta_df[\"TRBC Industry Group Name\"] == \"Banking Services\") | (meta_df[\"TRBC Industry Group Name\"] == \"Insurance\")] "
   ]
  },
  {
   "cell_type": "code",
   "execution_count": null,
   "metadata": {
    "id": "27a05e6b"
   },
   "outputs": [],
   "source": [
    "tickers = pd.read_fwf(\"C:/Users/kjartkra/Untitled Folder/banking_fundamental_data/banking_fundamental_data.txt\")"
   ]
  },
  {
   "cell_type": "code",
   "execution_count": null,
   "metadata": {
    "id": "4e77d147",
    "outputId": "6fa6afb8-402a-4504-9b32-6ae9289945d2"
   },
   "outputs": [],
   "source": []
  },
  {
   "cell_type": "code",
   "execution_count": null,
   "metadata": {
    "colab": {
     "referenced_widgets": [
      "b18ebb15dbfe482d8cd61e5617188f2c"
     ]
    },
    "id": "be13dc1a",
    "outputId": "6a5e6a34-0680-4c40-ff00-41f97e79b367"
   },
   "outputs": [],
   "source": [
    "lst_of_tickers = banking_df.index.to_list()\n",
    "save_toggle = True\n",
    "\n",
    "file_name = \"C:/Users/kjartkra/Untitled Folder/banking_fundamental_data/banking_fundamental_data_2\"\n",
    "if save_toggle: \n",
    "    save_data(file_name, 1, lst_of_tickers, params)"
   ]
  },
  {
   "cell_type": "code",
   "execution_count": null,
   "metadata": {
    "id": "c5840228",
    "outputId": "608f4b13-e5b1-477a-fa6e-377f5c46de0a"
   },
   "outputs": [],
   "source": [
    "get_macro_toggle = True\n",
    "\n",
    "if get_macro_toggle:\n",
    "    macro_oil_params = ek_params.copy()\n",
    "    macro_oil_params[\"interval\"] = \"daily\"\n",
    "    macro_oil_series = [\"BRT-\", \"CLc1\", \"CLc12\", \"CLc60\", \"WTCLc1\", \"WTCLc12\", \"WTCLc60\",\"NGMMc1\", \"NGMMc12\", \"NGMMc60\", \"LNG-AS\", \"TR-PETTHP-LNG\", \"WTI-USG-REF\", \"DUB-SIN-REF\"]\n",
    "    macro_banking_series = [\"SHIBOR=\", \"CN10YT=RR\", \"USDSOFR=\", \"US10YT=RR\", \"EURIBOR01\", \"DE10YT=RR\",\"GB10YT=RR\"] #china 10 year treasury yield, USA 10 year \n",
    "    general_series = [\"JNK\", \".VIX\",'EUR=', 'GBP=', \"CNY=\"] #High yield bond, unemployment\n",
    "    \n",
    "    macro_oil_series_not_added = [\"TRGBNBPD1\"]\n",
    "    macro_oil_fields = [\"CLOSE\"]\n",
    "\n",
    "    macro_oil = macro_data(macro_oil_series + macro_banking_series + general_series, macro_oil_fields , macro_oil_params)"
   ]
  },
  {
   "cell_type": "code",
   "execution_count": null,
   "metadata": {
    "id": "dbd7cca2",
    "outputId": "f4e47b9a-4351-4721-e210-8767d1a1de5a"
   },
   "outputs": [],
   "source": [
    "macro_oil"
   ]
  },
  {
   "cell_type": "markdown",
   "metadata": {
    "id": "daf50f64"
   },
   "source": [
    "## Define some file handling functions"
   ]
  },
  {
   "cell_type": "code",
   "execution_count": null,
   "metadata": {
    "id": "0f16d188"
   },
   "outputs": [],
   "source": [
    "def dict_to_df(dictionary):\n",
    "    dates = set()\n",
    "\n",
    "    for key, frame in dictionary.items():\n",
    "        dates |= set(frame.index.values)\n",
    "    \n",
    "    index = pd.Index(list(sorted(dates)))\n",
    "    \n",
    "    all_macro = pd.DataFrame(index=index)\n",
    "\n",
    "    for key, frame in dictionary.items():\n",
    "        frame = frame[~frame.index.duplicated(keep='first')]\n",
    "        all_macro[key] = frame\n",
    "\n",
    "    return all_macro"
   ]
  },
  {
   "cell_type": "code",
   "execution_count": null,
   "metadata": {
    "id": "cdc8137d"
   },
   "outputs": [],
   "source": [
    "def folder_to_df(folder_with_data):\n",
    "    files = glob.glob(folder_with_data + '/*.feather')\n",
    "    dfs = []\n",
    "    for file in files:\n",
    "        dfs.append(pd.read_feather(file).set_index(\"index\"))\n",
    "\n",
    "    df_big = pd.concat(dfs, axis=0).reset_index()\n",
    "    df_big = df_big.drop(\"index\", axis=1)\n",
    "    return df_big"
   ]
  },
  {
   "cell_type": "code",
   "execution_count": null,
   "metadata": {
    "id": "b01ab3a7"
   },
   "outputs": [],
   "source": [
    "def upload_artifact(run, dataframe_file_location, artifact_name):\n",
    "    \n",
    "    artifact = wandb.Artifact(artifact_name, type='dataset')\n",
    "\n",
    "    # Add a file to the artifact's contents\n",
    "    artifact.add_file(dataframe_file_location)\n",
    "\n",
    "    # Save the artifact version to W&B and mark it as the output of this run\n",
    "    run.log_artifact(artifact)"
   ]
  },
  {
   "cell_type": "code",
   "execution_count": null,
   "metadata": {
    "id": "6a5803b2"
   },
   "outputs": [],
   "source": [
    "macro_df.reset_index().to_feather('C:/Users/kjartkra/Untitled Folder/macro_df.feather')"
   ]
  },
  {
   "cell_type": "markdown",
   "metadata": {
    "id": "3c2c556d"
   },
   "source": [
    "## Collect data from folder generated by save functions to a feather file"
   ]
  },
  {
   "cell_type": "code",
   "execution_count": null,
   "metadata": {
    "id": "7ffdbda4"
   },
   "outputs": [],
   "source": [
    "collect_meta_data = False\n",
    "if collect_meta_data:\n",
    "    stock_df, meta_df, fundamental_df, broker_df = get_data(lst_of_tickers, params)\n",
    "\n",
    "    meta_location = 'C:/Users/kjartkra/Untitled Folder/meta_oil.feather'\n",
    "    meta_df.reset_index().to_feather(meta_location)"
   ]
  },
  {
   "cell_type": "code",
   "execution_count": null,
   "metadata": {
    "id": "9a214743"
   },
   "outputs": [],
   "source": [
    "collect_fundamental_data = True\n",
    "fundamentals_location = 'C:/Users/kjartkra/Untitled Folder/fundamentals_banking.feather'\n",
    "\n",
    "if collect_fundamental_data:\n",
    "    fundamentals_df = folder_to_df(\"C:/Users/kjartkra/Untitled Folder/banking_fundamental_data/\")\n",
    "    fundamentals_df.drop_duplicates()\n",
    "\n",
    "    fundamentals_df.to_feather(fundamentals_location)"
   ]
  },
  {
   "cell_type": "code",
   "execution_count": null,
   "metadata": {
    "id": "4e6e8936"
   },
   "outputs": [],
   "source": [
    "stock_data = pd.read_feather(\"C:/Users/kjartkra/Untitled Folder/stock_banking.feather\")\n",
    "fundamental_data = pd.read_feather('C:/Users/kjartkra/Untitled Folder/fundamentals_banking.feather')\n",
    "\n"
   ]
  },
  {
   "cell_type": "code",
   "execution_count": null,
   "metadata": {
    "id": "442fb948",
    "outputId": "eccf5718-b5ff-4951-b7a9-388bcd2ec7b3"
   },
   "outputs": [],
   "source": [
    "fundamental_data.Instrument.unique()"
   ]
  },
  {
   "cell_type": "code",
   "execution_count": null,
   "metadata": {
    "id": "820a0e40"
   },
   "outputs": [],
   "source": [
    "\n",
    "stock_data.reset_index().to_feather(\"C:/Users/kjartkra/Untitled Folder/stock_banking_v2.feather\")"
   ]
  },
  {
   "cell_type": "code",
   "execution_count": null,
   "metadata": {
    "id": "b5a0d669"
   },
   "outputs": [],
   "source": [
    "collect_macro_data = False\n",
    "macro_location = 'C:/Users/kjartkra/Untitled Folder/macro_oil.feather'\n",
    "\n",
    "if collect_macro_data:\n",
    "    macro_df = dict_to_df(macro_oil).reset_index()\n",
    "    \n",
    "    macro_df.to_feather(macro_location)"
   ]
  },
  {
   "cell_type": "code",
   "execution_count": null,
   "metadata": {
    "id": "d93213bd"
   },
   "outputs": [],
   "source": [
    "collect_stock_data = True\n",
    "company_location = 'C:/Users/kjartkra/Untitled Folder/stock_banking.feather'\n",
    "\n",
    "if collect_stock_data:\n",
    "    oil_company_df = folder_to_df(\"C:/Users/kjartkra/Untitled Folder/banking_stock_data/\")\n",
    "\n",
    "  \n",
    "\n",
    "    oil_company_df.to_feather(company_location)\n"
   ]
  },
  {
   "cell_type": "code",
   "execution_count": null,
   "metadata": {
    "id": "06259cd2"
   },
   "outputs": [],
   "source": [
    "fundamental_oil = pd.concat([fundamental_oil_1,fundamental_oil_2], axis=0)"
   ]
  },
  {
   "cell_type": "code",
   "execution_count": null,
   "metadata": {
    "id": "1a1f5390"
   },
   "outputs": [],
   "source": [
    "fundamental_oil.reset_index().to_feather(fundamentals_location)"
   ]
  },
  {
   "cell_type": "code",
   "execution_count": null,
   "metadata": {
    "id": "8db623dc"
   },
   "outputs": [],
   "source": [
    "meta_df[meta_df.index.isin(fundamental_data.Instrument.unique())].reset_index().to_feather(\"C:/Users/kjartkra/Untitled Folder/meta_banking.feather\")"
   ]
  },
  {
   "cell_type": "markdown",
   "metadata": {
    "id": "be396679"
   },
   "source": [
    "## Upload feather files to wandb "
   ]
  },
  {
   "cell_type": "code",
   "execution_count": null,
   "metadata": {
    "id": "1e3039ee",
    "outputId": "deb20ebe-96a7-4dc5-b2cb-c7495c820a77"
   },
   "outputs": [],
   "source": [
    "upload_stocks = False\n",
    "upload_meta = False\n",
    "upload_fundamentals = False\n",
    "upload_macro = True\n",
    "\n",
    "sector_type = \"banking\"\n",
    "\n",
    "stock_location = \"C:/Users/kjartkra/Untitled Folder/stock_banking_v2.feather\"\n",
    "fundamentals_location = 'C:/Users/kjartkra/Untitled Folder/fundamentals_banking.feather'\n",
    "meta_location = \"C:/Users/kjartkra/Untitled Folder/meta_banking.feather\"\n",
    "macro_location = 'C:/Users/kjartkra/Untitled Folder/macro_df.feather'\n",
    "if  upload_stocks or upload_meta or upload_fundamentals or upload_macro:\n",
    "    with wandb.init(project=\"master-test\") as run:\n",
    "        \n",
    "        if upload_stocks:\n",
    "            upload_artifact(run, company_location, f\"{sector_type}-company-data\")\n",
    "        \n",
    "        if upload_meta: \n",
    "            upload_artifact(run, meta_location, f\"{sector_type}-meta-data\")\n",
    "        \n",
    "        if upload_fundamentals:\n",
    "            upload_artifact(run, fundamentals_location, f\"{sector_type}-fundamental-data\")\n",
    "        \n",
    "        if upload_macro:\n",
    "            upload_artifact(run, macro_location, \"macro-data\")\n",
    "      "
   ]
  },
  {
   "cell_type": "markdown",
   "metadata": {
    "id": "ec825654"
   },
   "source": [
    "## Testing"
   ]
  },
  {
   "cell_type": "code",
   "execution_count": null,
   "metadata": {
    "id": "68b48994"
   },
   "outputs": [],
   "source": [
    "fundamental_df = pd.read_feather(fundamentals_location)"
   ]
  },
  {
   "cell_type": "code",
   "execution_count": null,
   "metadata": {
    "id": "f712b8d1"
   },
   "outputs": [],
   "source": [
    "for ticker in fundamental_df.columns[5:9]:\n",
    "\n",
    "    fundamental_df[f\"{ticker}p\"] = fundamental_df[ticker] / fundamental_df[\"Total Revenue\"]"
   ]
  },
  {
   "cell_type": "code",
   "execution_count": null,
   "metadata": {
    "id": "a54048c7"
   },
   "outputs": [],
   "source": [
    "import matplotlib.pyplot as plt\n",
    "\n",
    "def get_list_of_data_field(fundamental_df, field):\n",
    "    metric_list = []\n",
    "    unique_companies = list(set(fundamentals_df[\"Instrument\"].to_list()))\n",
    "    \n",
    "    for ticker in unique_companies:\n",
    "        metric_1_comp = fundamentals_df[fundamentals_df[\"Instrument\"] == ticker][field].fillna(-1).to_list()\n",
    "        if len(metric_1_comp) < 100: \n",
    "            metric_list.append(np.array(metric_1_comp))\n",
    "    return metric_list"
   ]
  },
  {
   "cell_type": "code",
   "execution_count": null,
   "metadata": {
    "id": "45216b22"
   },
   "outputs": [],
   "source": [
    "def print_all(lst, type_toggle, log_toggle):\n",
    "    if log_toggle:\n",
    "        plt.yscale('log')\n",
    "    if type_toggle == \"scatter\":\n",
    "        for series in lst:\n",
    "            plt.scatter([x for x in range(len(series))], series)\n",
    "    else:\n",
    "        for series in lst:\n",
    "            plt.plot([x for x in range(len(series))], series)"
   ]
  },
  {
   "cell_type": "code",
   "execution_count": null,
   "metadata": {
    "id": "4f307eb7"
   },
   "outputs": [],
   "source": [
    "EBITDAp = get_list_of_data_field(fundamental_df, \"EBITDAp\")"
   ]
  },
  {
   "cell_type": "code",
   "execution_count": null,
   "metadata": {
    "id": "17771b49",
    "outputId": "3f84cd39-07a7-4db3-fbda-6dc8aa2b42a6"
   },
   "outputs": [],
   "source": [
    "print_all(EBITDAp, None, log_toggle=True)"
   ]
  },
  {
   "cell_type": "code",
   "execution_count": null,
   "metadata": {
    "id": "827af0a3"
   },
   "outputs": [],
   "source": [
    "revenue_list = get_list_of_data_field(fundamental_df, \"Total Revenue\")\n",
    "ebit_list = get_list_of_data_field(fundamental_df, \"EBIT\")"
   ]
  },
  {
   "cell_type": "code",
   "execution_count": null,
   "metadata": {
    "id": "e04cc11b",
    "outputId": "2c48d277-1846-4d3a-8568-9008d9c71382"
   },
   "outputs": [],
   "source": [
    "margin_lists = []\n",
    "\n",
    "for i in range(len(revenue_list)):\n",
    "    margin_lists.append(ebit_list[i]/revenue_list[i])"
   ]
  },
  {
   "cell_type": "code",
   "execution_count": null,
   "metadata": {
    "id": "dd5a9c66",
    "outputId": "258e0a3b-23da-4f4c-ef3c-075f24dffb66"
   },
   "outputs": [],
   "source": [
    "plt.xlim(80)\n",
    "print_all(margin_lists, \"scatter\", log_toggle=True)\n",
    "#print_all(ebit_list, \"scatter\", log_toggle=True)"
   ]
  },
  {
   "cell_type": "code",
   "execution_count": null,
   "metadata": {
    "id": "6585048f"
   },
   "outputs": [],
   "source": [
    "_max = -1\n",
    "max_lst = None\n",
    "for lst in ebit_list:\n",
    "    if len(lst) > _max:\n",
    "        _max = len(lst)\n",
    "        max_lst = lst"
   ]
  },
  {
   "cell_type": "code",
   "execution_count": null,
   "metadata": {
    "id": "591ba1f4"
   },
   "outputs": [],
   "source": [
    "df_big"
   ]
  },
  {
   "cell_type": "code",
   "execution_count": null,
   "metadata": {
    "id": "ac596dc5"
   },
   "outputs": [],
   "source": [
    "wandb.init()\n",
    "\n",
    "artifact = wandb.Artifact('mnist', type='dataset')\n",
    "artifact.add_dir('mnist/')\n",
    "wandb.log_artifact(artifact)"
   ]
  },
  {
   "cell_type": "code",
   "execution_count": null,
   "metadata": {
    "id": "56b7dbf9"
   },
   "outputs": [],
   "source": [
    "time_series_df_2, meta_df, fundamental_df, broker_df = get_data(lst_of_tickers[:5], params)\n",
    "time_series_df_2"
   ]
  },
  {
   "cell_type": "code",
   "execution_count": null,
   "metadata": {
    "id": "66b50e0e"
   },
   "outputs": [],
   "source": [
    "time_series_df_2[\"Number Of Stocks\"].isna().sum()"
   ]
  },
  {
   "cell_type": "code",
   "execution_count": null,
   "metadata": {
    "id": "a4657359"
   },
   "outputs": [],
   "source": [
    "time_series_df[\"Common Shares - Outstanding - Total\"].isna().sum()"
   ]
  },
  {
   "cell_type": "code",
   "execution_count": null,
   "metadata": {
    "id": "5ab00243"
   },
   "outputs": [],
   "source": [
    "time_series_df"
   ]
  },
  {
   "cell_type": "code",
   "execution_count": null,
   "metadata": {
    "id": "5a5d3c81"
   },
   "outputs": [],
   "source": [
    "pd.set_option('display.max_rows', 1000)\n",
    "time_series_df.to_excel(\"stock_data_2.xlsx\")"
   ]
  },
  {
   "cell_type": "code",
   "execution_count": null,
   "metadata": {
    "id": "69540527"
   },
   "outputs": [],
   "source": [
    "#Conclusion, makes small difference in time to process at server\n",
    "test_time = False\n",
    "\n",
    "if test_time: \n",
    "    params_single = {'SDate': start_date, 'EDate': end_date,'Frq': 'FQ','Period': 'FQ0'}\n",
    "    params_curn = {'SDate': start_date, 'EDate': end_date,'Frq': 'FQ','Period': 'FQ0', \"Curn\":\"USD\"}\n",
    "    \n",
    "    \n",
    "    start_time = time.time()\n",
    "    data,err = ek.get_data(osbx_companies.index[:3].to_list(), financials, params_single)\n",
    "    print(\"--- simple: %s seconds ---\" % (time.time() - start_time))\n",
    "\n",
    "    start_time = time.time()\n",
    "    data_usd,err = ek.get_data(osbx_companies.index[:3].to_list(), financials, params_curn)\n",
    "    print(\"--- Curn: %s seconds ---\" % (time.time() - start_time))\n",
    "\n",
    "    start_time = time.time()\n",
    "    data_all,err = ek.get_data(osbx_companies.index[:3].to_list(), financials, params)\n",
    "    print(\"--- Scale & Curn: %s seconds ---\" % (time.time() - start_time))"
   ]
  }
 ],
 "metadata": {
  "colab": {
   "include_colab_link": true,
   "name": "data_collection.ipynb",
   "provenance": []
  },
  "kernelspec": {
   "display_name": "Python 3",
   "language": "python",
   "name": "python3"
  },
  "language_info": {
   "codemirror_mode": {
    "name": "ipython",
    "version": 3
   },
   "file_extension": ".py",
   "mimetype": "text/x-python",
   "name": "python",
   "nbconvert_exporter": "python",
   "pygments_lexer": "ipython3",
   "version": "3.8.3"
  }
 },
 "nbformat": 4,
 "nbformat_minor": 5
}
